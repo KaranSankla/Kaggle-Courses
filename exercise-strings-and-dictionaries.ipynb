{
 "cells": [
  {
   "cell_type": "markdown",
   "id": "ed1ccc35",
   "metadata": {
    "papermill": {
     "duration": 0.00452,
     "end_time": "2025-06-01T15:25:00.082799",
     "exception": false,
     "start_time": "2025-06-01T15:25:00.078279",
     "status": "completed"
    },
    "tags": []
   },
   "source": [
    "**This notebook is an exercise in the [Python](https://www.kaggle.com/learn/python) course.  You can reference the tutorial at [this link](https://www.kaggle.com/colinmorris/strings-and-dictionaries).**\n",
    "\n",
    "---\n"
   ]
  },
  {
   "cell_type": "markdown",
   "id": "90a71371",
   "metadata": {
    "papermill": {
     "duration": 0.003689,
     "end_time": "2025-06-01T15:25:00.090928",
     "exception": false,
     "start_time": "2025-06-01T15:25:00.087239",
     "status": "completed"
    },
    "tags": []
   },
   "source": [
    "You are almost done with the course. Nice job!\n",
    "\n",
    "We have a couple more interesting problems for you before you go. \n",
    "\n",
    "As always, run the setup code below before working on the questions."
   ]
  },
  {
   "cell_type": "code",
   "execution_count": 1,
   "id": "69f0eb76",
   "metadata": {
    "execution": {
     "iopub.execute_input": "2025-06-01T15:25:00.100689Z",
     "iopub.status.busy": "2025-06-01T15:25:00.100361Z",
     "iopub.status.idle": "2025-06-01T15:25:02.193311Z",
     "shell.execute_reply": "2025-06-01T15:25:02.192222Z"
    },
    "papermill": {
     "duration": 2.100273,
     "end_time": "2025-06-01T15:25:02.195207",
     "exception": false,
     "start_time": "2025-06-01T15:25:00.094934",
     "status": "completed"
    },
    "tags": []
   },
   "outputs": [
    {
     "name": "stdout",
     "output_type": "stream",
     "text": [
      "Setup complete.\n"
     ]
    }
   ],
   "source": [
    "from learntools.core import binder; binder.bind(globals())\n",
    "from learntools.python.ex6 import *\n",
    "print('Setup complete.')"
   ]
  },
  {
   "cell_type": "markdown",
   "id": "f51bb8d2",
   "metadata": {
    "papermill": {
     "duration": 0.004509,
     "end_time": "2025-06-01T15:25:02.204447",
     "exception": false,
     "start_time": "2025-06-01T15:25:02.199938",
     "status": "completed"
    },
    "tags": []
   },
   "source": [
    "Let's start with a string lightning round to warm up. What are the lengths of the strings below?\n",
    "\n",
    "For each of the five strings below, predict what `len()` would return when passed that string. Use the variable `length` to record your answer, then run the cell to check whether you were right.  \n",
    "\n",
    "# 0a."
   ]
  },
  {
   "cell_type": "code",
   "execution_count": 2,
   "id": "a3231d41",
   "metadata": {
    "execution": {
     "iopub.execute_input": "2025-06-01T15:25:02.214210Z",
     "iopub.status.busy": "2025-06-01T15:25:02.213752Z",
     "iopub.status.idle": "2025-06-01T15:25:02.223105Z",
     "shell.execute_reply": "2025-06-01T15:25:02.222287Z"
    },
    "papermill": {
     "duration": 0.016287,
     "end_time": "2025-06-01T15:25:02.224806",
     "exception": false,
     "start_time": "2025-06-01T15:25:02.208519",
     "status": "completed"
    },
    "tags": []
   },
   "outputs": [
    {
     "data": {
      "application/javascript": [
       "parent.postMessage({\"jupyterEvent\": \"custom.exercise_interaction\", \"data\": {\"outcomeType\": 1, \"valueTowardsCompletion\": 0.3333333333333333, \"interactionType\": 1, \"questionType\": 1, \"questionId\": \"0.1_ZA\", \"learnToolsVersion\": \"0.3.5\", \"failureMessage\": \"\", \"exceptionClass\": \"\", \"trace\": \"\"}}, \"*\")"
      ],
      "text/plain": [
       "<IPython.core.display.Javascript object>"
      ]
     },
     "metadata": {},
     "output_type": "display_data"
    },
    {
     "data": {
      "text/markdown": [
       "<span style=\"color:#33cc33\">Correct:</span> \n",
       "\n",
       "The empty string has length zero. Note that the empty string is also the only string that Python considers as False when converting to boolean."
      ],
      "text/plain": [
       "Correct: \n",
       "\n",
       "The empty string has length zero. Note that the empty string is also the only string that Python considers as False when converting to boolean."
      ]
     },
     "metadata": {},
     "output_type": "display_data"
    }
   ],
   "source": [
    "a = \"\"\n",
    "length = 0\n",
    "q0.a.check()"
   ]
  },
  {
   "cell_type": "markdown",
   "id": "4e5c4d18",
   "metadata": {
    "papermill": {
     "duration": 0.003895,
     "end_time": "2025-06-01T15:25:02.233230",
     "exception": false,
     "start_time": "2025-06-01T15:25:02.229335",
     "status": "completed"
    },
    "tags": []
   },
   "source": [
    "# 0b."
   ]
  },
  {
   "cell_type": "code",
   "execution_count": 3,
   "id": "ac369923",
   "metadata": {
    "execution": {
     "iopub.execute_input": "2025-06-01T15:25:02.242646Z",
     "iopub.status.busy": "2025-06-01T15:25:02.242348Z",
     "iopub.status.idle": "2025-06-01T15:25:02.250970Z",
     "shell.execute_reply": "2025-06-01T15:25:02.249936Z"
    },
    "papermill": {
     "duration": 0.01522,
     "end_time": "2025-06-01T15:25:02.252516",
     "exception": false,
     "start_time": "2025-06-01T15:25:02.237296",
     "status": "completed"
    },
    "tags": []
   },
   "outputs": [
    {
     "data": {
      "application/javascript": [
       "parent.postMessage({\"jupyterEvent\": \"custom.exercise_interaction\", \"data\": {\"outcomeType\": 1, \"valueTowardsCompletion\": 0.3333333333333333, \"interactionType\": 1, \"questionType\": 1, \"questionId\": \"0.2_ZB\", \"learnToolsVersion\": \"0.3.5\", \"failureMessage\": \"\", \"exceptionClass\": \"\", \"trace\": \"\"}}, \"*\")"
      ],
      "text/plain": [
       "<IPython.core.display.Javascript object>"
      ]
     },
     "metadata": {},
     "output_type": "display_data"
    },
    {
     "data": {
      "text/markdown": [
       "<span style=\"color:#33cc33\">Correct:</span> \n",
       "\n",
       "Keep in mind Python includes spaces (and punctuation) when counting string length."
      ],
      "text/plain": [
       "Correct: \n",
       "\n",
       "Keep in mind Python includes spaces (and punctuation) when counting string length."
      ]
     },
     "metadata": {},
     "output_type": "display_data"
    }
   ],
   "source": [
    "b = \"it's ok\"\n",
    "length = 7\n",
    "q0.b.check()"
   ]
  },
  {
   "cell_type": "markdown",
   "id": "bf1f153a",
   "metadata": {
    "papermill": {
     "duration": 0.003986,
     "end_time": "2025-06-01T15:25:02.260946",
     "exception": false,
     "start_time": "2025-06-01T15:25:02.256960",
     "status": "completed"
    },
    "tags": []
   },
   "source": [
    "# 0c."
   ]
  },
  {
   "cell_type": "code",
   "execution_count": 4,
   "id": "a20f377d",
   "metadata": {
    "execution": {
     "iopub.execute_input": "2025-06-01T15:25:02.270827Z",
     "iopub.status.busy": "2025-06-01T15:25:02.270545Z",
     "iopub.status.idle": "2025-06-01T15:25:02.278988Z",
     "shell.execute_reply": "2025-06-01T15:25:02.277961Z"
    },
    "papermill": {
     "duration": 0.01603,
     "end_time": "2025-06-01T15:25:02.281286",
     "exception": false,
     "start_time": "2025-06-01T15:25:02.265256",
     "status": "completed"
    },
    "tags": []
   },
   "outputs": [
    {
     "data": {
      "application/javascript": [
       "parent.postMessage({\"jupyterEvent\": \"custom.exercise_interaction\", \"data\": {\"outcomeType\": 1, \"valueTowardsCompletion\": 0.3333333333333333, \"interactionType\": 1, \"questionType\": 1, \"questionId\": \"0.3_ZC\", \"learnToolsVersion\": \"0.3.5\", \"failureMessage\": \"\", \"exceptionClass\": \"\", \"trace\": \"\"}}, \"*\")"
      ],
      "text/plain": [
       "<IPython.core.display.Javascript object>"
      ]
     },
     "metadata": {},
     "output_type": "display_data"
    },
    {
     "data": {
      "text/markdown": [
       "<span style=\"color:#33cc33\">Correct:</span> \n",
       "\n",
       "Even though we use different syntax to create it, the string `c` is identical to `b`. In particular, note that the backslash is not part of the string, so it doesn't contribute to its length."
      ],
      "text/plain": [
       "Correct: \n",
       "\n",
       "Even though we use different syntax to create it, the string `c` is identical to `b`. In particular, note that the backslash is not part of the string, so it doesn't contribute to its length."
      ]
     },
     "metadata": {},
     "output_type": "display_data"
    }
   ],
   "source": [
    "c = 'it\\'s ok'\n",
    "length = 7\n",
    "q0.c.check()"
   ]
  },
  {
   "cell_type": "markdown",
   "id": "c02bbda4",
   "metadata": {
    "papermill": {
     "duration": 0.007385,
     "end_time": "2025-06-01T15:25:02.298243",
     "exception": false,
     "start_time": "2025-06-01T15:25:02.290858",
     "status": "completed"
    },
    "tags": []
   },
   "source": [
    "# 0d."
   ]
  },
  {
   "cell_type": "code",
   "execution_count": 5,
   "id": "45f92039",
   "metadata": {
    "execution": {
     "iopub.execute_input": "2025-06-01T15:25:02.313775Z",
     "iopub.status.busy": "2025-06-01T15:25:02.313341Z",
     "iopub.status.idle": "2025-06-01T15:25:02.324121Z",
     "shell.execute_reply": "2025-06-01T15:25:02.322708Z"
    },
    "papermill": {
     "duration": 0.022231,
     "end_time": "2025-06-01T15:25:02.327023",
     "exception": false,
     "start_time": "2025-06-01T15:25:02.304792",
     "status": "completed"
    },
    "tags": []
   },
   "outputs": [
    {
     "data": {
      "application/javascript": [
       "parent.postMessage({\"jupyterEvent\": \"custom.exercise_interaction\", \"data\": {\"outcomeType\": 1, \"valueTowardsCompletion\": 0.3333333333333333, \"interactionType\": 1, \"questionType\": 1, \"questionId\": \"0.4_ZD\", \"learnToolsVersion\": \"0.3.5\", \"failureMessage\": \"\", \"exceptionClass\": \"\", \"trace\": \"\"}}, \"*\")"
      ],
      "text/plain": [
       "<IPython.core.display.Javascript object>"
      ]
     },
     "metadata": {},
     "output_type": "display_data"
    },
    {
     "data": {
      "text/markdown": [
       "<span style=\"color:#33cc33\">Correct:</span> \n",
       "\n",
       "The fact that this string was created using triple-quote syntax doesn't make any difference in terms of its content or length. This string is exactly the same as `'hey'`."
      ],
      "text/plain": [
       "Correct: \n",
       "\n",
       "The fact that this string was created using triple-quote syntax doesn't make any difference in terms of its content or length. This string is exactly the same as `'hey'`."
      ]
     },
     "metadata": {},
     "output_type": "display_data"
    }
   ],
   "source": [
    "d = \"\"\"hey\"\"\"\n",
    "length = 3\n",
    "q0.d.check()"
   ]
  },
  {
   "cell_type": "markdown",
   "id": "815425dc",
   "metadata": {
    "papermill": {
     "duration": 0.005083,
     "end_time": "2025-06-01T15:25:02.340588",
     "exception": false,
     "start_time": "2025-06-01T15:25:02.335505",
     "status": "completed"
    },
    "tags": []
   },
   "source": [
    "# 0e."
   ]
  },
  {
   "cell_type": "code",
   "execution_count": 6,
   "id": "9bc48355",
   "metadata": {
    "execution": {
     "iopub.execute_input": "2025-06-01T15:25:02.353641Z",
     "iopub.status.busy": "2025-06-01T15:25:02.352929Z",
     "iopub.status.idle": "2025-06-01T15:25:02.362915Z",
     "shell.execute_reply": "2025-06-01T15:25:02.361719Z"
    },
    "papermill": {
     "duration": 0.019244,
     "end_time": "2025-06-01T15:25:02.364765",
     "exception": false,
     "start_time": "2025-06-01T15:25:02.345521",
     "status": "completed"
    },
    "tags": []
   },
   "outputs": [
    {
     "data": {
      "application/javascript": [
       "parent.postMessage({\"jupyterEvent\": \"custom.exercise_interaction\", \"data\": {\"outcomeType\": 1, \"valueTowardsCompletion\": 0.3333333333333333, \"interactionType\": 1, \"questionType\": 1, \"questionId\": \"0.5_ZE\", \"learnToolsVersion\": \"0.3.5\", \"failureMessage\": \"\", \"exceptionClass\": \"\", \"trace\": \"\"}}, \"*\")"
      ],
      "text/plain": [
       "<IPython.core.display.Javascript object>"
      ]
     },
     "metadata": {},
     "output_type": "display_data"
    },
    {
     "data": {
      "text/markdown": [
       "<span style=\"color:#33cc33\">Correct:</span> \n",
       "\n",
       "The newline character is just a single character! (Even though we represent it to Python using a combination of two characters.)"
      ],
      "text/plain": [
       "Correct: \n",
       "\n",
       "The newline character is just a single character! (Even though we represent it to Python using a combination of two characters.)"
      ]
     },
     "metadata": {},
     "output_type": "display_data"
    }
   ],
   "source": [
    "e = '\\n'\n",
    "length = 1\n",
    "q0.e.check()"
   ]
  },
  {
   "cell_type": "markdown",
   "id": "afb681d7",
   "metadata": {
    "papermill": {
     "duration": 0.00568,
     "end_time": "2025-06-01T15:25:02.375436",
     "exception": false,
     "start_time": "2025-06-01T15:25:02.369756",
     "status": "completed"
    },
    "tags": []
   },
   "source": [
    "# 1.\n",
    "\n",
    "There is a saying that \"Data scientists spend 80% of their time cleaning data, and 20% of their time complaining about cleaning data.\" Let's see if you can write a function to help clean US zip code data. Given a string, it should return whether or not that string represents a valid zip code. For our purposes, a valid zip code is any string consisting of exactly 5 digits.\n",
    "\n",
    "HINT: `str` has a method that will be useful here. Use `help(str)` to review a list of string methods."
   ]
  },
  {
   "cell_type": "code",
   "execution_count": 7,
   "id": "9aba2033",
   "metadata": {
    "execution": {
     "iopub.execute_input": "2025-06-01T15:25:02.386695Z",
     "iopub.status.busy": "2025-06-01T15:25:02.386363Z",
     "iopub.status.idle": "2025-06-01T15:25:02.394824Z",
     "shell.execute_reply": "2025-06-01T15:25:02.393782Z"
    },
    "papermill": {
     "duration": 0.015857,
     "end_time": "2025-06-01T15:25:02.396368",
     "exception": false,
     "start_time": "2025-06-01T15:25:02.380511",
     "status": "completed"
    },
    "tags": []
   },
   "outputs": [
    {
     "data": {
      "application/javascript": [
       "parent.postMessage({\"jupyterEvent\": \"custom.exercise_interaction\", \"data\": {\"outcomeType\": 1, \"valueTowardsCompletion\": 0.3333333333333333, \"interactionType\": 1, \"questionType\": 2, \"questionId\": \"1_ZipValidator\", \"learnToolsVersion\": \"0.3.5\", \"failureMessage\": \"\", \"exceptionClass\": \"\", \"trace\": \"\"}}, \"*\")"
      ],
      "text/plain": [
       "<IPython.core.display.Javascript object>"
      ]
     },
     "metadata": {},
     "output_type": "display_data"
    },
    {
     "data": {
      "text/markdown": [
       "<span style=\"color:#33cc33\">Correct</span>"
      ],
      "text/plain": [
       "Correct"
      ]
     },
     "metadata": {},
     "output_type": "display_data"
    }
   ],
   "source": [
    "def is_valid_zip(zip_code):\n",
    "    return  len(zip_code)==5 and str.isdigit(zip_code)\n",
    "    \n",
    "\n",
    "# Check your answer\n",
    "q1.check()"
   ]
  },
  {
   "cell_type": "code",
   "execution_count": 8,
   "id": "68df84f0",
   "metadata": {
    "execution": {
     "iopub.execute_input": "2025-06-01T15:25:02.408102Z",
     "iopub.status.busy": "2025-06-01T15:25:02.407766Z",
     "iopub.status.idle": "2025-06-01T15:25:02.412088Z",
     "shell.execute_reply": "2025-06-01T15:25:02.411161Z"
    },
    "papermill": {
     "duration": 0.011992,
     "end_time": "2025-06-01T15:25:02.413598",
     "exception": false,
     "start_time": "2025-06-01T15:25:02.401606",
     "status": "completed"
    },
    "tags": []
   },
   "outputs": [],
   "source": [
    "# #q1.hint()\n",
    "# q1.solution()"
   ]
  },
  {
   "cell_type": "markdown",
   "id": "00abc5ee",
   "metadata": {
    "papermill": {
     "duration": 0.004776,
     "end_time": "2025-06-01T15:25:02.423500",
     "exception": false,
     "start_time": "2025-06-01T15:25:02.418724",
     "status": "completed"
    },
    "tags": []
   },
   "source": [
    "# 2.\n",
    "\n",
    "A researcher has gathered thousands of news articles. But she wants to focus her attention on articles including a specific word. Complete the function below to help her filter her list of articles.\n",
    "\n",
    "Your function should meet the following criteria:\n",
    "\n",
    "- Do not include documents where the keyword string shows up only as a part of a larger word. For example, if she were looking for the keyword “closed”, you would not include the string “enclosed.” \n",
    "- She does not want you to distinguish upper case from lower case letters. So the phrase “Closed the case.” would be included when the keyword is “closed”\n",
    "- Do not let periods or commas affect what is matched. “It is closed.” would be included when the keyword is “closed”. But you can assume there are no other types of punctuation."
   ]
  },
  {
   "cell_type": "code",
   "execution_count": 9,
   "id": "5e2d2e32",
   "metadata": {
    "execution": {
     "iopub.execute_input": "2025-06-01T15:25:02.435656Z",
     "iopub.status.busy": "2025-06-01T15:25:02.435330Z",
     "iopub.status.idle": "2025-06-01T15:25:02.446533Z",
     "shell.execute_reply": "2025-06-01T15:25:02.445081Z"
    },
    "papermill": {
     "duration": 0.019959,
     "end_time": "2025-06-01T15:25:02.448981",
     "exception": false,
     "start_time": "2025-06-01T15:25:02.429022",
     "status": "completed"
    },
    "tags": []
   },
   "outputs": [
    {
     "data": {
      "application/javascript": [
       "parent.postMessage({\"jupyterEvent\": \"custom.exercise_interaction\", \"data\": {\"outcomeType\": 1, \"valueTowardsCompletion\": 0.3333333333333333, \"interactionType\": 1, \"questionType\": 2, \"questionId\": \"2_WordSearch\", \"learnToolsVersion\": \"0.3.5\", \"failureMessage\": \"\", \"exceptionClass\": \"\", \"trace\": \"\"}}, \"*\")"
      ],
      "text/plain": [
       "<IPython.core.display.Javascript object>"
      ]
     },
     "metadata": {},
     "output_type": "display_data"
    },
    {
     "data": {
      "text/markdown": [
       "<span style=\"color:#33cc33\">Correct</span>"
      ],
      "text/plain": [
       "Correct"
      ]
     },
     "metadata": {},
     "output_type": "display_data"
    }
   ],
   "source": [
    "def word_search(doc_list, keyword):\n",
    "    # list to hold the indices of matching documents\n",
    "    indices = [] \n",
    "    # Iterate through the indices (i) and elements (doc) of documents\n",
    "    for i, doc in enumerate(doc_list):\n",
    "        # Split the string doc into a list of words (according to whitespace)\n",
    "        tokens = doc.split()\n",
    "        # Make a transformed list where we 'normalize' each word to facilitate matching.\n",
    "        # Periods and commas are removed from the end of each word, and it's set to all lowercase.\n",
    "        normalized = [token.rstrip('.,').lower() for token in tokens]\n",
    "        # Is there a match? If so, update the list of matching indices.\n",
    "        if keyword.lower() in normalized:\n",
    "            indices.append(i)\n",
    "    return indices\n",
    "q2.check()"
   ]
  },
  {
   "cell_type": "code",
   "execution_count": 10,
   "id": "8e0c8dc3",
   "metadata": {
    "execution": {
     "iopub.execute_input": "2025-06-01T15:25:02.463794Z",
     "iopub.status.busy": "2025-06-01T15:25:02.463519Z",
     "iopub.status.idle": "2025-06-01T15:25:02.467953Z",
     "shell.execute_reply": "2025-06-01T15:25:02.466910Z"
    },
    "papermill": {
     "duration": 0.013892,
     "end_time": "2025-06-01T15:25:02.469837",
     "exception": false,
     "start_time": "2025-06-01T15:25:02.455945",
     "status": "completed"
    },
    "tags": []
   },
   "outputs": [],
   "source": [
    "# q2.hint()\n",
    "# q2.solution()"
   ]
  },
  {
   "cell_type": "markdown",
   "id": "2f15400b",
   "metadata": {
    "papermill": {
     "duration": 0.008432,
     "end_time": "2025-06-01T15:25:02.484096",
     "exception": false,
     "start_time": "2025-06-01T15:25:02.475664",
     "status": "completed"
    },
    "tags": []
   },
   "source": [
    "# 3.\n",
    "\n",
    "Now the researcher wants to supply multiple keywords to search for. Complete the function below to help her.\n",
    "\n",
    "(You're encouraged to use the `word_search` function you just wrote when implementing this function. Reusing code in this way makes your programs more robust and readable - and it saves typing!)"
   ]
  },
  {
   "cell_type": "code",
   "execution_count": 11,
   "id": "a61e774b",
   "metadata": {
    "execution": {
     "iopub.execute_input": "2025-06-01T15:25:02.513596Z",
     "iopub.status.busy": "2025-06-01T15:25:02.511807Z",
     "iopub.status.idle": "2025-06-01T15:25:02.530668Z",
     "shell.execute_reply": "2025-06-01T15:25:02.528266Z"
    },
    "papermill": {
     "duration": 0.037602,
     "end_time": "2025-06-01T15:25:02.533099",
     "exception": false,
     "start_time": "2025-06-01T15:25:02.495497",
     "status": "completed"
    },
    "tags": []
   },
   "outputs": [
    {
     "data": {
      "application/javascript": [
       "parent.postMessage({\"jupyterEvent\": \"custom.exercise_interaction\", \"data\": {\"outcomeType\": 1, \"valueTowardsCompletion\": 0.3333333333333333, \"interactionType\": 1, \"questionType\": 2, \"questionId\": \"3_MultiWordSearch\", \"learnToolsVersion\": \"0.3.5\", \"failureMessage\": \"\", \"exceptionClass\": \"\", \"trace\": \"\"}}, \"*\")"
      ],
      "text/plain": [
       "<IPython.core.display.Javascript object>"
      ]
     },
     "metadata": {},
     "output_type": "display_data"
    },
    {
     "data": {
      "text/markdown": [
       "<span style=\"color:#33cc33\">Correct</span>"
      ],
      "text/plain": [
       "Correct"
      ]
     },
     "metadata": {},
     "output_type": "display_data"
    }
   ],
   "source": [
    "def multi_word_search(documents, keywords):\n",
    "    keyword_to_indices = {}\n",
    "    for keyword in keywords:\n",
    "        keyword_to_indices[keyword] = word_search(documents, keyword)\n",
    "    return keyword_to_indices\n",
    "q3.check()"
   ]
  },
  {
   "cell_type": "code",
   "execution_count": 12,
   "id": "bebe883f",
   "metadata": {
    "execution": {
     "iopub.execute_input": "2025-06-01T15:25:02.557048Z",
     "iopub.status.busy": "2025-06-01T15:25:02.556580Z",
     "iopub.status.idle": "2025-06-01T15:25:02.571458Z",
     "shell.execute_reply": "2025-06-01T15:25:02.567955Z"
    },
    "papermill": {
     "duration": 0.029938,
     "end_time": "2025-06-01T15:25:02.575783",
     "exception": false,
     "start_time": "2025-06-01T15:25:02.545845",
     "status": "completed"
    },
    "tags": []
   },
   "outputs": [
    {
     "data": {
      "application/javascript": [
       "parent.postMessage({\"jupyterEvent\": \"custom.exercise_interaction\", \"data\": {\"interactionType\": 3, \"questionType\": 2, \"questionId\": \"3_MultiWordSearch\", \"learnToolsVersion\": \"0.3.5\", \"valueTowardsCompletion\": 0.0, \"failureMessage\": \"\", \"exceptionClass\": \"\", \"trace\": \"\", \"outcomeType\": 4}}, \"*\")"
      ],
      "text/plain": [
       "<IPython.core.display.Javascript object>"
      ]
     },
     "metadata": {},
     "output_type": "display_data"
    },
    {
     "data": {
      "text/markdown": [
       "<span style=\"color:#33cc99\">Solution:</span> \n",
       "```python\n",
       "def multi_word_search(documents, keywords):\n",
       "    keyword_to_indices = {}\n",
       "    for keyword in keywords:\n",
       "        keyword_to_indices[keyword] = word_search(documents, keyword)\n",
       "    return keyword_to_indices\n",
       "```"
      ],
      "text/plain": [
       "Solution: \n",
       "```python\n",
       "def multi_word_search(documents, keywords):\n",
       "    keyword_to_indices = {}\n",
       "    for keyword in keywords:\n",
       "        keyword_to_indices[keyword] = word_search(documents, keyword)\n",
       "    return keyword_to_indices\n",
       "```"
      ]
     },
     "metadata": {},
     "output_type": "display_data"
    }
   ],
   "source": [
    "q3.solution()"
   ]
  },
  {
   "cell_type": "markdown",
   "id": "c3b371cc",
   "metadata": {
    "papermill": {
     "duration": 0.008215,
     "end_time": "2025-06-01T15:25:02.596016",
     "exception": false,
     "start_time": "2025-06-01T15:25:02.587801",
     "status": "completed"
    },
    "tags": []
   },
   "source": [
    "# Keep Going\n",
    "\n",
    "You've learned a lot. But even the best programmers rely heavily on \"libraries\" of code from other programmers. You'll learn about that in **[the last lesson](https://www.kaggle.com/colinmorris/working-with-external-libraries)**.\n"
   ]
  },
  {
   "cell_type": "markdown",
   "id": "d98868b3",
   "metadata": {
    "papermill": {
     "duration": 0.005796,
     "end_time": "2025-06-01T15:25:02.610031",
     "exception": false,
     "start_time": "2025-06-01T15:25:02.604235",
     "status": "completed"
    },
    "tags": []
   },
   "source": [
    "---\n",
    "\n",
    "\n",
    "\n",
    "\n",
    "*Have questions or comments? Visit the [course discussion forum](https://www.kaggle.com/learn/python/discussion) to chat with other learners.*"
   ]
  }
 ],
 "metadata": {
  "kaggle": {
   "accelerator": "none",
   "dataSources": [],
   "isGpuEnabled": false,
   "isInternetEnabled": false,
   "language": "python",
   "sourceType": "notebook"
  },
  "kernelspec": {
   "display_name": "Python 3",
   "language": "python",
   "name": "python3"
  },
  "language_info": {
   "codemirror_mode": {
    "name": "ipython",
    "version": 3
   },
   "file_extension": ".py",
   "mimetype": "text/x-python",
   "name": "python",
   "nbconvert_exporter": "python",
   "pygments_lexer": "ipython3",
   "version": "3.11.11"
  },
  "learntools_metadata": {
   "lesson_index": 5,
   "type": "exercise"
  },
  "papermill": {
   "default_parameters": {},
   "duration": 8.232609,
   "end_time": "2025-06-01T15:25:03.237000",
   "environment_variables": {},
   "exception": null,
   "input_path": "__notebook__.ipynb",
   "output_path": "__notebook__.ipynb",
   "parameters": {},
   "start_time": "2025-06-01T15:24:55.004391",
   "version": "2.6.0"
  }
 },
 "nbformat": 4,
 "nbformat_minor": 5
}
