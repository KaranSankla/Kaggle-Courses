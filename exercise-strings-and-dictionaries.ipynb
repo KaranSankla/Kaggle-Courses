{
 "cells": [
  {
   "cell_type": "markdown",
   "id": "1368792a",
   "metadata": {
    "papermill": {
     "duration": 0.004784,
     "end_time": "2025-06-01T14:59:52.992810",
     "exception": false,
     "start_time": "2025-06-01T14:59:52.988026",
     "status": "completed"
    },
    "tags": []
   },
   "source": [
    "**This notebook is an exercise in the [Python](https://www.kaggle.com/learn/python) course.  You can reference the tutorial at [this link](https://www.kaggle.com/colinmorris/strings-and-dictionaries).**\n",
    "\n",
    "---\n"
   ]
  },
  {
   "cell_type": "markdown",
   "id": "c7efa9fc",
   "metadata": {
    "papermill": {
     "duration": 0.003699,
     "end_time": "2025-06-01T14:59:53.000832",
     "exception": false,
     "start_time": "2025-06-01T14:59:52.997133",
     "status": "completed"
    },
    "tags": []
   },
   "source": [
    "You are almost done with the course. Nice job!\n",
    "\n",
    "We have a couple more interesting problems for you before you go. \n",
    "\n",
    "As always, run the setup code below before working on the questions."
   ]
  },
  {
   "cell_type": "code",
   "execution_count": 1,
   "id": "9dfb8080",
   "metadata": {
    "execution": {
     "iopub.execute_input": "2025-06-01T14:59:53.010298Z",
     "iopub.status.busy": "2025-06-01T14:59:53.009874Z",
     "iopub.status.idle": "2025-06-01T14:59:55.342692Z",
     "shell.execute_reply": "2025-06-01T14:59:55.341504Z"
    },
    "papermill": {
     "duration": 2.339448,
     "end_time": "2025-06-01T14:59:55.344309",
     "exception": false,
     "start_time": "2025-06-01T14:59:53.004861",
     "status": "completed"
    },
    "tags": []
   },
   "outputs": [
    {
     "name": "stdout",
     "output_type": "stream",
     "text": [
      "Setup complete.\n"
     ]
    }
   ],
   "source": [
    "from learntools.core import binder; binder.bind(globals())\n",
    "from learntools.python.ex6 import *\n",
    "print('Setup complete.')"
   ]
  },
  {
   "cell_type": "markdown",
   "id": "58f53bd7",
   "metadata": {
    "papermill": {
     "duration": 0.003963,
     "end_time": "2025-06-01T14:59:55.352782",
     "exception": false,
     "start_time": "2025-06-01T14:59:55.348819",
     "status": "completed"
    },
    "tags": []
   },
   "source": [
    "Let's start with a string lightning round to warm up. What are the lengths of the strings below?\n",
    "\n",
    "For each of the five strings below, predict what `len()` would return when passed that string. Use the variable `length` to record your answer, then run the cell to check whether you were right.  \n",
    "\n",
    "# 0a."
   ]
  },
  {
   "cell_type": "code",
   "execution_count": 2,
   "id": "97d6583c",
   "metadata": {
    "execution": {
     "iopub.execute_input": "2025-06-01T14:59:55.362523Z",
     "iopub.status.busy": "2025-06-01T14:59:55.361944Z",
     "iopub.status.idle": "2025-06-01T14:59:55.373203Z",
     "shell.execute_reply": "2025-06-01T14:59:55.372208Z"
    },
    "papermill": {
     "duration": 0.0181,
     "end_time": "2025-06-01T14:59:55.374876",
     "exception": false,
     "start_time": "2025-06-01T14:59:55.356776",
     "status": "completed"
    },
    "tags": []
   },
   "outputs": [
    {
     "data": {
      "application/javascript": [
       "parent.postMessage({\"jupyterEvent\": \"custom.exercise_interaction\", \"data\": {\"outcomeType\": 1, \"valueTowardsCompletion\": 0.3333333333333333, \"interactionType\": 1, \"questionType\": 1, \"questionId\": \"0.1_ZA\", \"learnToolsVersion\": \"0.3.5\", \"failureMessage\": \"\", \"exceptionClass\": \"\", \"trace\": \"\"}}, \"*\")"
      ],
      "text/plain": [
       "<IPython.core.display.Javascript object>"
      ]
     },
     "metadata": {},
     "output_type": "display_data"
    },
    {
     "data": {
      "text/markdown": [
       "<span style=\"color:#33cc33\">Correct:</span> \n",
       "\n",
       "The empty string has length zero. Note that the empty string is also the only string that Python considers as False when converting to boolean."
      ],
      "text/plain": [
       "Correct: \n",
       "\n",
       "The empty string has length zero. Note that the empty string is also the only string that Python considers as False when converting to boolean."
      ]
     },
     "metadata": {},
     "output_type": "display_data"
    }
   ],
   "source": [
    "a = \"\"\n",
    "length = 0\n",
    "q0.a.check()"
   ]
  },
  {
   "cell_type": "markdown",
   "id": "0d5d0fa6",
   "metadata": {
    "papermill": {
     "duration": 0.003854,
     "end_time": "2025-06-01T14:59:55.383207",
     "exception": false,
     "start_time": "2025-06-01T14:59:55.379353",
     "status": "completed"
    },
    "tags": []
   },
   "source": [
    "# 0b."
   ]
  },
  {
   "cell_type": "code",
   "execution_count": 3,
   "id": "80ac9e35",
   "metadata": {
    "execution": {
     "iopub.execute_input": "2025-06-01T14:59:55.393236Z",
     "iopub.status.busy": "2025-06-01T14:59:55.392384Z",
     "iopub.status.idle": "2025-06-01T14:59:55.400460Z",
     "shell.execute_reply": "2025-06-01T14:59:55.399399Z"
    },
    "papermill": {
     "duration": 0.014926,
     "end_time": "2025-06-01T14:59:55.402174",
     "exception": false,
     "start_time": "2025-06-01T14:59:55.387248",
     "status": "completed"
    },
    "tags": []
   },
   "outputs": [
    {
     "data": {
      "application/javascript": [
       "parent.postMessage({\"jupyterEvent\": \"custom.exercise_interaction\", \"data\": {\"outcomeType\": 1, \"valueTowardsCompletion\": 0.3333333333333333, \"interactionType\": 1, \"questionType\": 1, \"questionId\": \"0.2_ZB\", \"learnToolsVersion\": \"0.3.5\", \"failureMessage\": \"\", \"exceptionClass\": \"\", \"trace\": \"\"}}, \"*\")"
      ],
      "text/plain": [
       "<IPython.core.display.Javascript object>"
      ]
     },
     "metadata": {},
     "output_type": "display_data"
    },
    {
     "data": {
      "text/markdown": [
       "<span style=\"color:#33cc33\">Correct:</span> \n",
       "\n",
       "Keep in mind Python includes spaces (and punctuation) when counting string length."
      ],
      "text/plain": [
       "Correct: \n",
       "\n",
       "Keep in mind Python includes spaces (and punctuation) when counting string length."
      ]
     },
     "metadata": {},
     "output_type": "display_data"
    }
   ],
   "source": [
    "b = \"it's ok\"\n",
    "length = 7\n",
    "q0.b.check()"
   ]
  },
  {
   "cell_type": "markdown",
   "id": "3542dd03",
   "metadata": {
    "papermill": {
     "duration": 0.004523,
     "end_time": "2025-06-01T14:59:55.411207",
     "exception": false,
     "start_time": "2025-06-01T14:59:55.406684",
     "status": "completed"
    },
    "tags": []
   },
   "source": [
    "# 0c."
   ]
  },
  {
   "cell_type": "code",
   "execution_count": 4,
   "id": "945b6d2c",
   "metadata": {
    "execution": {
     "iopub.execute_input": "2025-06-01T14:59:55.422435Z",
     "iopub.status.busy": "2025-06-01T14:59:55.421218Z",
     "iopub.status.idle": "2025-06-01T14:59:55.430335Z",
     "shell.execute_reply": "2025-06-01T14:59:55.429329Z"
    },
    "papermill": {
     "duration": 0.016589,
     "end_time": "2025-06-01T14:59:55.432370",
     "exception": false,
     "start_time": "2025-06-01T14:59:55.415781",
     "status": "completed"
    },
    "tags": []
   },
   "outputs": [
    {
     "data": {
      "application/javascript": [
       "parent.postMessage({\"jupyterEvent\": \"custom.exercise_interaction\", \"data\": {\"outcomeType\": 1, \"valueTowardsCompletion\": 0.3333333333333333, \"interactionType\": 1, \"questionType\": 1, \"questionId\": \"0.3_ZC\", \"learnToolsVersion\": \"0.3.5\", \"failureMessage\": \"\", \"exceptionClass\": \"\", \"trace\": \"\"}}, \"*\")"
      ],
      "text/plain": [
       "<IPython.core.display.Javascript object>"
      ]
     },
     "metadata": {},
     "output_type": "display_data"
    },
    {
     "data": {
      "text/markdown": [
       "<span style=\"color:#33cc33\">Correct:</span> \n",
       "\n",
       "Even though we use different syntax to create it, the string `c` is identical to `b`. In particular, note that the backslash is not part of the string, so it doesn't contribute to its length."
      ],
      "text/plain": [
       "Correct: \n",
       "\n",
       "Even though we use different syntax to create it, the string `c` is identical to `b`. In particular, note that the backslash is not part of the string, so it doesn't contribute to its length."
      ]
     },
     "metadata": {},
     "output_type": "display_data"
    }
   ],
   "source": [
    "c = 'it\\'s ok'\n",
    "length = 7\n",
    "q0.c.check()"
   ]
  },
  {
   "cell_type": "markdown",
   "id": "3af9a694",
   "metadata": {
    "papermill": {
     "duration": 0.007715,
     "end_time": "2025-06-01T14:59:55.448248",
     "exception": false,
     "start_time": "2025-06-01T14:59:55.440533",
     "status": "completed"
    },
    "tags": []
   },
   "source": [
    "# 0d."
   ]
  },
  {
   "cell_type": "code",
   "execution_count": 5,
   "id": "ec7466c0",
   "metadata": {
    "execution": {
     "iopub.execute_input": "2025-06-01T14:59:55.463217Z",
     "iopub.status.busy": "2025-06-01T14:59:55.462833Z",
     "iopub.status.idle": "2025-06-01T14:59:55.471530Z",
     "shell.execute_reply": "2025-06-01T14:59:55.470702Z"
    },
    "papermill": {
     "duration": 0.017001,
     "end_time": "2025-06-01T14:59:55.473076",
     "exception": false,
     "start_time": "2025-06-01T14:59:55.456075",
     "status": "completed"
    },
    "tags": []
   },
   "outputs": [
    {
     "data": {
      "application/javascript": [
       "parent.postMessage({\"jupyterEvent\": \"custom.exercise_interaction\", \"data\": {\"outcomeType\": 1, \"valueTowardsCompletion\": 0.3333333333333333, \"interactionType\": 1, \"questionType\": 1, \"questionId\": \"0.4_ZD\", \"learnToolsVersion\": \"0.3.5\", \"failureMessage\": \"\", \"exceptionClass\": \"\", \"trace\": \"\"}}, \"*\")"
      ],
      "text/plain": [
       "<IPython.core.display.Javascript object>"
      ]
     },
     "metadata": {},
     "output_type": "display_data"
    },
    {
     "data": {
      "text/markdown": [
       "<span style=\"color:#33cc33\">Correct:</span> \n",
       "\n",
       "The fact that this string was created using triple-quote syntax doesn't make any difference in terms of its content or length. This string is exactly the same as `'hey'`."
      ],
      "text/plain": [
       "Correct: \n",
       "\n",
       "The fact that this string was created using triple-quote syntax doesn't make any difference in terms of its content or length. This string is exactly the same as `'hey'`."
      ]
     },
     "metadata": {},
     "output_type": "display_data"
    }
   ],
   "source": [
    "d = \"\"\"hey\"\"\"\n",
    "length = 3\n",
    "q0.d.check()"
   ]
  },
  {
   "cell_type": "markdown",
   "id": "0d4be98b",
   "metadata": {
    "papermill": {
     "duration": 0.0051,
     "end_time": "2025-06-01T14:59:55.483143",
     "exception": false,
     "start_time": "2025-06-01T14:59:55.478043",
     "status": "completed"
    },
    "tags": []
   },
   "source": [
    "# 0e."
   ]
  },
  {
   "cell_type": "code",
   "execution_count": 6,
   "id": "34f35977",
   "metadata": {
    "execution": {
     "iopub.execute_input": "2025-06-01T14:59:55.494869Z",
     "iopub.status.busy": "2025-06-01T14:59:55.494430Z",
     "iopub.status.idle": "2025-06-01T14:59:55.502958Z",
     "shell.execute_reply": "2025-06-01T14:59:55.501944Z"
    },
    "papermill": {
     "duration": 0.016577,
     "end_time": "2025-06-01T14:59:55.504502",
     "exception": false,
     "start_time": "2025-06-01T14:59:55.487925",
     "status": "completed"
    },
    "tags": []
   },
   "outputs": [
    {
     "data": {
      "application/javascript": [
       "parent.postMessage({\"jupyterEvent\": \"custom.exercise_interaction\", \"data\": {\"outcomeType\": 1, \"valueTowardsCompletion\": 0.3333333333333333, \"interactionType\": 1, \"questionType\": 1, \"questionId\": \"0.5_ZE\", \"learnToolsVersion\": \"0.3.5\", \"failureMessage\": \"\", \"exceptionClass\": \"\", \"trace\": \"\"}}, \"*\")"
      ],
      "text/plain": [
       "<IPython.core.display.Javascript object>"
      ]
     },
     "metadata": {},
     "output_type": "display_data"
    },
    {
     "data": {
      "text/markdown": [
       "<span style=\"color:#33cc33\">Correct:</span> \n",
       "\n",
       "The newline character is just a single character! (Even though we represent it to Python using a combination of two characters.)"
      ],
      "text/plain": [
       "Correct: \n",
       "\n",
       "The newline character is just a single character! (Even though we represent it to Python using a combination of two characters.)"
      ]
     },
     "metadata": {},
     "output_type": "display_data"
    }
   ],
   "source": [
    "e = '\\n'\n",
    "length = 1\n",
    "q0.e.check()"
   ]
  },
  {
   "cell_type": "markdown",
   "id": "f9a1c832",
   "metadata": {
    "papermill": {
     "duration": 0.005899,
     "end_time": "2025-06-01T14:59:55.515913",
     "exception": false,
     "start_time": "2025-06-01T14:59:55.510014",
     "status": "completed"
    },
    "tags": []
   },
   "source": [
    "# 1.\n",
    "\n",
    "There is a saying that \"Data scientists spend 80% of their time cleaning data, and 20% of their time complaining about cleaning data.\" Let's see if you can write a function to help clean US zip code data. Given a string, it should return whether or not that string represents a valid zip code. For our purposes, a valid zip code is any string consisting of exactly 5 digits.\n",
    "\n",
    "HINT: `str` has a method that will be useful here. Use `help(str)` to review a list of string methods."
   ]
  },
  {
   "cell_type": "code",
   "execution_count": 7,
   "id": "23b98d6f",
   "metadata": {
    "execution": {
     "iopub.execute_input": "2025-06-01T14:59:55.527512Z",
     "iopub.status.busy": "2025-06-01T14:59:55.526699Z",
     "iopub.status.idle": "2025-06-01T14:59:55.535323Z",
     "shell.execute_reply": "2025-06-01T14:59:55.534503Z"
    },
    "papermill": {
     "duration": 0.016062,
     "end_time": "2025-06-01T14:59:55.536859",
     "exception": false,
     "start_time": "2025-06-01T14:59:55.520797",
     "status": "completed"
    },
    "tags": []
   },
   "outputs": [
    {
     "data": {
      "application/javascript": [
       "parent.postMessage({\"jupyterEvent\": \"custom.exercise_interaction\", \"data\": {\"outcomeType\": 1, \"valueTowardsCompletion\": 0.3333333333333333, \"interactionType\": 1, \"questionType\": 2, \"questionId\": \"1_ZipValidator\", \"learnToolsVersion\": \"0.3.5\", \"failureMessage\": \"\", \"exceptionClass\": \"\", \"trace\": \"\"}}, \"*\")"
      ],
      "text/plain": [
       "<IPython.core.display.Javascript object>"
      ]
     },
     "metadata": {},
     "output_type": "display_data"
    },
    {
     "data": {
      "text/markdown": [
       "<span style=\"color:#33cc33\">Correct</span>"
      ],
      "text/plain": [
       "Correct"
      ]
     },
     "metadata": {},
     "output_type": "display_data"
    }
   ],
   "source": [
    "def is_valid_zip(zip_code):\n",
    "    return  len(zip_code)==5 and str.isdigit(zip_code)\n",
    "    \n",
    "\n",
    "# Check your answer\n",
    "q1.check()"
   ]
  },
  {
   "cell_type": "code",
   "execution_count": 8,
   "id": "78404412",
   "metadata": {
    "execution": {
     "iopub.execute_input": "2025-06-01T14:59:55.548980Z",
     "iopub.status.busy": "2025-06-01T14:59:55.548191Z",
     "iopub.status.idle": "2025-06-01T14:59:55.553016Z",
     "shell.execute_reply": "2025-06-01T14:59:55.552031Z"
    },
    "papermill": {
     "duration": 0.012623,
     "end_time": "2025-06-01T14:59:55.554709",
     "exception": false,
     "start_time": "2025-06-01T14:59:55.542086",
     "status": "completed"
    },
    "tags": []
   },
   "outputs": [],
   "source": [
    "# #q1.hint()\n",
    "# q1.solution()"
   ]
  },
  {
   "cell_type": "markdown",
   "id": "f2c28b27",
   "metadata": {
    "papermill": {
     "duration": 0.005856,
     "end_time": "2025-06-01T14:59:55.565961",
     "exception": false,
     "start_time": "2025-06-01T14:59:55.560105",
     "status": "completed"
    },
    "tags": []
   },
   "source": [
    "# 2.\n",
    "\n",
    "A researcher has gathered thousands of news articles. But she wants to focus her attention on articles including a specific word. Complete the function below to help her filter her list of articles.\n",
    "\n",
    "Your function should meet the following criteria:\n",
    "\n",
    "- Do not include documents where the keyword string shows up only as a part of a larger word. For example, if she were looking for the keyword “closed”, you would not include the string “enclosed.” \n",
    "- She does not want you to distinguish upper case from lower case letters. So the phrase “Closed the case.” would be included when the keyword is “closed”\n",
    "- Do not let periods or commas affect what is matched. “It is closed.” would be included when the keyword is “closed”. But you can assume there are no other types of punctuation."
   ]
  },
  {
   "cell_type": "code",
   "execution_count": 9,
   "id": "86623754",
   "metadata": {
    "execution": {
     "iopub.execute_input": "2025-06-01T14:59:55.577788Z",
     "iopub.status.busy": "2025-06-01T14:59:55.577366Z",
     "iopub.status.idle": "2025-06-01T14:59:55.585015Z",
     "shell.execute_reply": "2025-06-01T14:59:55.583871Z"
    },
    "papermill": {
     "duration": 0.015742,
     "end_time": "2025-06-01T14:59:55.586768",
     "exception": false,
     "start_time": "2025-06-01T14:59:55.571026",
     "status": "completed"
    },
    "tags": []
   },
   "outputs": [],
   "source": [
    "def word_search(doc_list, keyword):\n",
    "    # list to hold the indices of matching documents\n",
    "    indices = [] \n",
    "    # Iterate through the indices (i) and elements (doc) of documents\n",
    "    for i, doc in enumerate(doc_list):\n",
    "        # Split the string doc into a list of words (according to whitespace)\n",
    "        tokens = doc.split()\n",
    "        # Make a transformed list where we 'normalize' each word to facilitate matching.\n",
    "        # Periods and commas are removed from the end of each word, and it's set to all lowercase.\n",
    "        normalized = [token.rstrip('.,').lower() for token in tokens]\n",
    "        # Is there a match? If so, update the list of matching indices.\n",
    "        if keyword.lower() in normalized:\n",
    "            indices.append(i)\n",
    "    return indices"
   ]
  },
  {
   "cell_type": "code",
   "execution_count": 10,
   "id": "7ed02468",
   "metadata": {
    "execution": {
     "iopub.execute_input": "2025-06-01T14:59:55.599062Z",
     "iopub.status.busy": "2025-06-01T14:59:55.598026Z",
     "iopub.status.idle": "2025-06-01T14:59:55.602510Z",
     "shell.execute_reply": "2025-06-01T14:59:55.601415Z"
    },
    "papermill": {
     "duration": 0.012384,
     "end_time": "2025-06-01T14:59:55.604431",
     "exception": false,
     "start_time": "2025-06-01T14:59:55.592047",
     "status": "completed"
    },
    "tags": []
   },
   "outputs": [],
   "source": [
    "# q2.hint()\n",
    "# q2.solution()"
   ]
  },
  {
   "cell_type": "markdown",
   "id": "d1921de2",
   "metadata": {
    "papermill": {
     "duration": 0.005844,
     "end_time": "2025-06-01T14:59:55.619373",
     "exception": false,
     "start_time": "2025-06-01T14:59:55.613529",
     "status": "completed"
    },
    "tags": []
   },
   "source": [
    "# 3.\n",
    "\n",
    "Now the researcher wants to supply multiple keywords to search for. Complete the function below to help her.\n",
    "\n",
    "(You're encouraged to use the `word_search` function you just wrote when implementing this function. Reusing code in this way makes your programs more robust and readable - and it saves typing!)"
   ]
  },
  {
   "cell_type": "code",
   "execution_count": 11,
   "id": "e56d34ce",
   "metadata": {
    "execution": {
     "iopub.execute_input": "2025-06-01T14:59:55.631365Z",
     "iopub.status.busy": "2025-06-01T14:59:55.630533Z",
     "iopub.status.idle": "2025-06-01T14:59:55.640016Z",
     "shell.execute_reply": "2025-06-01T14:59:55.639147Z"
    },
    "papermill": {
     "duration": 0.017076,
     "end_time": "2025-06-01T14:59:55.641475",
     "exception": false,
     "start_time": "2025-06-01T14:59:55.624399",
     "status": "completed"
    },
    "tags": []
   },
   "outputs": [
    {
     "data": {
      "application/javascript": [
       "parent.postMessage({\"jupyterEvent\": \"custom.exercise_interaction\", \"data\": {\"outcomeType\": 1, \"valueTowardsCompletion\": 0.3333333333333333, \"interactionType\": 1, \"questionType\": 2, \"questionId\": \"3_MultiWordSearch\", \"learnToolsVersion\": \"0.3.5\", \"failureMessage\": \"\", \"exceptionClass\": \"\", \"trace\": \"\"}}, \"*\")"
      ],
      "text/plain": [
       "<IPython.core.display.Javascript object>"
      ]
     },
     "metadata": {},
     "output_type": "display_data"
    },
    {
     "data": {
      "text/markdown": [
       "<span style=\"color:#33cc33\">Correct</span>"
      ],
      "text/plain": [
       "Correct"
      ]
     },
     "metadata": {},
     "output_type": "display_data"
    }
   ],
   "source": [
    "def multi_word_search(documents, keywords):\n",
    "    keyword_to_indices = {}\n",
    "    for keyword in keywords:\n",
    "        keyword_to_indices[keyword] = word_search(documents, keyword)\n",
    "    return keyword_to_indices\n",
    "q3.check()"
   ]
  },
  {
   "cell_type": "code",
   "execution_count": 12,
   "id": "e2dde2f2",
   "metadata": {
    "execution": {
     "iopub.execute_input": "2025-06-01T14:59:55.653825Z",
     "iopub.status.busy": "2025-06-01T14:59:55.653408Z",
     "iopub.status.idle": "2025-06-01T14:59:55.659097Z",
     "shell.execute_reply": "2025-06-01T14:59:55.658026Z"
    },
    "papermill": {
     "duration": 0.014228,
     "end_time": "2025-06-01T14:59:55.661087",
     "exception": false,
     "start_time": "2025-06-01T14:59:55.646859",
     "status": "completed"
    },
    "tags": []
   },
   "outputs": [],
   "source": [
    "# q3.solution()"
   ]
  },
  {
   "cell_type": "markdown",
   "id": "acaef472",
   "metadata": {
    "papermill": {
     "duration": 0.006572,
     "end_time": "2025-06-01T14:59:55.673360",
     "exception": false,
     "start_time": "2025-06-01T14:59:55.666788",
     "status": "completed"
    },
    "tags": []
   },
   "source": [
    "# Keep Going\n",
    "\n",
    "You've learned a lot. But even the best programmers rely heavily on \"libraries\" of code from other programmers. You'll learn about that in **[the last lesson](https://www.kaggle.com/colinmorris/working-with-external-libraries)**.\n"
   ]
  },
  {
   "cell_type": "markdown",
   "id": "49e1ccd6",
   "metadata": {
    "papermill": {
     "duration": 0.005198,
     "end_time": "2025-06-01T14:59:55.684021",
     "exception": false,
     "start_time": "2025-06-01T14:59:55.678823",
     "status": "completed"
    },
    "tags": []
   },
   "source": [
    "---\n",
    "\n",
    "\n",
    "\n",
    "\n",
    "*Have questions or comments? Visit the [course discussion forum](https://www.kaggle.com/learn/python/discussion) to chat with other learners.*"
   ]
  }
 ],
 "metadata": {
  "kaggle": {
   "accelerator": "none",
   "dataSources": [],
   "isGpuEnabled": false,
   "isInternetEnabled": false,
   "language": "python",
   "sourceType": "notebook"
  },
  "kernelspec": {
   "display_name": "Python 3",
   "language": "python",
   "name": "python3"
  },
  "language_info": {
   "codemirror_mode": {
    "name": "ipython",
    "version": 3
   },
   "file_extension": ".py",
   "mimetype": "text/x-python",
   "name": "python",
   "nbconvert_exporter": "python",
   "pygments_lexer": "ipython3",
   "version": "3.11.11"
  },
  "learntools_metadata": {
   "lesson_index": 5,
   "type": "exercise"
  },
  "papermill": {
   "default_parameters": {},
   "duration": 8.66195,
   "end_time": "2025-06-01T14:59:56.311422",
   "environment_variables": {},
   "exception": null,
   "input_path": "__notebook__.ipynb",
   "output_path": "__notebook__.ipynb",
   "parameters": {},
   "start_time": "2025-06-01T14:59:47.649472",
   "version": "2.6.0"
  }
 },
 "nbformat": 4,
 "nbformat_minor": 5
}
