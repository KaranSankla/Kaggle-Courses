{
 "cells": [
  {
   "cell_type": "markdown",
   "id": "bf1c027b",
   "metadata": {
    "papermill": {
     "duration": 0.004201,
     "end_time": "2025-05-31T08:01:09.761096",
     "exception": false,
     "start_time": "2025-05-31T08:01:09.756895",
     "status": "completed"
    },
    "tags": []
   },
   "source": [
    "**This notebook is an exercise in the [Python](https://www.kaggle.com/learn/python) course.  You can reference the tutorial at [this link](https://www.kaggle.com/colinmorris/functions-and-getting-help).**\n",
    "\n",
    "---\n"
   ]
  },
  {
   "cell_type": "markdown",
   "id": "1e73221b",
   "metadata": {
    "papermill": {
     "duration": 0.003217,
     "end_time": "2025-05-31T08:01:09.767873",
     "exception": false,
     "start_time": "2025-05-31T08:01:09.764656",
     "status": "completed"
    },
    "tags": []
   },
   "source": [
    "Functions are powerful. Try writing some yourself.\n",
    "\n",
    "As before, don't forget to run the setup code below before jumping into question 1."
   ]
  },
  {
   "cell_type": "code",
   "execution_count": 1,
   "id": "58827b58",
   "metadata": {
    "_kg_hide-input": true,
    "_kg_hide-output": true,
    "execution": {
     "iopub.execute_input": "2025-05-31T08:01:09.776375Z",
     "iopub.status.busy": "2025-05-31T08:01:09.775600Z",
     "iopub.status.idle": "2025-05-31T08:01:11.850667Z",
     "shell.execute_reply": "2025-05-31T08:01:11.849616Z"
    },
    "papermill": {
     "duration": 2.080815,
     "end_time": "2025-05-31T08:01:11.852177",
     "exception": false,
     "start_time": "2025-05-31T08:01:09.771362",
     "status": "completed"
    },
    "tags": []
   },
   "outputs": [
    {
     "name": "stdout",
     "output_type": "stream",
     "text": [
      "Setup complete.\n"
     ]
    }
   ],
   "source": [
    "# SETUP. You don't need to worry for now about what this code does or how it works.\n",
    "from learntools.core import binder; binder.bind(globals())\n",
    "from learntools.python.ex2 import *\n",
    "print('Setup complete.')"
   ]
  },
  {
   "cell_type": "markdown",
   "id": "904a0f48",
   "metadata": {
    "papermill": {
     "duration": 0.003391,
     "end_time": "2025-05-31T08:01:11.859279",
     "exception": false,
     "start_time": "2025-05-31T08:01:11.855888",
     "status": "completed"
    },
    "tags": []
   },
   "source": [
    "# 1.\n",
    "\n",
    "Complete the body of the following function according to its docstring.\n",
    "\n",
    "HINT: Python has a built-in function `round`."
   ]
  },
  {
   "cell_type": "code",
   "execution_count": 2,
   "id": "e09c0c6e",
   "metadata": {
    "execution": {
     "iopub.execute_input": "2025-05-31T08:01:11.867375Z",
     "iopub.status.busy": "2025-05-31T08:01:11.866971Z",
     "iopub.status.idle": "2025-05-31T08:01:11.875929Z",
     "shell.execute_reply": "2025-05-31T08:01:11.875086Z"
    },
    "papermill": {
     "duration": 0.014581,
     "end_time": "2025-05-31T08:01:11.877309",
     "exception": false,
     "start_time": "2025-05-31T08:01:11.862728",
     "status": "completed"
    },
    "tags": []
   },
   "outputs": [
    {
     "data": {
      "application/javascript": [
       "parent.postMessage({\"jupyterEvent\": \"custom.exercise_interaction\", \"data\": {\"outcomeType\": 2, \"failureMessage\": \"Expected return value of `1.0` given `num=1.000001`, but got `0.0` instead.\", \"interactionType\": 1, \"questionType\": 2, \"questionId\": \"1_RoundFunctionProblem\", \"learnToolsVersion\": \"0.3.5\", \"valueTowardsCompletion\": 0.0, \"exceptionClass\": \"\", \"trace\": \"\"}}, \"*\")"
      ],
      "text/plain": [
       "<IPython.core.display.Javascript object>"
      ]
     },
     "metadata": {},
     "output_type": "display_data"
    },
    {
     "data": {
      "text/markdown": [
       "<span style=\"color:#cc3333\">Incorrect:</span> Expected return value of `1.0` given `num=1.000001`, but got `0.0` instead."
      ],
      "text/plain": [
       "Incorrect: Expected return value of `1.0` given `num=1.000001`, but got `0.0` instead."
      ]
     },
     "metadata": {},
     "output_type": "display_data"
    }
   ],
   "source": [
    "def round_to_two_places(num):\n",
    "    \"\"\"Return the given number rounded to two decimal places. \n",
    "    \n",
    "    >>> round_to_two_places(3.14159)\n",
    "    3.14\n",
    "    \"\"\"\n",
    "    num = round(num, ndigits = -2)\n",
    "    return num\n",
    "\n",
    "# Check your answer\n",
    "q1.check()"
   ]
  },
  {
   "cell_type": "code",
   "execution_count": 3,
   "id": "9a2845ed",
   "metadata": {
    "execution": {
     "iopub.execute_input": "2025-05-31T08:01:11.885669Z",
     "iopub.status.busy": "2025-05-31T08:01:11.885408Z",
     "iopub.status.idle": "2025-05-31T08:01:11.889310Z",
     "shell.execute_reply": "2025-05-31T08:01:11.888393Z"
    },
    "papermill": {
     "duration": 0.00981,
     "end_time": "2025-05-31T08:01:11.890812",
     "exception": false,
     "start_time": "2025-05-31T08:01:11.881002",
     "status": "completed"
    },
    "tags": []
   },
   "outputs": [],
   "source": [
    "# Uncomment the following for a hint\n",
    "#q1.hint()\n",
    "# Or uncomment the following to peek at the solution\n",
    "#q1.solution()"
   ]
  },
  {
   "cell_type": "markdown",
   "id": "6245380d",
   "metadata": {
    "papermill": {
     "duration": 0.003321,
     "end_time": "2025-05-31T08:01:11.897803",
     "exception": false,
     "start_time": "2025-05-31T08:01:11.894482",
     "status": "completed"
    },
    "tags": []
   },
   "source": [
    "# 2.\n",
    "The help for `round` says that `ndigits` (the second argument) may be negative.\n",
    "What do you think will happen when it is? Try some examples in the following cell."
   ]
  },
  {
   "cell_type": "code",
   "execution_count": 4,
   "id": "da260901",
   "metadata": {
    "execution": {
     "iopub.execute_input": "2025-05-31T08:01:11.906321Z",
     "iopub.status.busy": "2025-05-31T08:01:11.905993Z",
     "iopub.status.idle": "2025-05-31T08:01:11.910439Z",
     "shell.execute_reply": "2025-05-31T08:01:11.909516Z"
    },
    "papermill": {
     "duration": 0.010526,
     "end_time": "2025-05-31T08:01:11.911921",
     "exception": false,
     "start_time": "2025-05-31T08:01:11.901395",
     "status": "completed"
    },
    "tags": []
   },
   "outputs": [
    {
     "name": "stdout",
     "output_type": "stream",
     "text": [
      "0.0\n"
     ]
    }
   ],
   "source": [
    "# Put your test code here\n",
    "print( round_to_two_places(2.003))\n"
   ]
  },
  {
   "cell_type": "markdown",
   "id": "ec283e69",
   "metadata": {
    "papermill": {
     "duration": 0.003283,
     "end_time": "2025-05-31T08:01:11.918820",
     "exception": false,
     "start_time": "2025-05-31T08:01:11.915537",
     "status": "completed"
    },
    "tags": []
   },
   "source": [
    "Can you think of a case where this would be useful?  Once you're ready, run the code cell below to see the answer and to receive credit for completing the problem."
   ]
  },
  {
   "cell_type": "code",
   "execution_count": 5,
   "id": "b80b02e2",
   "metadata": {
    "execution": {
     "iopub.execute_input": "2025-05-31T08:01:11.926821Z",
     "iopub.status.busy": "2025-05-31T08:01:11.926480Z",
     "iopub.status.idle": "2025-05-31T08:01:11.932862Z",
     "shell.execute_reply": "2025-05-31T08:01:11.932057Z"
    },
    "papermill": {
     "duration": 0.011894,
     "end_time": "2025-05-31T08:01:11.934138",
     "exception": false,
     "start_time": "2025-05-31T08:01:11.922244",
     "status": "completed"
    },
    "tags": []
   },
   "outputs": [
    {
     "data": {
      "application/javascript": [
       "parent.postMessage({\"jupyterEvent\": \"custom.exercise_interaction\", \"data\": {\"interactionType\": 3, \"questionType\": 4, \"questionId\": \"2_RoundNdigitsProblem\", \"learnToolsVersion\": \"0.3.5\", \"valueTowardsCompletion\": 0.0, \"failureMessage\": \"\", \"exceptionClass\": \"\", \"trace\": \"\", \"outcomeType\": 4}}, \"*\")"
      ],
      "text/plain": [
       "<IPython.core.display.Javascript object>"
      ]
     },
     "metadata": {},
     "output_type": "display_data"
    },
    {
     "data": {
      "text/markdown": [
       "<span style=\"color:#33cc99\">Solution:</span> As you've seen, `ndigits=-1` rounds to the nearest 10, `ndigits=-2` rounds to the nearest 100 and so on. Where might this be useful? Suppose we're dealing with large numbers:\n",
       "\n",
       "> The area of Finland is 338,424 km²  \n",
       "> The area of Greenland is 2,166,086 km²\n",
       "\n",
       "We probably don't care whether it's really 338,424, or 338,425, or 338,177. All those digits of accuracy are just distracting. We can chop them off by calling `round()` with `ndigits=-3`:\n",
       "\n",
       "> The area of Finland is 338,000 km²  \n",
       "> The area of Greenland is 2,166,000 km²\n",
       "\n",
       "(We'll talk about how we would get the commas later when we talk about string formatting :))\n"
      ],
      "text/plain": [
       "Solution: As you've seen, `ndigits=-1` rounds to the nearest 10, `ndigits=-2` rounds to the nearest 100 and so on. Where might this be useful? Suppose we're dealing with large numbers:\n",
       "\n",
       "> The area of Finland is 338,424 km²  \n",
       "> The area of Greenland is 2,166,086 km²\n",
       "\n",
       "We probably don't care whether it's really 338,424, or 338,425, or 338,177. All those digits of accuracy are just distracting. We can chop them off by calling `round()` with `ndigits=-3`:\n",
       "\n",
       "> The area of Finland is 338,000 km²  \n",
       "> The area of Greenland is 2,166,000 km²\n",
       "\n",
       "(We'll talk about how we would get the commas later when we talk about string formatting :))"
      ]
     },
     "metadata": {},
     "output_type": "display_data"
    }
   ],
   "source": [
    "# Check your answer (Run this code cell to receive credit!)\n",
    "q2.solution()"
   ]
  },
  {
   "cell_type": "markdown",
   "id": "81b37185",
   "metadata": {
    "papermill": {
     "duration": 0.003527,
     "end_time": "2025-05-31T08:01:11.941565",
     "exception": false,
     "start_time": "2025-05-31T08:01:11.938038",
     "status": "completed"
    },
    "tags": []
   },
   "source": [
    "# 3.\n",
    "\n",
    "In the previous exercise, the candy-sharing friends Alice, Bob and Carol tried to split candies evenly. For the sake of their friendship, any candies left over would be smashed. For example, if they collectively bring home 91 candies, they'll take 30 each and smash 1.\n",
    "\n",
    "Below is a simple function that will calculate the number of candies to smash for *any* number of total candies.\n",
    "\n",
    "Modify it so that it optionally takes a second argument representing the number of friends the candies are being split between. If no second argument is provided, it should assume 3 friends, as before.\n",
    "\n",
    "Update the docstring to reflect this new behaviour."
   ]
  },
  {
   "cell_type": "code",
   "execution_count": 6,
   "id": "bb78c627",
   "metadata": {
    "execution": {
     "iopub.execute_input": "2025-05-31T08:01:11.950843Z",
     "iopub.status.busy": "2025-05-31T08:01:11.949934Z",
     "iopub.status.idle": "2025-05-31T08:01:11.957605Z",
     "shell.execute_reply": "2025-05-31T08:01:11.956738Z"
    },
    "papermill": {
     "duration": 0.013755,
     "end_time": "2025-05-31T08:01:11.959050",
     "exception": false,
     "start_time": "2025-05-31T08:01:11.945295",
     "status": "completed"
    },
    "tags": []
   },
   "outputs": [
    {
     "data": {
      "application/javascript": [
       "parent.postMessage({\"jupyterEvent\": \"custom.exercise_interaction\", \"data\": {\"outcomeType\": 1, \"valueTowardsCompletion\": 0.16666666666666666, \"interactionType\": 1, \"questionType\": 2, \"questionId\": \"3_CandySmashingFunctionProblem\", \"learnToolsVersion\": \"0.3.5\", \"failureMessage\": \"\", \"exceptionClass\": \"\", \"trace\": \"\"}}, \"*\")"
      ],
      "text/plain": [
       "<IPython.core.display.Javascript object>"
      ]
     },
     "metadata": {},
     "output_type": "display_data"
    },
    {
     "data": {
      "text/markdown": [
       "<span style=\"color:#33cc33\">Correct</span>"
      ],
      "text/plain": [
       "Correct"
      ]
     },
     "metadata": {},
     "output_type": "display_data"
    }
   ],
   "source": [
    "def to_smash(total_candies, num_to_split= 3):\n",
    "    \"\"\"Return the number of leftover candies that must be smashed after distributing\n",
    "    the given number of candies evenly between 3 friends.\n",
    "    \n",
    "    >>> to_smash(91)\n",
    "    1\n",
    "    \"\"\"\n",
    "    \n",
    "    return total_candies % num_to_split\n",
    "\n",
    "# Check your answer\n",
    "q3.check()"
   ]
  },
  {
   "cell_type": "code",
   "execution_count": 7,
   "id": "858c4097",
   "metadata": {
    "execution": {
     "iopub.execute_input": "2025-05-31T08:01:11.970049Z",
     "iopub.status.busy": "2025-05-31T08:01:11.969218Z",
     "iopub.status.idle": "2025-05-31T08:01:11.974295Z",
     "shell.execute_reply": "2025-05-31T08:01:11.973232Z"
    },
    "papermill": {
     "duration": 0.013019,
     "end_time": "2025-05-31T08:01:11.976129",
     "exception": false,
     "start_time": "2025-05-31T08:01:11.963110",
     "status": "completed"
    },
    "tags": []
   },
   "outputs": [],
   "source": [
    "#q3.hint()"
   ]
  },
  {
   "cell_type": "code",
   "execution_count": 8,
   "id": "098bf563",
   "metadata": {
    "execution": {
     "iopub.execute_input": "2025-05-31T08:01:11.989887Z",
     "iopub.status.busy": "2025-05-31T08:01:11.989556Z",
     "iopub.status.idle": "2025-05-31T08:01:11.993940Z",
     "shell.execute_reply": "2025-05-31T08:01:11.993031Z"
    },
    "papermill": {
     "duration": 0.011478,
     "end_time": "2025-05-31T08:01:11.995590",
     "exception": false,
     "start_time": "2025-05-31T08:01:11.984112",
     "status": "completed"
    },
    "tags": []
   },
   "outputs": [],
   "source": [
    "#q3.solution()"
   ]
  },
  {
   "cell_type": "markdown",
   "id": "604e1302",
   "metadata": {
    "papermill": {
     "duration": 0.005849,
     "end_time": "2025-05-31T08:01:12.007481",
     "exception": false,
     "start_time": "2025-05-31T08:01:12.001632",
     "status": "completed"
    },
    "tags": []
   },
   "source": [
    "# 4. (Optional)\n",
    "\n",
    "It may not be fun, but reading and understanding error messages will be an important part of your Python career.\n",
    "\n",
    "Each code cell below contains some commented buggy code. For each cell...\n",
    "\n",
    "1. Read the code and predict what you think will happen when it's run.\n",
    "2. Then uncomment the code and run it to see what happens. (**Tip**: In the kernel editor, you can highlight several lines and press `ctrl`+`/` to toggle commenting.)\n",
    "3. Fix the code (so that it accomplishes its intended purpose without throwing an exception)\n",
    "\n",
    "<!-- TODO: should this be autochecked? Delta is probably pretty small. -->"
   ]
  },
  {
   "cell_type": "code",
   "execution_count": 9,
   "id": "1686cddf",
   "metadata": {
    "execution": {
     "iopub.execute_input": "2025-05-31T08:01:12.017863Z",
     "iopub.status.busy": "2025-05-31T08:01:12.016927Z",
     "iopub.status.idle": "2025-05-31T08:01:12.023402Z",
     "shell.execute_reply": "2025-05-31T08:01:12.022066Z"
    },
    "papermill": {
     "duration": 0.013979,
     "end_time": "2025-05-31T08:01:12.025635",
     "exception": false,
     "start_time": "2025-05-31T08:01:12.011656",
     "status": "completed"
    },
    "tags": []
   },
   "outputs": [
    {
     "name": "stdout",
     "output_type": "stream",
     "text": [
      "10.0\n"
     ]
    }
   ],
   "source": [
    "def ruound_to_two_places(num):\n",
    "    num = round(num, 2)\n",
    "    return num\n",
    "print(ruound_to_two_places(9.9999))\n"
   ]
  },
  {
   "cell_type": "code",
   "execution_count": 10,
   "id": "cac90e9e",
   "metadata": {
    "execution": {
     "iopub.execute_input": "2025-05-31T08:01:12.038599Z",
     "iopub.status.busy": "2025-05-31T08:01:12.038305Z",
     "iopub.status.idle": "2025-05-31T08:01:12.043227Z",
     "shell.execute_reply": "2025-05-31T08:01:12.042240Z"
    },
    "papermill": {
     "duration": 0.011484,
     "end_time": "2025-05-31T08:01:12.044572",
     "exception": false,
     "start_time": "2025-05-31T08:01:12.033088",
     "status": "completed"
    },
    "tags": []
   },
   "outputs": [
    {
     "name": "stdout",
     "output_type": "stream",
     "text": [
      "5\n"
     ]
    }
   ],
   "source": [
    "x = -10\n",
    "y = 5\n",
    "# Which of the two variables above has the smallest absolute value?\n",
    "smallest_abs = min(abs(x),abs( y))\n",
    "print (smallest_abs)"
   ]
  },
  {
   "cell_type": "code",
   "execution_count": 11,
   "id": "af247af1",
   "metadata": {
    "execution": {
     "iopub.execute_input": "2025-05-31T08:01:12.054589Z",
     "iopub.status.busy": "2025-05-31T08:01:12.053819Z",
     "iopub.status.idle": "2025-05-31T08:01:12.058714Z",
     "shell.execute_reply": "2025-05-31T08:01:12.057903Z"
    },
    "papermill": {
     "duration": 0.011282,
     "end_time": "2025-05-31T08:01:12.060151",
     "exception": false,
     "start_time": "2025-05-31T08:01:12.048869",
     "status": "completed"
    },
    "tags": []
   },
   "outputs": [
    {
     "name": "stdout",
     "output_type": "stream",
     "text": [
      "5\n"
     ]
    }
   ],
   "source": [
    "def f(x):\n",
    "    y = abs(x)\n",
    "    return y\n",
    "\n",
    "print(f(5))"
   ]
  },
  {
   "cell_type": "markdown",
   "id": "fac5eb64",
   "metadata": {
    "papermill": {
     "duration": 0.00394,
     "end_time": "2025-05-31T08:01:12.068260",
     "exception": false,
     "start_time": "2025-05-31T08:01:12.064320",
     "status": "completed"
    },
    "tags": []
   },
   "source": [
    "# Keep Going\n",
    "\n",
    "Nice job with the code. Next up, you'll learn about *conditionals*, which you'll need to **[write interesting programs](https://www.kaggle.com/colinmorris/booleans-and-conditionals)**. "
   ]
  },
  {
   "cell_type": "markdown",
   "id": "6834f7b3",
   "metadata": {
    "papermill": {
     "duration": 0.003797,
     "end_time": "2025-05-31T08:01:12.076067",
     "exception": false,
     "start_time": "2025-05-31T08:01:12.072270",
     "status": "completed"
    },
    "tags": []
   },
   "source": [
    "---\n",
    "\n",
    "\n",
    "\n",
    "\n",
    "*Have questions or comments? Visit the [course discussion forum](https://www.kaggle.com/learn/python/discussion) to chat with other learners.*"
   ]
  }
 ],
 "metadata": {
  "kaggle": {
   "accelerator": "none",
   "dataSources": [],
   "isGpuEnabled": false,
   "isInternetEnabled": false,
   "language": "python",
   "sourceType": "notebook"
  },
  "kernelspec": {
   "display_name": "Python 3",
   "language": "python",
   "name": "python3"
  },
  "language_info": {
   "codemirror_mode": {
    "name": "ipython",
    "version": 3
   },
   "file_extension": ".py",
   "mimetype": "text/x-python",
   "name": "python",
   "nbconvert_exporter": "python",
   "pygments_lexer": "ipython3",
   "version": "3.11.11"
  },
  "learntools_metadata": {
   "lesson_index": 1,
   "type": "exercise"
  },
  "papermill": {
   "default_parameters": {},
   "duration": 7.908558,
   "end_time": "2025-05-31T08:01:12.598660",
   "environment_variables": {},
   "exception": null,
   "input_path": "__notebook__.ipynb",
   "output_path": "__notebook__.ipynb",
   "parameters": {},
   "start_time": "2025-05-31T08:01:04.690102",
   "version": "2.6.0"
  }
 },
 "nbformat": 4,
 "nbformat_minor": 5
}
