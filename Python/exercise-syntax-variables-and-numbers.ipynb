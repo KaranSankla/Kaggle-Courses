{
 "cells": [
  {
   "cell_type": "markdown",
   "id": "0418908c",
   "metadata": {
    "papermill": {
     "duration": 0.005319,
     "end_time": "2025-05-29T19:54:18.557192",
     "exception": false,
     "start_time": "2025-05-29T19:54:18.551873",
     "status": "completed"
    },
    "tags": []
   },
   "source": [
    "**This notebook is an exercise in the [Python](https://www.kaggle.com/learn/python) course.  You can reference the tutorial at [this link](https://www.kaggle.com/colinmorris/hello-python).**\n",
    "\n",
    "---\n"
   ]
  },
  {
   "cell_type": "markdown",
   "id": "125002cd",
   "metadata": {
    "papermill": {
     "duration": 0.004117,
     "end_time": "2025-05-29T19:54:18.565883",
     "exception": false,
     "start_time": "2025-05-29T19:54:18.561766",
     "status": "completed"
    },
    "tags": []
   },
   "source": [
    "Welcome to your first set of Python coding problems.  If this is your first time using Kaggle Notebooks, welcome! \n",
    "\n",
    "Notebooks are composed of blocks (called \"cells\") of text and code. Each of these is editable, though you'll mainly be editing the code cells to answer some questions.\n",
    "\n",
    "To get started, try running the code cell below (by pressing the ► button, or clicking on the cell and pressing ctrl+enter on your keyboard)."
   ]
  },
  {
   "cell_type": "code",
   "execution_count": 1,
   "id": "84c323d0",
   "metadata": {
    "execution": {
     "iopub.execute_input": "2025-05-29T19:54:18.576453Z",
     "iopub.status.busy": "2025-05-29T19:54:18.575430Z",
     "iopub.status.idle": "2025-05-29T19:54:18.583778Z",
     "shell.execute_reply": "2025-05-29T19:54:18.582773Z"
    },
    "papermill": {
     "duration": 0.014931,
     "end_time": "2025-05-29T19:54:18.585097",
     "exception": false,
     "start_time": "2025-05-29T19:54:18.570166",
     "status": "completed"
    },
    "tags": []
   },
   "outputs": [
    {
     "name": "stdout",
     "output_type": "stream",
     "text": [
      "You've successfully run some Python code\n",
      "Congratulations!\n",
      "I did it\n"
     ]
    }
   ],
   "source": [
    "print(\"You've successfully run some Python code\")\n",
    "print(\"Congratulations!\")\n",
    "print('I did it')"
   ]
  },
  {
   "cell_type": "markdown",
   "id": "3bcf6d2b",
   "metadata": {
    "papermill": {
     "duration": 0.004109,
     "end_time": "2025-05-29T19:54:18.593803",
     "exception": false,
     "start_time": "2025-05-29T19:54:18.589694",
     "status": "completed"
    },
    "tags": []
   },
   "source": [
    "Try adding another line of code in the cell above and re-running it. \n",
    "\n",
    "Now let's get a little fancier:  Add a new code cell by clicking on an existing code cell, hitting the escape key, and then hitting the `a` or `b` key.  The `a` key will add a cell above the current cell, and `b` adds a cell below.\n",
    "\n",
    "Great! Now you know how to use Notebooks.\n",
    "\n",
    "Each hands-on exercise starts by setting up our feedback and code checking mechanism. Run the code cell below to do that. Then you'll be ready to move on to question 0."
   ]
  },
  {
   "cell_type": "code",
   "execution_count": 2,
   "id": "53bb5f0d",
   "metadata": {
    "_kg_hide-input": true,
    "_kg_hide-output": true,
    "execution": {
     "iopub.execute_input": "2025-05-29T19:54:18.604356Z",
     "iopub.status.busy": "2025-05-29T19:54:18.603527Z",
     "iopub.status.idle": "2025-05-29T19:54:20.585233Z",
     "shell.execute_reply": "2025-05-29T19:54:20.584105Z"
    },
    "papermill": {
     "duration": 1.988683,
     "end_time": "2025-05-29T19:54:20.586859",
     "exception": false,
     "start_time": "2025-05-29T19:54:18.598176",
     "status": "completed"
    },
    "tags": []
   },
   "outputs": [
    {
     "name": "stdout",
     "output_type": "stream",
     "text": [
      "Setup complete! You're ready to start question 0.\n"
     ]
    }
   ],
   "source": [
    "from learntools.core import binder; binder.bind(globals())\n",
    "from learntools.python.ex1 import *\n",
    "print(\"Setup complete! You're ready to start question 0.\")"
   ]
  },
  {
   "cell_type": "markdown",
   "id": "5bbe9aca",
   "metadata": {
    "papermill": {
     "duration": 0.004569,
     "end_time": "2025-05-29T19:54:20.596148",
     "exception": false,
     "start_time": "2025-05-29T19:54:20.591579",
     "status": "completed"
    },
    "tags": []
   },
   "source": [
    "# 0.\n",
    "\n",
    "*This is a silly question intended as an introduction to the format we use for hands-on exercises throughout all Kaggle courses.*\n",
    "\n",
    "**What is your favorite color? **\n",
    "\n",
    "To complete this question, create a variable called `color` in the cell below with an appropriate value. The function call `q0.check()` (which we've already provided in the cell below) will check your answer."
   ]
  },
  {
   "cell_type": "code",
   "execution_count": 3,
   "id": "faeae266",
   "metadata": {
    "execution": {
     "iopub.execute_input": "2025-05-29T19:54:20.606732Z",
     "iopub.status.busy": "2025-05-29T19:54:20.606295Z",
     "iopub.status.idle": "2025-05-29T19:54:20.615343Z",
     "shell.execute_reply": "2025-05-29T19:54:20.614492Z"
    },
    "papermill": {
     "duration": 0.01608,
     "end_time": "2025-05-29T19:54:20.616762",
     "exception": false,
     "start_time": "2025-05-29T19:54:20.600682",
     "status": "completed"
    },
    "tags": []
   },
   "outputs": [
    {
     "data": {
      "application/javascript": [
       "parent.postMessage({\"jupyterEvent\": \"custom.exercise_interaction\", \"data\": {\"outcomeType\": 1, \"valueTowardsCompletion\": 0.25, \"interactionType\": 1, \"questionType\": 2, \"questionId\": \"0_ExerciseFormatTutorial\", \"learnToolsVersion\": \"0.3.5\", \"failureMessage\": \"\", \"exceptionClass\": \"\", \"trace\": \"\"}}, \"*\")"
      ],
      "text/plain": [
       "<IPython.core.display.Javascript object>"
      ]
     },
     "metadata": {},
     "output_type": "display_data"
    },
    {
     "data": {
      "text/markdown": [
       "<span style=\"color:#33cc33\">Correct:</span> What?! You got it right without needing a hint or anything? Drats. Well hey, you should still continue to the next step to get some practice asking for a hint and checking solutions. (Even though you obviously don't need any help here.)"
      ],
      "text/plain": [
       "Correct: What?! You got it right without needing a hint or anything? Drats. Well hey, you should still continue to the next step to get some practice asking for a hint and checking solutions. (Even though you obviously don't need any help here.)"
      ]
     },
     "metadata": {},
     "output_type": "display_data"
    }
   ],
   "source": [
    "# create a variable called color with an appropriate value on the line below\n",
    "color = \"blue\"\n",
    "# (Remember, strings in Python must be enclosed in 'single' or \"double\" quotes)\n",
    "\n",
    "# Check your answer\n",
    "q0.check()"
   ]
  },
  {
   "cell_type": "markdown",
   "id": "8993e78f",
   "metadata": {
    "papermill": {
     "duration": 0.004854,
     "end_time": "2025-05-29T19:54:20.627064",
     "exception": false,
     "start_time": "2025-05-29T19:54:20.622210",
     "status": "completed"
    },
    "tags": []
   },
   "source": [
    "Didn't get the right answer? How do you not even know your own favorite color?!\n",
    "\n",
    "Delete the `#` in the line below to make one of the lines run. You can choose between getting a hint or the full answer by choosing which line to remove the `#` from. \n",
    "\n",
    "Removing the `#` is called uncommenting, because it changes that line from a \"comment\" which Python doesn't run to code, which Python does run."
   ]
  },
  {
   "cell_type": "code",
   "execution_count": 4,
   "id": "cf6bd0d2",
   "metadata": {
    "execution": {
     "iopub.execute_input": "2025-05-29T19:54:20.638329Z",
     "iopub.status.busy": "2025-05-29T19:54:20.637516Z",
     "iopub.status.idle": "2025-05-29T19:54:20.641805Z",
     "shell.execute_reply": "2025-05-29T19:54:20.640918Z"
    },
    "papermill": {
     "duration": 0.011603,
     "end_time": "2025-05-29T19:54:20.643471",
     "exception": false,
     "start_time": "2025-05-29T19:54:20.631868",
     "status": "completed"
    },
    "tags": []
   },
   "outputs": [],
   "source": [
    "#q0.hint()\n",
    "#q0.solution()"
   ]
  },
  {
   "cell_type": "markdown",
   "id": "9d01b3e7",
   "metadata": {
    "papermill": {
     "duration": 0.004654,
     "end_time": "2025-05-29T19:54:20.653081",
     "exception": false,
     "start_time": "2025-05-29T19:54:20.648427",
     "status": "completed"
    },
    "tags": []
   },
   "source": [
    "The upcoming questions work the same way. The only thing that will change are the question numbers. For the next question, you'll call `q1.check()`, `q1.hint()`, `q1.solution()`, for question 2, you'll call `q2.check()`, and so on."
   ]
  },
  {
   "cell_type": "markdown",
   "id": "93342f15",
   "metadata": {
    "papermill": {
     "duration": 0.004391,
     "end_time": "2025-05-29T19:54:20.662111",
     "exception": false,
     "start_time": "2025-05-29T19:54:20.657720",
     "status": "completed"
    },
    "tags": []
   },
   "source": [
    "<hr/>\n",
    "\n",
    "# 1.\n",
    "\n",
    "Complete the code below. In case it's helpful, here is the table of available arithmetic operations:\n",
    "\n",
    "\n",
    "\n",
    "| Operator     | Name           | Description                                            |\n",
    "|--------------|----------------|--------------------------------------------------------|\n",
    "| ``a + b``    | Addition       | Sum of ``a`` and ``b``                                 |\n",
    "| ``a - b``    | Subtraction    | Difference of ``a`` and ``b``                          |\n",
    "| ``a * b``    | Multiplication | Product of ``a`` and ``b``                             |\n",
    "| ``a / b``    | True division  | Quotient of ``a`` and ``b``                            |\n",
    "| ``a // b``   | Floor division | Quotient of ``a`` and ``b``, removing fractional parts |\n",
    "| ``a % b``    | Modulus        | Integer remainder after division of ``a`` by ``b``     |\n",
    "| ``a ** b``   | Exponentiation | ``a`` raised to the power of ``b``                     |\n",
    "| ``-a``       | Negation       | The negative of ``a``                                  |\n",
    "\n",
    "<span style=\"display:none\"></span>\n"
   ]
  },
  {
   "cell_type": "code",
   "execution_count": 5,
   "id": "32829328",
   "metadata": {
    "execution": {
     "iopub.execute_input": "2025-05-29T19:54:20.673169Z",
     "iopub.status.busy": "2025-05-29T19:54:20.672829Z",
     "iopub.status.idle": "2025-05-29T19:54:20.681532Z",
     "shell.execute_reply": "2025-05-29T19:54:20.680557Z"
    },
    "papermill": {
     "duration": 0.016349,
     "end_time": "2025-05-29T19:54:20.683004",
     "exception": false,
     "start_time": "2025-05-29T19:54:20.666655",
     "status": "completed"
    },
    "tags": []
   },
   "outputs": [
    {
     "data": {
      "application/javascript": [
       "parent.postMessage({\"jupyterEvent\": \"custom.exercise_interaction\", \"data\": {\"outcomeType\": 1, \"valueTowardsCompletion\": 0.25, \"interactionType\": 1, \"questionType\": 1, \"questionId\": \"1_CircleArea\", \"learnToolsVersion\": \"0.3.5\", \"failureMessage\": \"\", \"exceptionClass\": \"\", \"trace\": \"\"}}, \"*\")"
      ],
      "text/plain": [
       "<IPython.core.display.Javascript object>"
      ]
     },
     "metadata": {},
     "output_type": "display_data"
    },
    {
     "data": {
      "text/markdown": [
       "<span style=\"color:#33cc33\">Correct</span>"
      ],
      "text/plain": [
       "Correct"
      ]
     },
     "metadata": {},
     "output_type": "display_data"
    }
   ],
   "source": [
    "pi = 3.14159 # approximate\n",
    "diameter = 3\n",
    "\n",
    "# Create a variable called 'radius' equal to half the diameter\n",
    "____\n",
    "radius = 0.5 * diameter\n",
    "\n",
    "# Create a variable called 'area', using the formula for the area of a circle: pi times the radius squared\n",
    "____\n",
    "area = pi * radius **2\n",
    "# Check your answer\n",
    "q1.check()"
   ]
  },
  {
   "cell_type": "code",
   "execution_count": 6,
   "id": "91c23e43",
   "metadata": {
    "execution": {
     "iopub.execute_input": "2025-05-29T19:54:20.694499Z",
     "iopub.status.busy": "2025-05-29T19:54:20.694187Z",
     "iopub.status.idle": "2025-05-29T19:54:20.698307Z",
     "shell.execute_reply": "2025-05-29T19:54:20.697316Z"
    },
    "papermill": {
     "duration": 0.011748,
     "end_time": "2025-05-29T19:54:20.699852",
     "exception": false,
     "start_time": "2025-05-29T19:54:20.688104",
     "status": "completed"
    },
    "tags": []
   },
   "outputs": [],
   "source": [
    "# Uncomment and run the lines below if you need help.\n",
    "#q1.hint()\n",
    "#q1.solution()"
   ]
  },
  {
   "cell_type": "markdown",
   "id": "0a637eff",
   "metadata": {
    "papermill": {
     "duration": 0.004592,
     "end_time": "2025-05-29T19:54:20.709460",
     "exception": false,
     "start_time": "2025-05-29T19:54:20.704868",
     "status": "completed"
    },
    "tags": []
   },
   "source": [
    "<hr/>\n",
    "\n",
    "# 2.\n",
    "\n",
    "Add code to the following cell to swap variables `a` and `b` (so that `a` refers to the object previously referred to by `b` and vice versa)."
   ]
  },
  {
   "cell_type": "code",
   "execution_count": 7,
   "id": "6a815d68",
   "metadata": {
    "execution": {
     "iopub.execute_input": "2025-05-29T19:54:20.720826Z",
     "iopub.status.busy": "2025-05-29T19:54:20.720208Z",
     "iopub.status.idle": "2025-05-29T19:54:20.728626Z",
     "shell.execute_reply": "2025-05-29T19:54:20.727907Z"
    },
    "papermill": {
     "duration": 0.017222,
     "end_time": "2025-05-29T19:54:20.731548",
     "exception": false,
     "start_time": "2025-05-29T19:54:20.714326",
     "status": "completed"
    },
    "tags": []
   },
   "outputs": [
    {
     "data": {
      "application/javascript": [
       "parent.postMessage({\"jupyterEvent\": \"custom.exercise_interaction\", \"data\": {\"outcomeType\": 1, \"valueTowardsCompletion\": 0.25, \"interactionType\": 1, \"questionType\": 2, \"questionId\": \"2_VariableSwap\", \"learnToolsVersion\": \"0.3.5\", \"failureMessage\": \"\", \"exceptionClass\": \"\", \"trace\": \"\"}}, \"*\")"
      ],
      "text/plain": [
       "<IPython.core.display.Javascript object>"
      ]
     },
     "metadata": {},
     "output_type": "display_data"
    },
    {
     "data": {
      "text/markdown": [
       "<span style=\"color:#33cc33\">Correct:</span> \n",
       "\n",
       "The most straightforward solution is to use a third variable to temporarily store one of the old values. e.g.:\n",
       "\n",
       "    tmp = a\n",
       "    a = b\n",
       "    b = tmp\n",
       "\n",
       "If you've read lots of Python code, you might have seen the following trick to swap two variables in one line:\n",
       "\n",
       "    a, b = b, a\n",
       "\n",
       "We'll demystify this bit of Python magic later when we talk about *tuples*."
      ],
      "text/plain": [
       "Correct: \n",
       "\n",
       "The most straightforward solution is to use a third variable to temporarily store one of the old values. e.g.:\n",
       "\n",
       "    tmp = a\n",
       "    a = b\n",
       "    b = tmp\n",
       "\n",
       "If you've read lots of Python code, you might have seen the following trick to swap two variables in one line:\n",
       "\n",
       "    a, b = b, a\n",
       "\n",
       "We'll demystify this bit of Python magic later when we talk about *tuples*."
      ]
     },
     "metadata": {},
     "output_type": "display_data"
    }
   ],
   "source": [
    "########### Setup code - don't touch this part ######################\n",
    "# If you're curious, these are examples of lists. We'll talk about \n",
    "# them in depth a few lessons from now. For now, just know that they're\n",
    "# yet another type of Python object, like int or float.\n",
    "a = [1, 2, 3]\n",
    "b = [3, 2, 1]\n",
    "q2.store_original_ids()\n",
    "######################################################################\n",
    "\n",
    "# Your code goes here. Swap the values to which a and b refer.\n",
    "# If you get stuck, you can always uncomment one or both of the lines in\n",
    "# the next cell for a hint, or to peek at the solution.\n",
    "\n",
    "######################################################################\n",
    "c = []\n",
    "\n",
    "c = a\n",
    "a = b\n",
    "b = c\n",
    "\n",
    "\n",
    "\n",
    "\n",
    "# Check your answer\n",
    "q2.check()"
   ]
  },
  {
   "cell_type": "code",
   "execution_count": 8,
   "id": "6df3fe7b",
   "metadata": {
    "execution": {
     "iopub.execute_input": "2025-05-29T19:54:20.744124Z",
     "iopub.status.busy": "2025-05-29T19:54:20.743740Z",
     "iopub.status.idle": "2025-05-29T19:54:20.748190Z",
     "shell.execute_reply": "2025-05-29T19:54:20.747295Z"
    },
    "papermill": {
     "duration": 0.012115,
     "end_time": "2025-05-29T19:54:20.749781",
     "exception": false,
     "start_time": "2025-05-29T19:54:20.737666",
     "status": "completed"
    },
    "tags": []
   },
   "outputs": [],
   "source": [
    "#q2.hint()"
   ]
  },
  {
   "cell_type": "code",
   "execution_count": 9,
   "id": "bdea7add",
   "metadata": {
    "execution": {
     "iopub.execute_input": "2025-05-29T19:54:20.761550Z",
     "iopub.status.busy": "2025-05-29T19:54:20.761261Z",
     "iopub.status.idle": "2025-05-29T19:54:20.765496Z",
     "shell.execute_reply": "2025-05-29T19:54:20.764527Z"
    },
    "papermill": {
     "duration": 0.012012,
     "end_time": "2025-05-29T19:54:20.767047",
     "exception": false,
     "start_time": "2025-05-29T19:54:20.755035",
     "status": "completed"
    },
    "tags": []
   },
   "outputs": [],
   "source": [
    "#q2.solution()"
   ]
  },
  {
   "cell_type": "markdown",
   "id": "6f4c09b2",
   "metadata": {
    "papermill": {
     "duration": 0.004871,
     "end_time": "2025-05-29T19:54:20.777135",
     "exception": false,
     "start_time": "2025-05-29T19:54:20.772264",
     "status": "completed"
    },
    "tags": []
   },
   "source": [
    "<hr/>\n",
    "\n",
    "# 3a.\n",
    "\n",
    "Add parentheses to the following expression so that it evaluates to 1."
   ]
  },
  {
   "cell_type": "code",
   "execution_count": 10,
   "id": "f0931e16",
   "metadata": {
    "execution": {
     "iopub.execute_input": "2025-05-29T19:54:20.789472Z",
     "iopub.status.busy": "2025-05-29T19:54:20.788384Z",
     "iopub.status.idle": "2025-05-29T19:54:20.794622Z",
     "shell.execute_reply": "2025-05-29T19:54:20.793756Z"
    },
    "papermill": {
     "duration": 0.01359,
     "end_time": "2025-05-29T19:54:20.795896",
     "exception": false,
     "start_time": "2025-05-29T19:54:20.782306",
     "status": "completed"
    },
    "tags": []
   },
   "outputs": [
    {
     "data": {
      "text/plain": [
       "1"
      ]
     },
     "execution_count": 10,
     "metadata": {},
     "output_type": "execute_result"
    }
   ],
   "source": [
    "(5 - 3) // 2"
   ]
  },
  {
   "cell_type": "code",
   "execution_count": 11,
   "id": "3d3f81b4",
   "metadata": {
    "execution": {
     "iopub.execute_input": "2025-05-29T19:54:20.808273Z",
     "iopub.status.busy": "2025-05-29T19:54:20.807906Z",
     "iopub.status.idle": "2025-05-29T19:54:20.811850Z",
     "shell.execute_reply": "2025-05-29T19:54:20.811068Z"
    },
    "papermill": {
     "duration": 0.011834,
     "end_time": "2025-05-29T19:54:20.813378",
     "exception": false,
     "start_time": "2025-05-29T19:54:20.801544",
     "status": "completed"
    },
    "tags": []
   },
   "outputs": [],
   "source": [
    "#q3.a.hint()"
   ]
  },
  {
   "cell_type": "code",
   "execution_count": 12,
   "id": "3738245a",
   "metadata": {
    "execution": {
     "iopub.execute_input": "2025-05-29T19:54:20.825318Z",
     "iopub.status.busy": "2025-05-29T19:54:20.824933Z",
     "iopub.status.idle": "2025-05-29T19:54:20.832134Z",
     "shell.execute_reply": "2025-05-29T19:54:20.830971Z"
    },
    "papermill": {
     "duration": 0.014947,
     "end_time": "2025-05-29T19:54:20.833695",
     "exception": false,
     "start_time": "2025-05-29T19:54:20.818748",
     "status": "completed"
    },
    "tags": []
   },
   "outputs": [
    {
     "data": {
      "application/javascript": [
       "parent.postMessage({\"jupyterEvent\": \"custom.exercise_interaction\", \"data\": {\"interactionType\": 3, \"questionType\": 4, \"questionId\": \"3.1_ArithmeticParensEasy\", \"learnToolsVersion\": \"0.3.5\", \"valueTowardsCompletion\": 0.0, \"failureMessage\": \"\", \"exceptionClass\": \"\", \"trace\": \"\", \"outcomeType\": 4}}, \"*\")"
      ],
      "text/plain": [
       "<IPython.core.display.Javascript object>"
      ]
     },
     "metadata": {},
     "output_type": "display_data"
    },
    {
     "data": {
      "text/markdown": [
       "<span style=\"color:#33cc99\">Solution:</span> \n",
       "```python\n",
       "(5 - 3) // 2\n",
       "```"
      ],
      "text/plain": [
       "Solution: \n",
       "```python\n",
       "(5 - 3) // 2\n",
       "```"
      ]
     },
     "metadata": {},
     "output_type": "display_data"
    }
   ],
   "source": [
    "# Check your answer (Run this code cell to receive credit!)\n",
    "q3.a.solution()"
   ]
  },
  {
   "cell_type": "markdown",
   "id": "0d6a7277",
   "metadata": {
    "papermill": {
     "duration": 0.005096,
     "end_time": "2025-05-29T19:54:20.844494",
     "exception": false,
     "start_time": "2025-05-29T19:54:20.839398",
     "status": "completed"
    },
    "tags": []
   },
   "source": [
    "# 3b.  <span title=\"A bit spicy\" style=\"color: darkgreen \">🌶️</span>\n",
    "\n",
    "<small>Questions, like this one, marked a spicy pepper are a bit harder.</small>\n",
    "\n",
    "Add parentheses to the following expression so that it evaluates to 0."
   ]
  },
  {
   "cell_type": "code",
   "execution_count": 13,
   "id": "13bacafb",
   "metadata": {
    "execution": {
     "iopub.execute_input": "2025-05-29T19:54:20.856998Z",
     "iopub.status.busy": "2025-05-29T19:54:20.856656Z",
     "iopub.status.idle": "2025-05-29T19:54:20.862510Z",
     "shell.execute_reply": "2025-05-29T19:54:20.861595Z"
    },
    "papermill": {
     "duration": 0.014509,
     "end_time": "2025-05-29T19:54:20.864280",
     "exception": false,
     "start_time": "2025-05-29T19:54:20.849771",
     "status": "completed"
    },
    "tags": []
   },
   "outputs": [
    {
     "data": {
      "text/plain": [
       "0"
      ]
     },
     "execution_count": 13,
     "metadata": {},
     "output_type": "execute_result"
    }
   ],
   "source": [
    "(8 - 3) * (2 - (1 + 1))"
   ]
  },
  {
   "cell_type": "code",
   "execution_count": 14,
   "id": "cbb892ec",
   "metadata": {
    "execution": {
     "iopub.execute_input": "2025-05-29T19:54:20.877517Z",
     "iopub.status.busy": "2025-05-29T19:54:20.877214Z",
     "iopub.status.idle": "2025-05-29T19:54:20.880948Z",
     "shell.execute_reply": "2025-05-29T19:54:20.880150Z"
    },
    "papermill": {
     "duration": 0.011651,
     "end_time": "2025-05-29T19:54:20.882477",
     "exception": false,
     "start_time": "2025-05-29T19:54:20.870826",
     "status": "completed"
    },
    "tags": []
   },
   "outputs": [],
   "source": [
    "#q3.b.hint()"
   ]
  },
  {
   "cell_type": "code",
   "execution_count": 15,
   "id": "41aa03e7",
   "metadata": {
    "execution": {
     "iopub.execute_input": "2025-05-29T19:54:20.894636Z",
     "iopub.status.busy": "2025-05-29T19:54:20.894357Z",
     "iopub.status.idle": "2025-05-29T19:54:20.900631Z",
     "shell.execute_reply": "2025-05-29T19:54:20.899860Z"
    },
    "papermill": {
     "duration": 0.01382,
     "end_time": "2025-05-29T19:54:20.901955",
     "exception": false,
     "start_time": "2025-05-29T19:54:20.888135",
     "status": "completed"
    },
    "tags": []
   },
   "outputs": [
    {
     "data": {
      "application/javascript": [
       "parent.postMessage({\"jupyterEvent\": \"custom.exercise_interaction\", \"data\": {\"interactionType\": 3, \"questionType\": 4, \"questionId\": \"3.2_ArithmeticParensHard\", \"learnToolsVersion\": \"0.3.5\", \"valueTowardsCompletion\": 0.0, \"failureMessage\": \"\", \"exceptionClass\": \"\", \"trace\": \"\", \"outcomeType\": 4}}, \"*\")"
      ],
      "text/plain": [
       "<IPython.core.display.Javascript object>"
      ]
     },
     "metadata": {},
     "output_type": "display_data"
    },
    {
     "data": {
      "text/markdown": [
       "<span style=\"color:#33cc99\">Solution:</span> `(8 - 3) * (2 - (1 + 1))` is one solution. There may be others."
      ],
      "text/plain": [
       "Solution: `(8 - 3) * (2 - (1 + 1))` is one solution. There may be others."
      ]
     },
     "metadata": {},
     "output_type": "display_data"
    }
   ],
   "source": [
    "# Check your answer (Run this code cell to receive credit!)\n",
    "q3.b.solution()"
   ]
  },
  {
   "cell_type": "markdown",
   "id": "cea5a153",
   "metadata": {
    "papermill": {
     "duration": 0.005511,
     "end_time": "2025-05-29T19:54:20.913160",
     "exception": false,
     "start_time": "2025-05-29T19:54:20.907649",
     "status": "completed"
    },
    "tags": []
   },
   "source": [
    "<hr/>\n",
    "\n",
    "# 4. \n",
    "Alice, Bob and Carol have agreed to pool their Halloween candy and split it evenly among themselves.\n",
    "For the sake of their friendship, any candies left over will be smashed. For example, if they collectively\n",
    "bring home 91 candies, they'll take 30 each and smash 1.\n",
    "\n",
    "Write an arithmetic expression below to calculate how many candies they must smash for a given haul."
   ]
  },
  {
   "cell_type": "code",
   "execution_count": 16,
   "id": "f5d563fb",
   "metadata": {
    "execution": {
     "iopub.execute_input": "2025-05-29T19:54:20.925449Z",
     "iopub.status.busy": "2025-05-29T19:54:20.925145Z",
     "iopub.status.idle": "2025-05-29T19:54:20.932547Z",
     "shell.execute_reply": "2025-05-29T19:54:20.931605Z"
    },
    "papermill": {
     "duration": 0.015228,
     "end_time": "2025-05-29T19:54:20.933883",
     "exception": false,
     "start_time": "2025-05-29T19:54:20.918655",
     "status": "completed"
    },
    "tags": []
   },
   "outputs": [
    {
     "data": {
      "application/javascript": [
       "parent.postMessage({\"jupyterEvent\": \"custom.exercise_interaction\", \"data\": {\"outcomeType\": 1, \"valueTowardsCompletion\": 0.25, \"interactionType\": 1, \"questionType\": 1, \"questionId\": \"4_CandySplitting\", \"learnToolsVersion\": \"0.3.5\", \"failureMessage\": \"\", \"exceptionClass\": \"\", \"trace\": \"\"}}, \"*\")"
      ],
      "text/plain": [
       "<IPython.core.display.Javascript object>"
      ]
     },
     "metadata": {},
     "output_type": "display_data"
    },
    {
     "data": {
      "text/markdown": [
       "<span style=\"color:#33cc33\">Correct</span>"
      ],
      "text/plain": [
       "Correct"
      ]
     },
     "metadata": {},
     "output_type": "display_data"
    }
   ],
   "source": [
    "# Variables representing the number of candies collected by alice, bob, and carol\n",
    "alice_candies = 121\n",
    "bob_candies = 77\n",
    "carol_candies = 109\n",
    "\n",
    "# Your code goes here! Replace the right-hand side of this assignment with an expression\n",
    "# involving alice_candies, bob_candies, and carol_candies\n",
    "\n",
    "total_candies = ((alice_candies + carol_candies + bob_candies))\n",
    "to_smash = total_candies%3\n",
    "# Check your answer\n",
    "q4.check()"
   ]
  },
  {
   "cell_type": "code",
   "execution_count": 17,
   "id": "6779bbf2",
   "metadata": {
    "execution": {
     "iopub.execute_input": "2025-05-29T19:54:20.946692Z",
     "iopub.status.busy": "2025-05-29T19:54:20.946395Z",
     "iopub.status.idle": "2025-05-29T19:54:20.950180Z",
     "shell.execute_reply": "2025-05-29T19:54:20.949261Z"
    },
    "papermill": {
     "duration": 0.011875,
     "end_time": "2025-05-29T19:54:20.951738",
     "exception": false,
     "start_time": "2025-05-29T19:54:20.939863",
     "status": "completed"
    },
    "tags": []
   },
   "outputs": [],
   "source": [
    "#q4.hint()\n",
    "#q4.solution()"
   ]
  },
  {
   "cell_type": "markdown",
   "id": "d3cb274b",
   "metadata": {
    "papermill": {
     "duration": 0.005713,
     "end_time": "2025-05-29T19:54:20.963550",
     "exception": false,
     "start_time": "2025-05-29T19:54:20.957837",
     "status": "completed"
    },
    "tags": []
   },
   "source": [
    "# Keep Going\n",
    "\n",
    "Next up, you'll **[learn to write new functions and understand functions others write](https://www.kaggle.com/colinmorris/functions-and-getting-help)**. This will make you at least 10 times more productive as a Python programmer. "
   ]
  },
  {
   "cell_type": "markdown",
   "id": "347a44ad",
   "metadata": {
    "papermill": {
     "duration": 0.00576,
     "end_time": "2025-05-29T19:54:20.975098",
     "exception": false,
     "start_time": "2025-05-29T19:54:20.969338",
     "status": "completed"
    },
    "tags": []
   },
   "source": [
    "---\n",
    "\n",
    "\n",
    "\n",
    "\n",
    "*Have questions or comments? Visit the [course discussion forum](https://www.kaggle.com/learn/python/discussion) to chat with other learners.*"
   ]
  }
 ],
 "metadata": {
  "kaggle": {
   "accelerator": "none",
   "dataSources": [],
   "isGpuEnabled": false,
   "isInternetEnabled": false,
   "language": "python",
   "sourceType": "notebook"
  },
  "kernelspec": {
   "display_name": "Python 3",
   "language": "python",
   "name": "python3"
  },
  "language_info": {
   "codemirror_mode": {
    "name": "ipython",
    "version": 3
   },
   "file_extension": ".py",
   "mimetype": "text/x-python",
   "name": "python",
   "nbconvert_exporter": "python",
   "pygments_lexer": "ipython3",
   "version": "3.11.11"
  },
  "learntools_metadata": {
   "lesson_index": 0,
   "type": "exercise"
  },
  "papermill": {
   "default_parameters": {},
   "duration": 7.752842,
   "end_time": "2025-05-29T19:54:21.500416",
   "environment_variables": {},
   "exception": null,
   "input_path": "__notebook__.ipynb",
   "output_path": "__notebook__.ipynb",
   "parameters": {},
   "start_time": "2025-05-29T19:54:13.747574",
   "version": "2.6.0"
  }
 },
 "nbformat": 4,
 "nbformat_minor": 5
}
