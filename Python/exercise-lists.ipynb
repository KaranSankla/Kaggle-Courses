{
 "cells": [
  {
   "cell_type": "markdown",
   "id": "841dd550",
   "metadata": {
    "papermill": {
     "duration": 0.004374,
     "end_time": "2025-05-31T10:27:04.802980",
     "exception": false,
     "start_time": "2025-05-31T10:27:04.798606",
     "status": "completed"
    },
    "tags": []
   },
   "source": [
    "**This notebook is an exercise in the [Python](https://www.kaggle.com/learn/python) course.  You can reference the tutorial at [this link](https://www.kaggle.com/colinmorris/lists).**\n",
    "\n",
    "---\n"
   ]
  },
  {
   "cell_type": "markdown",
   "id": "76ca1029",
   "metadata": {
    "papermill": {
     "duration": 0.00305,
     "end_time": "2025-05-31T10:27:04.809623",
     "exception": false,
     "start_time": "2025-05-31T10:27:04.806573",
     "status": "completed"
    },
    "tags": []
   },
   "source": [
    "Things get more interesting with lists. You'll apply your new knowledge to solve the questions below. Remember to run the following cell first."
   ]
  },
  {
   "cell_type": "code",
   "execution_count": 1,
   "id": "6b378f5b",
   "metadata": {
    "execution": {
     "iopub.execute_input": "2025-05-31T10:27:04.817435Z",
     "iopub.status.busy": "2025-05-31T10:27:04.817115Z",
     "iopub.status.idle": "2025-05-31T10:27:06.744587Z",
     "shell.execute_reply": "2025-05-31T10:27:06.743631Z"
    },
    "papermill": {
     "duration": 1.93318,
     "end_time": "2025-05-31T10:27:06.746175",
     "exception": false,
     "start_time": "2025-05-31T10:27:04.812995",
     "status": "completed"
    },
    "tags": []
   },
   "outputs": [
    {
     "name": "stdout",
     "output_type": "stream",
     "text": [
      "Setup complete.\n"
     ]
    }
   ],
   "source": [
    "from learntools.core import binder; binder.bind(globals())\n",
    "from learntools.python.ex4 import *\n",
    "print('Setup complete.')"
   ]
  },
  {
   "cell_type": "markdown",
   "id": "c3d706eb",
   "metadata": {
    "papermill": {
     "duration": 0.003551,
     "end_time": "2025-05-31T10:27:06.753470",
     "exception": false,
     "start_time": "2025-05-31T10:27:06.749919",
     "status": "completed"
    },
    "tags": []
   },
   "source": [
    "# 1.\n",
    "\n",
    "Complete the function below according to its docstring."
   ]
  },
  {
   "cell_type": "code",
   "execution_count": 2,
   "id": "6a4c0f14",
   "metadata": {
    "execution": {
     "iopub.execute_input": "2025-05-31T10:27:06.761449Z",
     "iopub.status.busy": "2025-05-31T10:27:06.761022Z",
     "iopub.status.idle": "2025-05-31T10:27:06.769956Z",
     "shell.execute_reply": "2025-05-31T10:27:06.769146Z"
    },
    "papermill": {
     "duration": 0.014439,
     "end_time": "2025-05-31T10:27:06.771278",
     "exception": false,
     "start_time": "2025-05-31T10:27:06.756839",
     "status": "completed"
    },
    "tags": []
   },
   "outputs": [
    {
     "data": {
      "application/javascript": [
       "parent.postMessage({\"jupyterEvent\": \"custom.exercise_interaction\", \"data\": {\"outcomeType\": 1, \"valueTowardsCompletion\": 0.2, \"interactionType\": 1, \"questionType\": 2, \"questionId\": \"1_SelectSecondItem\", \"learnToolsVersion\": \"0.3.5\", \"failureMessage\": \"\", \"exceptionClass\": \"\", \"trace\": \"\"}}, \"*\")"
      ],
      "text/plain": [
       "<IPython.core.display.Javascript object>"
      ]
     },
     "metadata": {},
     "output_type": "display_data"
    },
    {
     "data": {
      "text/markdown": [
       "<span style=\"color:#33cc33\">Correct</span>"
      ],
      "text/plain": [
       "Correct"
      ]
     },
     "metadata": {},
     "output_type": "display_data"
    }
   ],
   "source": [
    "def select_second(L):\n",
    "    \"\"\"Return the second element of the given list. If the list has no second\n",
    "    element, return None.\n",
    "    \"\"\"\n",
    "    if len(L) < 2: \n",
    "        return None\n",
    "    return L[1]\n",
    "\n",
    "\n",
    "# Check your answer\n",
    "q1.check()"
   ]
  },
  {
   "cell_type": "code",
   "execution_count": 3,
   "id": "3f5810a8",
   "metadata": {
    "execution": {
     "iopub.execute_input": "2025-05-31T10:27:06.779662Z",
     "iopub.status.busy": "2025-05-31T10:27:06.779337Z",
     "iopub.status.idle": "2025-05-31T10:27:06.783220Z",
     "shell.execute_reply": "2025-05-31T10:27:06.782433Z"
    },
    "papermill": {
     "duration": 0.009936,
     "end_time": "2025-05-31T10:27:06.784891",
     "exception": false,
     "start_time": "2025-05-31T10:27:06.774955",
     "status": "completed"
    },
    "tags": []
   },
   "outputs": [],
   "source": [
    "# q1.hint()\n",
    "# q1.solution()"
   ]
  },
  {
   "cell_type": "markdown",
   "id": "e1bc4c8e",
   "metadata": {
    "papermill": {
     "duration": 0.003312,
     "end_time": "2025-05-31T10:27:06.791906",
     "exception": false,
     "start_time": "2025-05-31T10:27:06.788594",
     "status": "completed"
    },
    "tags": []
   },
   "source": [
    "# 2.\n",
    "\n",
    "You are analyzing sports teams.  Members of each team are stored in a list. The Coach is the first name in the list, the captain is the second name in the list, and other players are listed after that. \n",
    "These lists are stored in another list, which starts with the best team and proceeds through the list to the worst team last.  Complete the function below to select the **captain** of the worst team."
   ]
  },
  {
   "cell_type": "code",
   "execution_count": 4,
   "id": "8827708c",
   "metadata": {
    "execution": {
     "iopub.execute_input": "2025-05-31T10:27:06.800330Z",
     "iopub.status.busy": "2025-05-31T10:27:06.800023Z",
     "iopub.status.idle": "2025-05-31T10:27:06.807497Z",
     "shell.execute_reply": "2025-05-31T10:27:06.806660Z"
    },
    "papermill": {
     "duration": 0.013545,
     "end_time": "2025-05-31T10:27:06.809047",
     "exception": false,
     "start_time": "2025-05-31T10:27:06.795502",
     "status": "completed"
    },
    "tags": []
   },
   "outputs": [
    {
     "data": {
      "application/javascript": [
       "parent.postMessage({\"jupyterEvent\": \"custom.exercise_interaction\", \"data\": {\"outcomeType\": 1, \"valueTowardsCompletion\": 0.2, \"interactionType\": 1, \"questionType\": 2, \"questionId\": \"2_LosingTeamCaptain\", \"learnToolsVersion\": \"0.3.5\", \"failureMessage\": \"\", \"exceptionClass\": \"\", \"trace\": \"\"}}, \"*\")"
      ],
      "text/plain": [
       "<IPython.core.display.Javascript object>"
      ]
     },
     "metadata": {},
     "output_type": "display_data"
    },
    {
     "data": {
      "text/markdown": [
       "<span style=\"color:#33cc33\">Correct</span>"
      ],
      "text/plain": [
       "Correct"
      ]
     },
     "metadata": {},
     "output_type": "display_data"
    }
   ],
   "source": [
    "def losing_team_captain(teams):\n",
    "    \"\"\"Given a list of teams, where each team is a list of names, return the 2nd player (captain)\n",
    "    from the last listed team\n",
    "    \"\"\"\n",
    "    return teams[-1][1]\n",
    "  \n",
    "\n",
    "# Check your answer\n",
    "q2.check()"
   ]
  },
  {
   "cell_type": "code",
   "execution_count": 5,
   "id": "b70dc0d9",
   "metadata": {
    "execution": {
     "iopub.execute_input": "2025-05-31T10:27:06.818349Z",
     "iopub.status.busy": "2025-05-31T10:27:06.818073Z",
     "iopub.status.idle": "2025-05-31T10:27:06.822020Z",
     "shell.execute_reply": "2025-05-31T10:27:06.821122Z"
    },
    "papermill": {
     "duration": 0.010418,
     "end_time": "2025-05-31T10:27:06.823548",
     "exception": false,
     "start_time": "2025-05-31T10:27:06.813130",
     "status": "completed"
    },
    "tags": []
   },
   "outputs": [],
   "source": [
    "#q2.hint()\n",
    "#q2.solution()"
   ]
  },
  {
   "cell_type": "markdown",
   "id": "d49b0df7",
   "metadata": {
    "papermill": {
     "duration": 0.00351,
     "end_time": "2025-05-31T10:27:06.831063",
     "exception": false,
     "start_time": "2025-05-31T10:27:06.827553",
     "status": "completed"
    },
    "tags": []
   },
   "source": [
    "# 3.\n",
    "\n",
    "The next iteration of Mario Kart will feature an extra-infuriating new item, the *Purple Shell*. When used, it warps the last place racer into first place and the first place racer into last place. Complete the function below to implement the Purple Shell's effect."
   ]
  },
  {
   "cell_type": "code",
   "execution_count": 6,
   "id": "4d25af1e",
   "metadata": {
    "execution": {
     "iopub.execute_input": "2025-05-31T10:27:06.839860Z",
     "iopub.status.busy": "2025-05-31T10:27:06.839564Z",
     "iopub.status.idle": "2025-05-31T10:27:06.847109Z",
     "shell.execute_reply": "2025-05-31T10:27:06.846320Z"
    },
    "papermill": {
     "duration": 0.013694,
     "end_time": "2025-05-31T10:27:06.848535",
     "exception": false,
     "start_time": "2025-05-31T10:27:06.834841",
     "status": "completed"
    },
    "tags": []
   },
   "outputs": [
    {
     "data": {
      "application/javascript": [
       "parent.postMessage({\"jupyterEvent\": \"custom.exercise_interaction\", \"data\": {\"outcomeType\": 1, \"valueTowardsCompletion\": 0.2, \"interactionType\": 1, \"questionType\": 2, \"questionId\": \"3_PurpleShell\", \"learnToolsVersion\": \"0.3.5\", \"failureMessage\": \"\", \"exceptionClass\": \"\", \"trace\": \"\"}}, \"*\")"
      ],
      "text/plain": [
       "<IPython.core.display.Javascript object>"
      ]
     },
     "metadata": {},
     "output_type": "display_data"
    },
    {
     "data": {
      "text/markdown": [
       "<span style=\"color:#33cc33\">Correct</span>"
      ],
      "text/plain": [
       "Correct"
      ]
     },
     "metadata": {},
     "output_type": "display_data"
    }
   ],
   "source": [
    "def purple_shell(racers):\n",
    "    \"\"\"Given a list of racers, set the first place racer (at the front of the list) to last\n",
    "    place and vice versa.\n",
    "    \n",
    "    >>> r = [\"Mario\", \"Bowser\", \"Luigi\"]\n",
    "    >>> purple_shell(r)\n",
    "    >>> r\n",
    "    [\"Luigi\", \"Bowser\", \"Mario\"]\n",
    "    \"\"\"\n",
    "\n",
    "    last_ones= racers[0] \n",
    "    racers[0] = racers[-1]\n",
    "    racers[-1] = last_ones\n",
    "    \n",
    "    pass\n",
    "\n",
    "# Check your answer\n",
    "q3.check()"
   ]
  },
  {
   "cell_type": "code",
   "execution_count": 7,
   "id": "88e33016",
   "metadata": {
    "execution": {
     "iopub.execute_input": "2025-05-31T10:27:06.857688Z",
     "iopub.status.busy": "2025-05-31T10:27:06.857391Z",
     "iopub.status.idle": "2025-05-31T10:27:06.861066Z",
     "shell.execute_reply": "2025-05-31T10:27:06.860252Z"
    },
    "papermill": {
     "duration": 0.009858,
     "end_time": "2025-05-31T10:27:06.862535",
     "exception": false,
     "start_time": "2025-05-31T10:27:06.852677",
     "status": "completed"
    },
    "tags": []
   },
   "outputs": [],
   "source": [
    "# q3.hint()\n",
    "# q3.solution()"
   ]
  },
  {
   "cell_type": "markdown",
   "id": "b2196ba6",
   "metadata": {
    "papermill": {
     "duration": 0.003653,
     "end_time": "2025-05-31T10:27:06.870297",
     "exception": false,
     "start_time": "2025-05-31T10:27:06.866644",
     "status": "completed"
    },
    "tags": []
   },
   "source": [
    "# 4.\n",
    "\n",
    "What are the lengths of the following lists? Fill in the variable `lengths` with your predictions. (Try to make a prediction for each list *without* just calling `len()` on it.)"
   ]
  },
  {
   "cell_type": "code",
   "execution_count": 8,
   "id": "8e055a2e",
   "metadata": {
    "execution": {
     "iopub.execute_input": "2025-05-31T10:27:06.879981Z",
     "iopub.status.busy": "2025-05-31T10:27:06.879073Z",
     "iopub.status.idle": "2025-05-31T10:27:06.887573Z",
     "shell.execute_reply": "2025-05-31T10:27:06.886725Z"
    },
    "papermill": {
     "duration": 0.014643,
     "end_time": "2025-05-31T10:27:06.888990",
     "exception": false,
     "start_time": "2025-05-31T10:27:06.874347",
     "status": "completed"
    },
    "tags": []
   },
   "outputs": [
    {
     "data": {
      "application/javascript": [
       "parent.postMessage({\"jupyterEvent\": \"custom.exercise_interaction\", \"data\": {\"outcomeType\": 1, \"valueTowardsCompletion\": 0.2, \"interactionType\": 1, \"questionType\": 1, \"questionId\": \"4_UnderstandLen\", \"learnToolsVersion\": \"0.3.5\", \"failureMessage\": \"\", \"exceptionClass\": \"\", \"trace\": \"\"}}, \"*\")"
      ],
      "text/plain": [
       "<IPython.core.display.Javascript object>"
      ]
     },
     "metadata": {},
     "output_type": "display_data"
    },
    {
     "data": {
      "text/markdown": [
       "<span style=\"color:#33cc33\">Correct:</span> \n",
       "\n",
       "\n",
       "- a: There are three items in this list. Nothing tricky yet.\n",
       "- b: The list `[2, 3]` counts as a single item. It has one item before it. So we have 2 items in the list\n",
       "- c: The empty list has 0 items\n",
       "- d: The expression is the same as the list `[2, 3]`, which has length 2."
      ],
      "text/plain": [
       "Correct: \n",
       "\n",
       "\n",
       "- a: There are three items in this list. Nothing tricky yet.\n",
       "- b: The list `[2, 3]` counts as a single item. It has one item before it. So we have 2 items in the list\n",
       "- c: The empty list has 0 items\n",
       "- d: The expression is the same as the list `[2, 3]`, which has length 2."
      ]
     },
     "metadata": {},
     "output_type": "display_data"
    }
   ],
   "source": [
    "a = [1, 2, 3]\n",
    "b = [1, [2, 3]]\n",
    "c = []\n",
    "d = [1, 2, 3][1:]\n",
    "\n",
    "# Put your predictions in the list below. Lengths should contain 4 numbers, the\n",
    "# first being the length of a, the second being the length of b and so on.\n",
    "lengths = [len(a), len(b),len(c),len(d)]\n",
    "\n",
    "# Check your answer\n",
    "q4.check()"
   ]
  },
  {
   "cell_type": "code",
   "execution_count": 9,
   "id": "9dc1854a",
   "metadata": {
    "collapsed": true,
    "execution": {
     "iopub.execute_input": "2025-05-31T10:27:06.899803Z",
     "iopub.status.busy": "2025-05-31T10:27:06.899140Z",
     "iopub.status.idle": "2025-05-31T10:27:06.903138Z",
     "shell.execute_reply": "2025-05-31T10:27:06.902332Z"
    },
    "jupyter": {
     "outputs_hidden": true
    },
    "papermill": {
     "duration": 0.011388,
     "end_time": "2025-05-31T10:27:06.904734",
     "exception": false,
     "start_time": "2025-05-31T10:27:06.893346",
     "status": "completed"
    },
    "tags": []
   },
   "outputs": [],
   "source": [
    "# line below provides some explanation\n",
    "#q4.solution()"
   ]
  },
  {
   "cell_type": "markdown",
   "id": "db12d9cf",
   "metadata": {
    "papermill": {
     "duration": 0.005278,
     "end_time": "2025-05-31T10:27:06.914824",
     "exception": false,
     "start_time": "2025-05-31T10:27:06.909546",
     "status": "completed"
    },
    "tags": []
   },
   "source": [
    "# 5. <span title=\"A bit spicy\" style=\"color: darkgreen \">🌶️</span>\n",
    "\n",
    "We're using lists to record people who attended our party and what order they arrived in. For example, the following list represents a party with 7 guests, in which Adela showed up first and Ford was the last to arrive:\n",
    "\n",
    "    party_attendees = ['Adela', 'Fleda', 'Owen', 'May', 'Mona', 'Gilbert', 'Ford']\n",
    "\n",
    "A guest is considered 'fashionably late' if they arrived after at least half of the party's guests. However, they must not be the very last guest (that's taking it too far). In the above example, Mona and Gilbert are the only guests who were fashionably late.\n",
    "\n",
    "Complete the function below which takes a list of party attendees as well as a person, and tells us whether that person is fashionably late."
   ]
  },
  {
   "cell_type": "code",
   "execution_count": 10,
   "id": "a8c65bad",
   "metadata": {
    "execution": {
     "iopub.execute_input": "2025-05-31T10:27:06.925163Z",
     "iopub.status.busy": "2025-05-31T10:27:06.924251Z",
     "iopub.status.idle": "2025-05-31T10:27:06.932243Z",
     "shell.execute_reply": "2025-05-31T10:27:06.931403Z"
    },
    "papermill": {
     "duration": 0.014668,
     "end_time": "2025-05-31T10:27:06.933766",
     "exception": false,
     "start_time": "2025-05-31T10:27:06.919098",
     "status": "completed"
    },
    "tags": []
   },
   "outputs": [
    {
     "data": {
      "application/javascript": [
       "parent.postMessage({\"jupyterEvent\": \"custom.exercise_interaction\", \"data\": {\"outcomeType\": 1, \"valueTowardsCompletion\": 0.2, \"interactionType\": 1, \"questionType\": 2, \"questionId\": \"5_FashionablyLate\", \"learnToolsVersion\": \"0.3.5\", \"failureMessage\": \"\", \"exceptionClass\": \"\", \"trace\": \"\"}}, \"*\")"
      ],
      "text/plain": [
       "<IPython.core.display.Javascript object>"
      ]
     },
     "metadata": {},
     "output_type": "display_data"
    },
    {
     "data": {
      "text/markdown": [
       "<span style=\"color:#33cc33\">Correct</span>"
      ],
      "text/plain": [
       "Correct"
      ]
     },
     "metadata": {},
     "output_type": "display_data"
    }
   ],
   "source": [
    "def fashionably_late(arrivals, name):\n",
    "    \"\"\"Given an ordered list of arrivals to the party and a name, return whether the guest with that\n",
    "    name was fashionably late.\n",
    "    \"\"\"\n",
    "    last = arrivals.index(name)\n",
    "    return last >= len(arrivals)/2 and last != len(arrivals)-1\n",
    "# Check your answer\n",
    "q5.check()"
   ]
  },
  {
   "cell_type": "code",
   "execution_count": 11,
   "id": "e13a40ea",
   "metadata": {
    "execution": {
     "iopub.execute_input": "2025-05-31T10:27:06.944173Z",
     "iopub.status.busy": "2025-05-31T10:27:06.943884Z",
     "iopub.status.idle": "2025-05-31T10:27:06.947278Z",
     "shell.execute_reply": "2025-05-31T10:27:06.946503Z"
    },
    "papermill": {
     "duration": 0.010374,
     "end_time": "2025-05-31T10:27:06.948721",
     "exception": false,
     "start_time": "2025-05-31T10:27:06.938347",
     "status": "completed"
    },
    "tags": []
   },
   "outputs": [],
   "source": [
    "# q5.hint()\n",
    "# q5.solution()"
   ]
  },
  {
   "cell_type": "markdown",
   "id": "c0df23a1",
   "metadata": {
    "papermill": {
     "duration": 0.004156,
     "end_time": "2025-05-31T10:27:06.957481",
     "exception": false,
     "start_time": "2025-05-31T10:27:06.953325",
     "status": "completed"
    },
    "tags": []
   },
   "source": [
    "# Keep Going\n",
    "\n",
    "That's it for lists and tuples! Now you have the baseline knowledge to **[learn about loops](https://www.kaggle.com/colinmorris/loops-and-list-comprehensions)**, which is where lists and tuples get really interesting. "
   ]
  },
  {
   "cell_type": "markdown",
   "id": "5cbb4ee6",
   "metadata": {
    "papermill": {
     "duration": 0.00403,
     "end_time": "2025-05-31T10:27:06.965902",
     "exception": false,
     "start_time": "2025-05-31T10:27:06.961872",
     "status": "completed"
    },
    "tags": []
   },
   "source": [
    "---\n",
    "\n",
    "\n",
    "\n",
    "\n",
    "*Have questions or comments? Visit the [course discussion forum](https://www.kaggle.com/learn/python/discussion) to chat with other learners.*"
   ]
  }
 ],
 "metadata": {
  "kaggle": {
   "accelerator": "none",
   "dataSources": [],
   "isGpuEnabled": false,
   "isInternetEnabled": false,
   "language": "python",
   "sourceType": "notebook"
  },
  "kernelspec": {
   "display_name": "Python 3",
   "language": "python",
   "name": "python3"
  },
  "language_info": {
   "codemirror_mode": {
    "name": "ipython",
    "version": 3
   },
   "file_extension": ".py",
   "mimetype": "text/x-python",
   "name": "python",
   "nbconvert_exporter": "python",
   "pygments_lexer": "ipython3",
   "version": "3.11.11"
  },
  "learntools_metadata": {
   "lesson_index": 3,
   "type": "exercise"
  },
  "papermill": {
   "default_parameters": {},
   "duration": 7.375932,
   "end_time": "2025-05-31T10:27:07.490133",
   "environment_variables": {},
   "exception": null,
   "input_path": "__notebook__.ipynb",
   "output_path": "__notebook__.ipynb",
   "parameters": {},
   "start_time": "2025-05-31T10:27:00.114201",
   "version": "2.6.0"
  }
 },
 "nbformat": 4,
 "nbformat_minor": 5
}
