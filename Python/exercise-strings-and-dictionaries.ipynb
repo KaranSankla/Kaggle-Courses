{
 "cells": [
  {
   "cell_type": "markdown",
   "id": "98140911",
   "metadata": {
    "papermill": {
     "duration": 0.005015,
     "end_time": "2025-06-01T12:54:20.963801",
     "exception": false,
     "start_time": "2025-06-01T12:54:20.958786",
     "status": "completed"
    },
    "tags": []
   },
   "source": [
    "**This notebook is an exercise in the [Python](https://www.kaggle.com/learn/python) course.  You can reference the tutorial at [this link](https://www.kaggle.com/colinmorris/strings-and-dictionaries).**\n",
    "\n",
    "---\n"
   ]
  },
  {
   "cell_type": "markdown",
   "id": "81282631",
   "metadata": {
    "papermill": {
     "duration": 0.003865,
     "end_time": "2025-06-01T12:54:20.972092",
     "exception": false,
     "start_time": "2025-06-01T12:54:20.968227",
     "status": "completed"
    },
    "tags": []
   },
   "source": [
    "You are almost done with the course. Nice job!\n",
    "\n",
    "We have a couple more interesting problems for you before you go. \n",
    "\n",
    "As always, run the setup code below before working on the questions."
   ]
  },
  {
   "cell_type": "code",
   "execution_count": 1,
   "id": "f28350b7",
   "metadata": {
    "execution": {
     "iopub.execute_input": "2025-06-01T12:54:20.981509Z",
     "iopub.status.busy": "2025-06-01T12:54:20.981190Z",
     "iopub.status.idle": "2025-06-01T12:54:22.859849Z",
     "shell.execute_reply": "2025-06-01T12:54:22.858682Z"
    },
    "papermill": {
     "duration": 1.885352,
     "end_time": "2025-06-01T12:54:22.861504",
     "exception": false,
     "start_time": "2025-06-01T12:54:20.976152",
     "status": "completed"
    },
    "tags": []
   },
   "outputs": [
    {
     "name": "stdout",
     "output_type": "stream",
     "text": [
      "Setup complete.\n"
     ]
    }
   ],
   "source": [
    "from learntools.core import binder; binder.bind(globals())\n",
    "from learntools.python.ex6 import *\n",
    "print('Setup complete.')"
   ]
  },
  {
   "cell_type": "markdown",
   "id": "7c21237d",
   "metadata": {
    "papermill": {
     "duration": 0.004227,
     "end_time": "2025-06-01T12:54:22.870439",
     "exception": false,
     "start_time": "2025-06-01T12:54:22.866212",
     "status": "completed"
    },
    "tags": []
   },
   "source": [
    "Let's start with a string lightning round to warm up. What are the lengths of the strings below?\n",
    "\n",
    "For each of the five strings below, predict what `len()` would return when passed that string. Use the variable `length` to record your answer, then run the cell to check whether you were right.  \n",
    "\n",
    "# 0a."
   ]
  },
  {
   "cell_type": "code",
   "execution_count": 2,
   "id": "6595ce84",
   "metadata": {
    "execution": {
     "iopub.execute_input": "2025-06-01T12:54:22.879817Z",
     "iopub.status.busy": "2025-06-01T12:54:22.879398Z",
     "iopub.status.idle": "2025-06-01T12:54:22.887990Z",
     "shell.execute_reply": "2025-06-01T12:54:22.887266Z"
    },
    "papermill": {
     "duration": 0.014762,
     "end_time": "2025-06-01T12:54:22.889322",
     "exception": false,
     "start_time": "2025-06-01T12:54:22.874560",
     "status": "completed"
    },
    "tags": []
   },
   "outputs": [
    {
     "data": {
      "application/javascript": [
       "parent.postMessage({\"jupyterEvent\": \"custom.exercise_interaction\", \"data\": {\"outcomeType\": 1, \"valueTowardsCompletion\": 0.3333333333333333, \"interactionType\": 1, \"questionType\": 1, \"questionId\": \"0.1_ZA\", \"learnToolsVersion\": \"0.3.5\", \"failureMessage\": \"\", \"exceptionClass\": \"\", \"trace\": \"\"}}, \"*\")"
      ],
      "text/plain": [
       "<IPython.core.display.Javascript object>"
      ]
     },
     "metadata": {},
     "output_type": "display_data"
    },
    {
     "data": {
      "text/markdown": [
       "<span style=\"color:#33cc33\">Correct:</span> \n",
       "\n",
       "The empty string has length zero. Note that the empty string is also the only string that Python considers as False when converting to boolean."
      ],
      "text/plain": [
       "Correct: \n",
       "\n",
       "The empty string has length zero. Note that the empty string is also the only string that Python considers as False when converting to boolean."
      ]
     },
     "metadata": {},
     "output_type": "display_data"
    }
   ],
   "source": [
    "a = \"\"\n",
    "length = 0\n",
    "q0.a.check()"
   ]
  },
  {
   "cell_type": "markdown",
   "id": "0940f2d5",
   "metadata": {
    "papermill": {
     "duration": 0.004089,
     "end_time": "2025-06-01T12:54:22.897928",
     "exception": false,
     "start_time": "2025-06-01T12:54:22.893839",
     "status": "completed"
    },
    "tags": []
   },
   "source": [
    "# 0b."
   ]
  },
  {
   "cell_type": "code",
   "execution_count": 3,
   "id": "5a69f42c",
   "metadata": {
    "execution": {
     "iopub.execute_input": "2025-06-01T12:54:22.907503Z",
     "iopub.status.busy": "2025-06-01T12:54:22.907190Z",
     "iopub.status.idle": "2025-06-01T12:54:22.914161Z",
     "shell.execute_reply": "2025-06-01T12:54:22.913342Z"
    },
    "papermill": {
     "duration": 0.013535,
     "end_time": "2025-06-01T12:54:22.915660",
     "exception": false,
     "start_time": "2025-06-01T12:54:22.902125",
     "status": "completed"
    },
    "tags": []
   },
   "outputs": [
    {
     "data": {
      "application/javascript": [
       "parent.postMessage({\"jupyterEvent\": \"custom.exercise_interaction\", \"data\": {\"outcomeType\": 1, \"valueTowardsCompletion\": 0.3333333333333333, \"interactionType\": 1, \"questionType\": 1, \"questionId\": \"0.2_ZB\", \"learnToolsVersion\": \"0.3.5\", \"failureMessage\": \"\", \"exceptionClass\": \"\", \"trace\": \"\"}}, \"*\")"
      ],
      "text/plain": [
       "<IPython.core.display.Javascript object>"
      ]
     },
     "metadata": {},
     "output_type": "display_data"
    },
    {
     "data": {
      "text/markdown": [
       "<span style=\"color:#33cc33\">Correct:</span> \n",
       "\n",
       "Keep in mind Python includes spaces (and punctuation) when counting string length."
      ],
      "text/plain": [
       "Correct: \n",
       "\n",
       "Keep in mind Python includes spaces (and punctuation) when counting string length."
      ]
     },
     "metadata": {},
     "output_type": "display_data"
    }
   ],
   "source": [
    "b = \"it's ok\"\n",
    "length = 7\n",
    "q0.b.check()"
   ]
  },
  {
   "cell_type": "markdown",
   "id": "5ee33a7d",
   "metadata": {
    "papermill": {
     "duration": 0.004269,
     "end_time": "2025-06-01T12:54:22.924620",
     "exception": false,
     "start_time": "2025-06-01T12:54:22.920351",
     "status": "completed"
    },
    "tags": []
   },
   "source": [
    "# 0c."
   ]
  },
  {
   "cell_type": "code",
   "execution_count": 4,
   "id": "f4dc367b",
   "metadata": {
    "execution": {
     "iopub.execute_input": "2025-06-01T12:54:22.935217Z",
     "iopub.status.busy": "2025-06-01T12:54:22.934631Z",
     "iopub.status.idle": "2025-06-01T12:54:22.941261Z",
     "shell.execute_reply": "2025-06-01T12:54:22.940576Z"
    },
    "papermill": {
     "duration": 0.013287,
     "end_time": "2025-06-01T12:54:22.942566",
     "exception": false,
     "start_time": "2025-06-01T12:54:22.929279",
     "status": "completed"
    },
    "tags": []
   },
   "outputs": [
    {
     "data": {
      "application/javascript": [
       "parent.postMessage({\"jupyterEvent\": \"custom.exercise_interaction\", \"data\": {\"outcomeType\": 1, \"valueTowardsCompletion\": 0.3333333333333333, \"interactionType\": 1, \"questionType\": 1, \"questionId\": \"0.3_ZC\", \"learnToolsVersion\": \"0.3.5\", \"failureMessage\": \"\", \"exceptionClass\": \"\", \"trace\": \"\"}}, \"*\")"
      ],
      "text/plain": [
       "<IPython.core.display.Javascript object>"
      ]
     },
     "metadata": {},
     "output_type": "display_data"
    },
    {
     "data": {
      "text/markdown": [
       "<span style=\"color:#33cc33\">Correct:</span> \n",
       "\n",
       "Even though we use different syntax to create it, the string `c` is identical to `b`. In particular, note that the backslash is not part of the string, so it doesn't contribute to its length."
      ],
      "text/plain": [
       "Correct: \n",
       "\n",
       "Even though we use different syntax to create it, the string `c` is identical to `b`. In particular, note that the backslash is not part of the string, so it doesn't contribute to its length."
      ]
     },
     "metadata": {},
     "output_type": "display_data"
    }
   ],
   "source": [
    "c = 'it\\'s ok'\n",
    "length = 7\n",
    "q0.c.check()"
   ]
  },
  {
   "cell_type": "markdown",
   "id": "a9935863",
   "metadata": {
    "papermill": {
     "duration": 0.004513,
     "end_time": "2025-06-01T12:54:22.951822",
     "exception": false,
     "start_time": "2025-06-01T12:54:22.947309",
     "status": "completed"
    },
    "tags": []
   },
   "source": [
    "# 0d."
   ]
  },
  {
   "cell_type": "code",
   "execution_count": 5,
   "id": "f42431a6",
   "metadata": {
    "execution": {
     "iopub.execute_input": "2025-06-01T12:54:22.962484Z",
     "iopub.status.busy": "2025-06-01T12:54:22.961780Z",
     "iopub.status.idle": "2025-06-01T12:54:22.968846Z",
     "shell.execute_reply": "2025-06-01T12:54:22.968064Z"
    },
    "papermill": {
     "duration": 0.013902,
     "end_time": "2025-06-01T12:54:22.970320",
     "exception": false,
     "start_time": "2025-06-01T12:54:22.956418",
     "status": "completed"
    },
    "tags": []
   },
   "outputs": [
    {
     "data": {
      "application/javascript": [
       "parent.postMessage({\"jupyterEvent\": \"custom.exercise_interaction\", \"data\": {\"outcomeType\": 1, \"valueTowardsCompletion\": 0.3333333333333333, \"interactionType\": 1, \"questionType\": 1, \"questionId\": \"0.4_ZD\", \"learnToolsVersion\": \"0.3.5\", \"failureMessage\": \"\", \"exceptionClass\": \"\", \"trace\": \"\"}}, \"*\")"
      ],
      "text/plain": [
       "<IPython.core.display.Javascript object>"
      ]
     },
     "metadata": {},
     "output_type": "display_data"
    },
    {
     "data": {
      "text/markdown": [
       "<span style=\"color:#33cc33\">Correct:</span> \n",
       "\n",
       "The fact that this string was created using triple-quote syntax doesn't make any difference in terms of its content or length. This string is exactly the same as `'hey'`."
      ],
      "text/plain": [
       "Correct: \n",
       "\n",
       "The fact that this string was created using triple-quote syntax doesn't make any difference in terms of its content or length. This string is exactly the same as `'hey'`."
      ]
     },
     "metadata": {},
     "output_type": "display_data"
    }
   ],
   "source": [
    "d = \"\"\"hey\"\"\"\n",
    "length = 3\n",
    "q0.d.check()"
   ]
  },
  {
   "cell_type": "markdown",
   "id": "8f1dd587",
   "metadata": {
    "papermill": {
     "duration": 0.004863,
     "end_time": "2025-06-01T12:54:22.980242",
     "exception": false,
     "start_time": "2025-06-01T12:54:22.975379",
     "status": "completed"
    },
    "tags": []
   },
   "source": [
    "# 0e."
   ]
  },
  {
   "cell_type": "code",
   "execution_count": 6,
   "id": "00d3b6f2",
   "metadata": {
    "execution": {
     "iopub.execute_input": "2025-06-01T12:54:22.991071Z",
     "iopub.status.busy": "2025-06-01T12:54:22.990499Z",
     "iopub.status.idle": "2025-06-01T12:54:22.997278Z",
     "shell.execute_reply": "2025-06-01T12:54:22.996502Z"
    },
    "papermill": {
     "duration": 0.013545,
     "end_time": "2025-06-01T12:54:22.998585",
     "exception": false,
     "start_time": "2025-06-01T12:54:22.985040",
     "status": "completed"
    },
    "tags": []
   },
   "outputs": [
    {
     "data": {
      "application/javascript": [
       "parent.postMessage({\"jupyterEvent\": \"custom.exercise_interaction\", \"data\": {\"outcomeType\": 1, \"valueTowardsCompletion\": 0.3333333333333333, \"interactionType\": 1, \"questionType\": 1, \"questionId\": \"0.5_ZE\", \"learnToolsVersion\": \"0.3.5\", \"failureMessage\": \"\", \"exceptionClass\": \"\", \"trace\": \"\"}}, \"*\")"
      ],
      "text/plain": [
       "<IPython.core.display.Javascript object>"
      ]
     },
     "metadata": {},
     "output_type": "display_data"
    },
    {
     "data": {
      "text/markdown": [
       "<span style=\"color:#33cc33\">Correct:</span> \n",
       "\n",
       "The newline character is just a single character! (Even though we represent it to Python using a combination of two characters.)"
      ],
      "text/plain": [
       "Correct: \n",
       "\n",
       "The newline character is just a single character! (Even though we represent it to Python using a combination of two characters.)"
      ]
     },
     "metadata": {},
     "output_type": "display_data"
    }
   ],
   "source": [
    "e = '\\n'\n",
    "length = 1\n",
    "q0.e.check()"
   ]
  },
  {
   "cell_type": "markdown",
   "id": "aa59c2a7",
   "metadata": {
    "papermill": {
     "duration": 0.005305,
     "end_time": "2025-06-01T12:54:23.008950",
     "exception": false,
     "start_time": "2025-06-01T12:54:23.003645",
     "status": "completed"
    },
    "tags": []
   },
   "source": [
    "# 1.\n",
    "\n",
    "There is a saying that \"Data scientists spend 80% of their time cleaning data, and 20% of their time complaining about cleaning data.\" Let's see if you can write a function to help clean US zip code data. Given a string, it should return whether or not that string represents a valid zip code. For our purposes, a valid zip code is any string consisting of exactly 5 digits.\n",
    "\n",
    "HINT: `str` has a method that will be useful here. Use `help(str)` to review a list of string methods."
   ]
  },
  {
   "cell_type": "code",
   "execution_count": 7,
   "id": "d160ad25",
   "metadata": {
    "execution": {
     "iopub.execute_input": "2025-06-01T12:54:23.020340Z",
     "iopub.status.busy": "2025-06-01T12:54:23.019720Z",
     "iopub.status.idle": "2025-06-01T12:54:23.026700Z",
     "shell.execute_reply": "2025-06-01T12:54:23.026048Z"
    },
    "papermill": {
     "duration": 0.014075,
     "end_time": "2025-06-01T12:54:23.027968",
     "exception": false,
     "start_time": "2025-06-01T12:54:23.013893",
     "status": "completed"
    },
    "tags": []
   },
   "outputs": [
    {
     "data": {
      "application/javascript": [
       "parent.postMessage({\"jupyterEvent\": \"custom.exercise_interaction\", \"data\": {\"outcomeType\": 1, \"valueTowardsCompletion\": 0.3333333333333333, \"interactionType\": 1, \"questionType\": 2, \"questionId\": \"1_ZipValidator\", \"learnToolsVersion\": \"0.3.5\", \"failureMessage\": \"\", \"exceptionClass\": \"\", \"trace\": \"\"}}, \"*\")"
      ],
      "text/plain": [
       "<IPython.core.display.Javascript object>"
      ]
     },
     "metadata": {},
     "output_type": "display_data"
    },
    {
     "data": {
      "text/markdown": [
       "<span style=\"color:#33cc33\">Correct</span>"
      ],
      "text/plain": [
       "Correct"
      ]
     },
     "metadata": {},
     "output_type": "display_data"
    }
   ],
   "source": [
    "def is_valid_zip(zip_code):\n",
    "    return  len(zip_code)==5 and str.isdigit(zip_code)\n",
    "    \n",
    "    \n",
    "    \n",
    "        \n",
    "      \n",
    "    \n",
    "\n",
    "# Check your answer\n",
    "q1.check()"
   ]
  },
  {
   "cell_type": "code",
   "execution_count": 8,
   "id": "de0f74c5",
   "metadata": {
    "execution": {
     "iopub.execute_input": "2025-06-01T12:54:23.039514Z",
     "iopub.status.busy": "2025-06-01T12:54:23.039257Z",
     "iopub.status.idle": "2025-06-01T12:54:23.042906Z",
     "shell.execute_reply": "2025-06-01T12:54:23.042142Z"
    },
    "papermill": {
     "duration": 0.010983,
     "end_time": "2025-06-01T12:54:23.044247",
     "exception": false,
     "start_time": "2025-06-01T12:54:23.033264",
     "status": "completed"
    },
    "tags": []
   },
   "outputs": [],
   "source": [
    "# #q1.hint()\n",
    "# q1.solution()"
   ]
  },
  {
   "cell_type": "markdown",
   "id": "132341f7",
   "metadata": {
    "papermill": {
     "duration": 0.005071,
     "end_time": "2025-06-01T12:54:23.054589",
     "exception": false,
     "start_time": "2025-06-01T12:54:23.049518",
     "status": "completed"
    },
    "tags": []
   },
   "source": [
    "# 2.\n",
    "\n",
    "A researcher has gathered thousands of news articles. But she wants to focus her attention on articles including a specific word. Complete the function below to help her filter her list of articles.\n",
    "\n",
    "Your function should meet the following criteria:\n",
    "\n",
    "- Do not include documents where the keyword string shows up only as a part of a larger word. For example, if she were looking for the keyword “closed”, you would not include the string “enclosed.” \n",
    "- She does not want you to distinguish upper case from lower case letters. So the phrase “Closed the case.” would be included when the keyword is “closed”\n",
    "- Do not let periods or commas affect what is matched. “It is closed.” would be included when the keyword is “closed”. But you can assume there are no other types of punctuation."
   ]
  },
  {
   "cell_type": "code",
   "execution_count": 9,
   "id": "e6159027",
   "metadata": {
    "execution": {
     "iopub.execute_input": "2025-06-01T12:54:23.066639Z",
     "iopub.status.busy": "2025-06-01T12:54:23.065946Z",
     "iopub.status.idle": "2025-06-01T12:54:23.071393Z",
     "shell.execute_reply": "2025-06-01T12:54:23.070422Z"
    },
    "papermill": {
     "duration": 0.013005,
     "end_time": "2025-06-01T12:54:23.072866",
     "exception": false,
     "start_time": "2025-06-01T12:54:23.059861",
     "status": "completed"
    },
    "tags": []
   },
   "outputs": [],
   "source": [
    "def word_search(doc_list, keyword):\n",
    "    # list to hold the indices of matching documents\n",
    "    indices = [] \n",
    "    # Iterate through the indices (i) and elements (doc) of documents\n",
    "    for i, doc in enumerate(doc_list):\n",
    "        # Split the string doc into a list of words (according to whitespace)\n",
    "        tokens = doc.split()\n",
    "        # Make a transformed list where we 'normalize' each word to facilitate matching.\n",
    "        # Periods and commas are removed from the end of each word, and it's set to all lowercase.\n",
    "        normalized = [token.rstrip('.,').lower() for token in tokens]\n",
    "        # Is there a match? If so, update the list of matching indices.\n",
    "        if keyword.lower() in normalized:\n",
    "            indices.append(i)\n",
    "    return indices"
   ]
  },
  {
   "cell_type": "code",
   "execution_count": 10,
   "id": "f2757e75",
   "metadata": {
    "execution": {
     "iopub.execute_input": "2025-06-01T12:54:23.084744Z",
     "iopub.status.busy": "2025-06-01T12:54:23.084121Z",
     "iopub.status.idle": "2025-06-01T12:54:23.087569Z",
     "shell.execute_reply": "2025-06-01T12:54:23.086900Z"
    },
    "papermill": {
     "duration": 0.010623,
     "end_time": "2025-06-01T12:54:23.088828",
     "exception": false,
     "start_time": "2025-06-01T12:54:23.078205",
     "status": "completed"
    },
    "tags": []
   },
   "outputs": [],
   "source": [
    "# q2.hint()\n",
    "# q2.solution()"
   ]
  },
  {
   "cell_type": "markdown",
   "id": "8107e891",
   "metadata": {
    "papermill": {
     "duration": 0.005127,
     "end_time": "2025-06-01T12:54:23.099294",
     "exception": false,
     "start_time": "2025-06-01T12:54:23.094167",
     "status": "completed"
    },
    "tags": []
   },
   "source": [
    "# 3.\n",
    "\n",
    "Now the researcher wants to supply multiple keywords to search for. Complete the function below to help her.\n",
    "\n",
    "(You're encouraged to use the `word_search` function you just wrote when implementing this function. Reusing code in this way makes your programs more robust and readable - and it saves typing!)"
   ]
  },
  {
   "cell_type": "code",
   "execution_count": 11,
   "id": "bf68102b",
   "metadata": {
    "execution": {
     "iopub.execute_input": "2025-06-01T12:54:23.112448Z",
     "iopub.status.busy": "2025-06-01T12:54:23.111622Z",
     "iopub.status.idle": "2025-06-01T12:54:23.119609Z",
     "shell.execute_reply": "2025-06-01T12:54:23.118963Z"
    },
    "papermill": {
     "duration": 0.016344,
     "end_time": "2025-06-01T12:54:23.120837",
     "exception": false,
     "start_time": "2025-06-01T12:54:23.104493",
     "status": "completed"
    },
    "tags": []
   },
   "outputs": [
    {
     "data": {
      "application/javascript": [
       "parent.postMessage({\"jupyterEvent\": \"custom.exercise_interaction\", \"data\": {\"outcomeType\": 1, \"valueTowardsCompletion\": 0.3333333333333333, \"interactionType\": 1, \"questionType\": 2, \"questionId\": \"3_MultiWordSearch\", \"learnToolsVersion\": \"0.3.5\", \"failureMessage\": \"\", \"exceptionClass\": \"\", \"trace\": \"\"}}, \"*\")"
      ],
      "text/plain": [
       "<IPython.core.display.Javascript object>"
      ]
     },
     "metadata": {},
     "output_type": "display_data"
    },
    {
     "data": {
      "text/markdown": [
       "<span style=\"color:#33cc33\">Correct</span>"
      ],
      "text/plain": [
       "Correct"
      ]
     },
     "metadata": {},
     "output_type": "display_data"
    }
   ],
   "source": [
    "def multi_word_search(documents, keywords):\n",
    "    keyword_to_indices = {}\n",
    "    for keyword in keywords:\n",
    "        keyword_to_indices[keyword] = word_search(documents, keyword)\n",
    "    return keyword_to_indices\n",
    "q3.check()"
   ]
  },
  {
   "cell_type": "code",
   "execution_count": 12,
   "id": "d2d793e6",
   "metadata": {
    "execution": {
     "iopub.execute_input": "2025-06-01T12:54:23.133875Z",
     "iopub.status.busy": "2025-06-01T12:54:23.133366Z",
     "iopub.status.idle": "2025-06-01T12:54:23.136842Z",
     "shell.execute_reply": "2025-06-01T12:54:23.136214Z"
    },
    "papermill": {
     "duration": 0.011567,
     "end_time": "2025-06-01T12:54:23.138118",
     "exception": false,
     "start_time": "2025-06-01T12:54:23.126551",
     "status": "completed"
    },
    "tags": []
   },
   "outputs": [],
   "source": [
    "# q3.solution()"
   ]
  },
  {
   "cell_type": "markdown",
   "id": "b94849e5",
   "metadata": {
    "papermill": {
     "duration": 0.005338,
     "end_time": "2025-06-01T12:54:23.148914",
     "exception": false,
     "start_time": "2025-06-01T12:54:23.143576",
     "status": "completed"
    },
    "tags": []
   },
   "source": [
    "# Keep Going\n",
    "\n",
    "You've learned a lot. But even the best programmers rely heavily on \"libraries\" of code from other programmers. You'll learn about that in **[the last lesson](https://www.kaggle.com/colinmorris/working-with-external-libraries)**.\n"
   ]
  },
  {
   "cell_type": "markdown",
   "id": "da387889",
   "metadata": {
    "papermill": {
     "duration": 0.005319,
     "end_time": "2025-06-01T12:54:23.159744",
     "exception": false,
     "start_time": "2025-06-01T12:54:23.154425",
     "status": "completed"
    },
    "tags": []
   },
   "source": [
    "---\n",
    "\n",
    "\n",
    "\n",
    "\n",
    "*Have questions or comments? Visit the [course discussion forum](https://www.kaggle.com/learn/python/discussion) to chat with other learners.*"
   ]
  }
 ],
 "metadata": {
  "kaggle": {
   "accelerator": "none",
   "dataSources": [],
   "isGpuEnabled": false,
   "isInternetEnabled": false,
   "language": "python",
   "sourceType": "notebook"
  },
  "kernelspec": {
   "display_name": "Python 3",
   "language": "python",
   "name": "python3"
  },
  "language_info": {
   "codemirror_mode": {
    "name": "ipython",
    "version": 3
   },
   "file_extension": ".py",
   "mimetype": "text/x-python",
   "name": "python",
   "nbconvert_exporter": "python",
   "pygments_lexer": "ipython3",
   "version": "3.11.11"
  },
  "learntools_metadata": {
   "lesson_index": 5,
   "type": "exercise"
  },
  "papermill": {
   "default_parameters": {},
   "duration": 7.39278,
   "end_time": "2025-06-01T12:54:23.583659",
   "environment_variables": {},
   "exception": null,
   "input_path": "__notebook__.ipynb",
   "output_path": "__notebook__.ipynb",
   "parameters": {},
   "start_time": "2025-06-01T12:54:16.190879",
   "version": "2.6.0"
  }
 },
 "nbformat": 4,
 "nbformat_minor": 5
}
