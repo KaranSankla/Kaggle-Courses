{
 "cells": [
  {
   "cell_type": "markdown",
   "id": "dc1be9c5",
   "metadata": {
    "papermill": {
     "duration": 0.007782,
     "end_time": "2025-05-31T09:32:50.255728",
     "exception": false,
     "start_time": "2025-05-31T09:32:50.247946",
     "status": "completed"
    },
    "tags": []
   },
   "source": [
    "**This notebook is an exercise in the [Python](https://www.kaggle.com/learn/python) course.  You can reference the tutorial at [this link](https://www.kaggle.com/colinmorris/booleans-and-conditionals).**\n",
    "\n",
    "---\n"
   ]
  },
  {
   "cell_type": "markdown",
   "id": "461f6d8a",
   "metadata": {
    "papermill": {
     "duration": 0.005888,
     "end_time": "2025-05-31T09:32:50.268704",
     "exception": false,
     "start_time": "2025-05-31T09:32:50.262816",
     "status": "completed"
    },
    "tags": []
   },
   "source": [
    "In this exercise, you'll put to work what you have learned about booleans and conditionals.\n",
    "\n",
    "To get started, **run the setup code below** before writing your own code (and if you leave this notebook and come back later, don't forget to run the setup code again)."
   ]
  },
  {
   "cell_type": "code",
   "execution_count": 1,
   "id": "40ea1be3",
   "metadata": {
    "execution": {
     "iopub.execute_input": "2025-05-31T09:32:50.283044Z",
     "iopub.status.busy": "2025-05-31T09:32:50.282658Z",
     "iopub.status.idle": "2025-05-31T09:32:52.444786Z",
     "shell.execute_reply": "2025-05-31T09:32:52.443509Z"
    },
    "papermill": {
     "duration": 2.171853,
     "end_time": "2025-05-31T09:32:52.447321",
     "exception": false,
     "start_time": "2025-05-31T09:32:50.275468",
     "status": "completed"
    },
    "tags": []
   },
   "outputs": [
    {
     "name": "stdout",
     "output_type": "stream",
     "text": [
      "Setup complete.\n"
     ]
    }
   ],
   "source": [
    "from learntools.core import binder; binder.bind(globals())\n",
    "from learntools.python.ex3 import *\n",
    "print('Setup complete.')"
   ]
  },
  {
   "cell_type": "markdown",
   "id": "96db1e1a",
   "metadata": {
    "papermill": {
     "duration": 0.006205,
     "end_time": "2025-05-31T09:32:52.461540",
     "exception": false,
     "start_time": "2025-05-31T09:32:52.455335",
     "status": "completed"
    },
    "tags": []
   },
   "source": [
    "# 1.\n",
    "\n",
    "Many programming languages have [`sign`](https://en.wikipedia.org/wiki/Sign_function) available as a built-in function. Python doesn't, but we can define our own!\n",
    "\n",
    "In the cell below, define a function called `sign` which takes a numerical argument and returns -1 if it's negative, 1 if it's positive, and 0 if it's 0."
   ]
  },
  {
   "cell_type": "code",
   "execution_count": 2,
   "id": "57459020",
   "metadata": {
    "execution": {
     "iopub.execute_input": "2025-05-31T09:32:52.477317Z",
     "iopub.status.busy": "2025-05-31T09:32:52.476844Z",
     "iopub.status.idle": "2025-05-31T09:32:52.487599Z",
     "shell.execute_reply": "2025-05-31T09:32:52.486665Z"
    },
    "papermill": {
     "duration": 0.020517,
     "end_time": "2025-05-31T09:32:52.489267",
     "exception": false,
     "start_time": "2025-05-31T09:32:52.468750",
     "status": "completed"
    },
    "tags": []
   },
   "outputs": [
    {
     "data": {
      "application/javascript": [
       "parent.postMessage({\"jupyterEvent\": \"custom.exercise_interaction\", \"data\": {\"outcomeType\": 1, \"valueTowardsCompletion\": 0.2, \"interactionType\": 1, \"questionType\": 2, \"questionId\": \"1_SignFunctionProblem\", \"learnToolsVersion\": \"0.3.5\", \"failureMessage\": \"\", \"exceptionClass\": \"\", \"trace\": \"\"}}, \"*\")"
      ],
      "text/plain": [
       "<IPython.core.display.Javascript object>"
      ]
     },
     "metadata": {},
     "output_type": "display_data"
    },
    {
     "data": {
      "text/markdown": [
       "<span style=\"color:#33cc33\">Correct</span>"
      ],
      "text/plain": [
       "Correct"
      ]
     },
     "metadata": {},
     "output_type": "display_data"
    }
   ],
   "source": [
    "# Your code goes here. Define a function called 'sign'\n",
    "def sign(num):\n",
    "    if num > 0:\n",
    "        result = 1\n",
    "    elif num < -0:\n",
    "        result = -1\n",
    "    else: result = 0\n",
    "    return result\n",
    "\n",
    "\n",
    "# Check your answer\n",
    "q1.check()"
   ]
  },
  {
   "cell_type": "code",
   "execution_count": 3,
   "id": "3522a9b3",
   "metadata": {
    "execution": {
     "iopub.execute_input": "2025-05-31T09:32:52.503609Z",
     "iopub.status.busy": "2025-05-31T09:32:52.503170Z",
     "iopub.status.idle": "2025-05-31T09:32:52.507635Z",
     "shell.execute_reply": "2025-05-31T09:32:52.506619Z"
    },
    "papermill": {
     "duration": 0.013575,
     "end_time": "2025-05-31T09:32:52.509372",
     "exception": false,
     "start_time": "2025-05-31T09:32:52.495797",
     "status": "completed"
    },
    "tags": []
   },
   "outputs": [],
   "source": [
    "#q1.solution()"
   ]
  },
  {
   "cell_type": "markdown",
   "id": "a5eea1a2",
   "metadata": {
    "papermill": {
     "duration": 0.007644,
     "end_time": "2025-05-31T09:32:52.523587",
     "exception": false,
     "start_time": "2025-05-31T09:32:52.515943",
     "status": "completed"
    },
    "tags": []
   },
   "source": [
    "# 2.\n",
    "\n",
    "We've decided to add \"logging\" to our `to_smash` function from the previous exercise."
   ]
  },
  {
   "cell_type": "code",
   "execution_count": 4,
   "id": "1da84f9d",
   "metadata": {
    "execution": {
     "iopub.execute_input": "2025-05-31T09:32:52.539251Z",
     "iopub.status.busy": "2025-05-31T09:32:52.538892Z",
     "iopub.status.idle": "2025-05-31T09:32:52.546549Z",
     "shell.execute_reply": "2025-05-31T09:32:52.545414Z"
    },
    "papermill": {
     "duration": 0.017065,
     "end_time": "2025-05-31T09:32:52.548303",
     "exception": false,
     "start_time": "2025-05-31T09:32:52.531238",
     "status": "completed"
    },
    "tags": []
   },
   "outputs": [
    {
     "name": "stdout",
     "output_type": "stream",
     "text": [
      "Splitting 91 candies\n"
     ]
    },
    {
     "data": {
      "text/plain": [
       "1"
      ]
     },
     "execution_count": 4,
     "metadata": {},
     "output_type": "execute_result"
    }
   ],
   "source": [
    "def to_smash(total_candies):\n",
    "    \"\"\"Return the number of leftover candies that must be smashed after distributing\n",
    "    the given number of candies evenly between 3 friends.\n",
    "    \n",
    "    >>> to_smash(91)\n",
    "    1\n",
    "    \"\"\"\n",
    "    print(\"Splitting\", total_candies, \"candies\")\n",
    "    return total_candies % 3\n",
    "\n",
    "to_smash(91)"
   ]
  },
  {
   "cell_type": "markdown",
   "id": "76cf9124",
   "metadata": {
    "papermill": {
     "duration": 0.006171,
     "end_time": "2025-05-31T09:32:52.562303",
     "exception": false,
     "start_time": "2025-05-31T09:32:52.556132",
     "status": "completed"
    },
    "tags": []
   },
   "source": [
    "What happens if we call it with `total_candies = 1`?"
   ]
  },
  {
   "cell_type": "code",
   "execution_count": 5,
   "id": "b8d10093",
   "metadata": {
    "execution": {
     "iopub.execute_input": "2025-05-31T09:32:52.577223Z",
     "iopub.status.busy": "2025-05-31T09:32:52.576900Z",
     "iopub.status.idle": "2025-05-31T09:32:52.582925Z",
     "shell.execute_reply": "2025-05-31T09:32:52.581768Z"
    },
    "papermill": {
     "duration": 0.01539,
     "end_time": "2025-05-31T09:32:52.584633",
     "exception": false,
     "start_time": "2025-05-31T09:32:52.569243",
     "status": "completed"
    },
    "tags": []
   },
   "outputs": [
    {
     "name": "stdout",
     "output_type": "stream",
     "text": [
      "Splitting 1 candies\n"
     ]
    },
    {
     "data": {
      "text/plain": [
       "1"
      ]
     },
     "execution_count": 5,
     "metadata": {},
     "output_type": "execute_result"
    }
   ],
   "source": [
    "to_smash(1)"
   ]
  },
  {
   "cell_type": "markdown",
   "id": "9d9399f9",
   "metadata": {
    "papermill": {
     "duration": 0.006813,
     "end_time": "2025-05-31T09:32:52.599135",
     "exception": false,
     "start_time": "2025-05-31T09:32:52.592322",
     "status": "completed"
    },
    "tags": []
   },
   "source": [
    "That isn't great grammar!\n",
    "\n",
    "Modify the definition in the cell below to correct the grammar of our print statement. (If there's only one candy, we should use the singular \"candy\" instead of the plural \"candies\")"
   ]
  },
  {
   "cell_type": "code",
   "execution_count": 6,
   "id": "73556f3b",
   "metadata": {
    "execution": {
     "iopub.execute_input": "2025-05-31T09:32:52.615289Z",
     "iopub.status.busy": "2025-05-31T09:32:52.614954Z",
     "iopub.status.idle": "2025-05-31T09:32:52.622448Z",
     "shell.execute_reply": "2025-05-31T09:32:52.621394Z"
    },
    "papermill": {
     "duration": 0.017547,
     "end_time": "2025-05-31T09:32:52.624026",
     "exception": false,
     "start_time": "2025-05-31T09:32:52.606479",
     "status": "completed"
    },
    "tags": []
   },
   "outputs": [
    {
     "name": "stdout",
     "output_type": "stream",
     "text": [
      "Splitting 91 candies\n",
      "Splitting 1 candy\n"
     ]
    },
    {
     "data": {
      "text/plain": [
       "1"
      ]
     },
     "execution_count": 6,
     "metadata": {},
     "output_type": "execute_result"
    }
   ],
   "source": [
    "def to_smash(total_candies):\n",
    "    \"\"\"Return the number of leftover candies that must be smashed after distributing\n",
    "    the given number of candies evenly between 3 friends.\n",
    "    \n",
    "    >>> to_smash(91)\n",
    "    1\n",
    "    \"\"\"\n",
    "    \n",
    "    if total_candies ==1:\n",
    "        print(\"Splitting\", total_candies, \"candy\")\n",
    "    else:\n",
    "        print(\"Splitting\", total_candies, \"candies\")\n",
    "    return total_candies % 3\n",
    "\n",
    "to_smash(91)\n",
    "to_smash(1)"
   ]
  },
  {
   "cell_type": "markdown",
   "id": "4de734cb",
   "metadata": {
    "papermill": {
     "duration": 0.006577,
     "end_time": "2025-05-31T09:32:52.637621",
     "exception": false,
     "start_time": "2025-05-31T09:32:52.631044",
     "status": "completed"
    },
    "tags": []
   },
   "source": [
    "To get credit for completing this problem, and to see the official answer, run the code cell below."
   ]
  },
  {
   "cell_type": "code",
   "execution_count": 7,
   "id": "cbfc3d60",
   "metadata": {
    "execution": {
     "iopub.execute_input": "2025-05-31T09:32:52.652532Z",
     "iopub.status.busy": "2025-05-31T09:32:52.652241Z",
     "iopub.status.idle": "2025-05-31T09:32:52.659782Z",
     "shell.execute_reply": "2025-05-31T09:32:52.658870Z"
    },
    "papermill": {
     "duration": 0.017362,
     "end_time": "2025-05-31T09:32:52.661816",
     "exception": false,
     "start_time": "2025-05-31T09:32:52.644454",
     "status": "completed"
    },
    "tags": []
   },
   "outputs": [
    {
     "data": {
      "application/javascript": [
       "parent.postMessage({\"jupyterEvent\": \"custom.exercise_interaction\", \"data\": {\"interactionType\": 3, \"questionType\": 4, \"questionId\": \"2_PluralizationProblem\", \"learnToolsVersion\": \"0.3.5\", \"valueTowardsCompletion\": 0.0, \"failureMessage\": \"\", \"exceptionClass\": \"\", \"trace\": \"\", \"outcomeType\": 4}}, \"*\")"
      ],
      "text/plain": [
       "<IPython.core.display.Javascript object>"
      ]
     },
     "metadata": {},
     "output_type": "display_data"
    },
    {
     "data": {
      "text/markdown": [
       "<span style=\"color:#33cc99\">Solution:</span> A straightforward (and totally fine) solution is to replace the original `print` call with:\n",
       "\n",
       "```python\n",
       "if total_candies == 1:\n",
       "    print(\"Splitting 1 candy\")\n",
       "else:\n",
       "    print(\"Splitting\", total_candies, \"candies\")\n",
       "```\n",
       "\n",
       "Here's a slightly more succinct solution using a conditional expression:\n",
       "\n",
       "```python\n",
       "print(\"Splitting\", total_candies, \"candy\" if total_candies == 1 else \"candies\")\n",
       "```"
      ],
      "text/plain": [
       "Solution: A straightforward (and totally fine) solution is to replace the original `print` call with:\n",
       "\n",
       "```python\n",
       "if total_candies == 1:\n",
       "    print(\"Splitting 1 candy\")\n",
       "else:\n",
       "    print(\"Splitting\", total_candies, \"candies\")\n",
       "```\n",
       "\n",
       "Here's a slightly more succinct solution using a conditional expression:\n",
       "\n",
       "```python\n",
       "print(\"Splitting\", total_candies, \"candy\" if total_candies == 1 else \"candies\")\n",
       "```"
      ]
     },
     "metadata": {},
     "output_type": "display_data"
    }
   ],
   "source": [
    "# Check your answer (Run this code cell to receive credit!)\n",
    "q2.solution()"
   ]
  },
  {
   "cell_type": "markdown",
   "id": "cb8cd0ac",
   "metadata": {
    "papermill": {
     "duration": 0.006785,
     "end_time": "2025-05-31T09:32:52.675877",
     "exception": false,
     "start_time": "2025-05-31T09:32:52.669092",
     "status": "completed"
    },
    "tags": []
   },
   "source": [
    "# 3. <span title=\"A bit spicy\" style=\"color: darkgreen \">🌶️</span>\n",
    "\n",
    "In the tutorial, we talked about deciding whether we're prepared for the weather. I said that I'm safe from today's weather if...\n",
    "- I have an umbrella...\n",
    "- or if the rain isn't too heavy and I have a hood...\n",
    "- otherwise, I'm still fine unless it's raining *and* it's a workday\n",
    "\n",
    "The function below uses our first attempt at turning this logic into a Python expression. I claimed that there was a bug in that code. Can you find it?\n",
    "\n",
    "To prove that `prepared_for_weather` is buggy, come up with a set of inputs where either:\n",
    "- the function returns `False` (but should have returned `True`), or\n",
    "- the function returned `True` (but should have returned `False`).\n",
    "\n",
    "To get credit for completing this question, your code should return a <font color='#33cc33'>Correct</font> result."
   ]
  },
  {
   "cell_type": "code",
   "execution_count": 8,
   "id": "8583f062",
   "metadata": {
    "execution": {
     "iopub.execute_input": "2025-05-31T09:32:52.691839Z",
     "iopub.status.busy": "2025-05-31T09:32:52.691558Z",
     "iopub.status.idle": "2025-05-31T09:32:52.701117Z",
     "shell.execute_reply": "2025-05-31T09:32:52.700323Z"
    },
    "papermill": {
     "duration": 0.019737,
     "end_time": "2025-05-31T09:32:52.702746",
     "exception": false,
     "start_time": "2025-05-31T09:32:52.683009",
     "status": "completed"
    },
    "tags": []
   },
   "outputs": [
    {
     "name": "stdout",
     "output_type": "stream",
     "text": [
      "False\n"
     ]
    },
    {
     "data": {
      "application/javascript": [
       "parent.postMessage({\"jupyterEvent\": \"custom.exercise_interaction\", \"data\": {\"outcomeType\": 1, \"valueTowardsCompletion\": 0.2, \"interactionType\": 1, \"questionType\": 1, \"questionId\": \"3_WeatherDebug\", \"learnToolsVersion\": \"0.3.5\", \"failureMessage\": \"\", \"exceptionClass\": \"\", \"trace\": \"\"}}, \"*\")"
      ],
      "text/plain": [
       "<IPython.core.display.Javascript object>"
      ]
     },
     "metadata": {},
     "output_type": "display_data"
    },
    {
     "data": {
      "text/markdown": [
       "<span style=\"color:#33cc33\">Correct:</span> \n",
       "\n",
       "One example of a failing test case is:\n",
       "\n",
       "```python\n",
       "have_umbrella = False\n",
       "rain_level = 0.0\n",
       "have_hood = False\n",
       "is_workday = False\n",
       "```\n",
       "\n",
       "Clearly we're prepared for the weather in this case. It's not raining. Not only that, it's not a workday, so we don't even need to leave the house! But our function will return False on these inputs.\n",
       "\n",
       "The key problem is that Python implictly parenthesizes the last part as:\n",
       "\n",
       "```python\n",
       "(not (rain_level > 0)) and is_workday\n",
       "```\n",
       "\n",
       "Whereas what we were trying to express would look more like:\n",
       "\n",
       "```python\n",
       "not (rain_level > 0 and is_workday)\n",
       "```\n"
      ],
      "text/plain": [
       "Correct: \n",
       "\n",
       "One example of a failing test case is:\n",
       "\n",
       "```python\n",
       "have_umbrella = False\n",
       "rain_level = 0.0\n",
       "have_hood = False\n",
       "is_workday = False\n",
       "```\n",
       "\n",
       "Clearly we're prepared for the weather in this case. It's not raining. Not only that, it's not a workday, so we don't even need to leave the house! But our function will return False on these inputs.\n",
       "\n",
       "The key problem is that Python implictly parenthesizes the last part as:\n",
       "\n",
       "```python\n",
       "(not (rain_level > 0)) and is_workday\n",
       "```\n",
       "\n",
       "Whereas what we were trying to express would look more like:\n",
       "\n",
       "```python\n",
       "not (rain_level > 0 and is_workday)\n",
       "```"
      ]
     },
     "metadata": {},
     "output_type": "display_data"
    }
   ],
   "source": [
    "def prepared_for_weather(have_umbrella, rain_level, have_hood, is_workday):\n",
    "    # Don't change this code. Our goal is just to find the bug, not fix it!\n",
    "    return have_umbrella or rain_level < 5 and have_hood or not rain_level > 0 and is_workday\n",
    "\n",
    "# Change the values of these inputs so they represent a case where prepared_for_weather\n",
    "# returns the wrong answer.\n",
    "have_umbrella = False\n",
    "rain_level = 10\n",
    "have_hood = False\n",
    "is_workday = False\n",
    "\n",
    "# Check what the function returns given the current values of the variables above\n",
    "actual = prepared_for_weather(have_umbrella, rain_level, have_hood, is_workday)\n",
    "print(actual)\n",
    "\n",
    "# Check your answer\n",
    "q3.check()"
   ]
  },
  {
   "cell_type": "code",
   "execution_count": 9,
   "id": "c9ff5e5e",
   "metadata": {
    "execution": {
     "iopub.execute_input": "2025-05-31T09:32:52.718978Z",
     "iopub.status.busy": "2025-05-31T09:32:52.718635Z",
     "iopub.status.idle": "2025-05-31T09:32:52.723442Z",
     "shell.execute_reply": "2025-05-31T09:32:52.721920Z"
    },
    "papermill": {
     "duration": 0.01483,
     "end_time": "2025-05-31T09:32:52.725223",
     "exception": false,
     "start_time": "2025-05-31T09:32:52.710393",
     "status": "completed"
    },
    "tags": []
   },
   "outputs": [],
   "source": [
    "#q3.hint()\n",
    "#q3.solution()"
   ]
  },
  {
   "cell_type": "markdown",
   "id": "8400e4ce",
   "metadata": {
    "papermill": {
     "duration": 0.007209,
     "end_time": "2025-05-31T09:32:52.741185",
     "exception": false,
     "start_time": "2025-05-31T09:32:52.733976",
     "status": "completed"
    },
    "tags": []
   },
   "source": [
    "# 4.\n",
    "\n",
    "The function `is_negative` below is implemented correctly - it returns True if the given number is negative and False otherwise.\n",
    "\n",
    "However, it's more verbose than it needs to be. We can actually reduce the number of lines of code in this function by *75%* while keeping the same behaviour. \n",
    "\n",
    "See if you can come up with an equivalent body that uses just **one line** of code, and put it in the function `concise_is_negative`. (HINT: you don't even need Python's ternary syntax)"
   ]
  },
  {
   "cell_type": "code",
   "execution_count": 10,
   "id": "3a480ed1",
   "metadata": {
    "execution": {
     "iopub.execute_input": "2025-05-31T09:32:52.757102Z",
     "iopub.status.busy": "2025-05-31T09:32:52.756773Z",
     "iopub.status.idle": "2025-05-31T09:32:52.765618Z",
     "shell.execute_reply": "2025-05-31T09:32:52.764724Z"
    },
    "papermill": {
     "duration": 0.019025,
     "end_time": "2025-05-31T09:32:52.767579",
     "exception": false,
     "start_time": "2025-05-31T09:32:52.748554",
     "status": "completed"
    },
    "tags": []
   },
   "outputs": [
    {
     "data": {
      "application/javascript": [
       "parent.postMessage({\"jupyterEvent\": \"custom.exercise_interaction\", \"data\": {\"outcomeType\": 1, \"valueTowardsCompletion\": 0.2, \"interactionType\": 1, \"questionType\": 2, \"questionId\": \"4_ConciseIsNegative\", \"learnToolsVersion\": \"0.3.5\", \"failureMessage\": \"\", \"exceptionClass\": \"\", \"trace\": \"\"}}, \"*\")"
      ],
      "text/plain": [
       "<IPython.core.display.Javascript object>"
      ]
     },
     "metadata": {},
     "output_type": "display_data"
    },
    {
     "data": {
      "text/markdown": [
       "<span style=\"color:#33cc33\">Correct</span>"
      ],
      "text/plain": [
       "Correct"
      ]
     },
     "metadata": {},
     "output_type": "display_data"
    }
   ],
   "source": [
    "def is_negative(number):\n",
    "    if number < 0:\n",
    "        return True\n",
    "    else:\n",
    "        return False\n",
    "\n",
    "def concise_is_negative(number):\n",
    "    return number < 0\n",
    "    pass # Your code goes here (try to keep it to one line!)\n",
    "\n",
    "# Check your answer\n",
    "q4.check()"
   ]
  },
  {
   "cell_type": "code",
   "execution_count": 11,
   "id": "79a6b73f",
   "metadata": {
    "execution": {
     "iopub.execute_input": "2025-05-31T09:32:52.784674Z",
     "iopub.status.busy": "2025-05-31T09:32:52.784355Z",
     "iopub.status.idle": "2025-05-31T09:32:52.788668Z",
     "shell.execute_reply": "2025-05-31T09:32:52.787712Z"
    },
    "papermill": {
     "duration": 0.014613,
     "end_time": "2025-05-31T09:32:52.790324",
     "exception": false,
     "start_time": "2025-05-31T09:32:52.775711",
     "status": "completed"
    },
    "tags": []
   },
   "outputs": [],
   "source": [
    "# q4.hint()\n",
    "# #q4.solution()"
   ]
  },
  {
   "cell_type": "markdown",
   "id": "e7bd7e14",
   "metadata": {
    "papermill": {
     "duration": 0.007185,
     "end_time": "2025-05-31T09:32:52.805474",
     "exception": false,
     "start_time": "2025-05-31T09:32:52.798289",
     "status": "completed"
    },
    "tags": []
   },
   "source": [
    "# 5a.\n",
    "\n",
    "The boolean variables `ketchup`, `mustard` and `onion` represent whether a customer wants a particular topping on their hot dog. We want to implement a number of boolean functions that correspond to some yes-or-no questions about the customer's order. For example:"
   ]
  },
  {
   "cell_type": "code",
   "execution_count": 12,
   "id": "884fb70b",
   "metadata": {
    "execution": {
     "iopub.execute_input": "2025-05-31T09:32:52.822483Z",
     "iopub.status.busy": "2025-05-31T09:32:52.822189Z",
     "iopub.status.idle": "2025-05-31T09:32:52.827213Z",
     "shell.execute_reply": "2025-05-31T09:32:52.826335Z"
    },
    "papermill": {
     "duration": 0.015836,
     "end_time": "2025-05-31T09:32:52.828855",
     "exception": false,
     "start_time": "2025-05-31T09:32:52.813019",
     "status": "completed"
    },
    "tags": []
   },
   "outputs": [],
   "source": [
    "def onionless(ketchup, mustard, onion):\n",
    "    \"\"\"Return whether the customer doesn't want onions.\n",
    "    \"\"\"\n",
    "    no_onion = (ketchup and mustard) or mustard or ketchup\n",
    "    \n",
    "    return not onion"
   ]
  },
  {
   "cell_type": "code",
   "execution_count": 13,
   "id": "8eb42e71",
   "metadata": {
    "execution": {
     "iopub.execute_input": "2025-05-31T09:32:52.845678Z",
     "iopub.status.busy": "2025-05-31T09:32:52.845395Z",
     "iopub.status.idle": "2025-05-31T09:32:52.853226Z",
     "shell.execute_reply": "2025-05-31T09:32:52.852506Z"
    },
    "papermill": {
     "duration": 0.017787,
     "end_time": "2025-05-31T09:32:52.854739",
     "exception": false,
     "start_time": "2025-05-31T09:32:52.836952",
     "status": "completed"
    },
    "tags": []
   },
   "outputs": [
    {
     "data": {
      "application/javascript": [
       "parent.postMessage({\"jupyterEvent\": \"custom.exercise_interaction\", \"data\": {\"outcomeType\": 1, \"valueTowardsCompletion\": 0.2, \"interactionType\": 1, \"questionType\": 2, \"questionId\": \"5.1_AllToppings\", \"learnToolsVersion\": \"0.3.5\", \"failureMessage\": \"\", \"exceptionClass\": \"\", \"trace\": \"\"}}, \"*\")"
      ],
      "text/plain": [
       "<IPython.core.display.Javascript object>"
      ]
     },
     "metadata": {},
     "output_type": "display_data"
    },
    {
     "data": {
      "text/markdown": [
       "<span style=\"color:#33cc33\">Correct</span>"
      ],
      "text/plain": [
       "Correct"
      ]
     },
     "metadata": {},
     "output_type": "display_data"
    }
   ],
   "source": [
    "def wants_all_toppings(ketchup, mustard, onion):\n",
    "    \"\"\"Return whether the customer wants \"the works\" (all 3 toppings)\n",
    "    \"\"\"\n",
    "    alltop = ketchup and mustard and onion\n",
    "    return alltop \n",
    "    pass\n",
    "\n",
    "# Check your answer\n",
    "q5.a.check()"
   ]
  },
  {
   "cell_type": "code",
   "execution_count": 14,
   "id": "11c436e0",
   "metadata": {
    "execution": {
     "iopub.execute_input": "2025-05-31T09:32:52.871470Z",
     "iopub.status.busy": "2025-05-31T09:32:52.871035Z",
     "iopub.status.idle": "2025-05-31T09:32:52.875222Z",
     "shell.execute_reply": "2025-05-31T09:32:52.874329Z"
    },
    "papermill": {
     "duration": 0.01441,
     "end_time": "2025-05-31T09:32:52.876873",
     "exception": false,
     "start_time": "2025-05-31T09:32:52.862463",
     "status": "completed"
    },
    "tags": []
   },
   "outputs": [],
   "source": [
    "#q5.a.hint()\n",
    "#q5.a.solution()"
   ]
  },
  {
   "cell_type": "markdown",
   "id": "a7b531fa",
   "metadata": {
    "papermill": {
     "duration": 0.007723,
     "end_time": "2025-05-31T09:32:52.892286",
     "exception": false,
     "start_time": "2025-05-31T09:32:52.884563",
     "status": "completed"
    },
    "tags": []
   },
   "source": [
    "# 5b.\n",
    "\n",
    "For the next function, fill in the body to match the English description in the docstring. "
   ]
  },
  {
   "cell_type": "code",
   "execution_count": 15,
   "id": "ade8d1d7",
   "metadata": {
    "execution": {
     "iopub.execute_input": "2025-05-31T09:32:52.912995Z",
     "iopub.status.busy": "2025-05-31T09:32:52.912517Z",
     "iopub.status.idle": "2025-05-31T09:32:52.924245Z",
     "shell.execute_reply": "2025-05-31T09:32:52.922880Z"
    },
    "papermill": {
     "duration": 0.025838,
     "end_time": "2025-05-31T09:32:52.926424",
     "exception": false,
     "start_time": "2025-05-31T09:32:52.900586",
     "status": "completed"
    },
    "tags": []
   },
   "outputs": [
    {
     "data": {
      "application/javascript": [
       "parent.postMessage({\"jupyterEvent\": \"custom.exercise_interaction\", \"data\": {\"outcomeType\": 1, \"valueTowardsCompletion\": 0.2, \"interactionType\": 1, \"questionType\": 2, \"questionId\": \"5.2_PlainDog\", \"learnToolsVersion\": \"0.3.5\", \"failureMessage\": \"\", \"exceptionClass\": \"\", \"trace\": \"\"}}, \"*\")"
      ],
      "text/plain": [
       "<IPython.core.display.Javascript object>"
      ]
     },
     "metadata": {},
     "output_type": "display_data"
    },
    {
     "data": {
      "text/markdown": [
       "<span style=\"color:#33cc33\">Correct:</span> \n",
       "\n",
       "One solution looks like:\n",
       "```python\n",
       "return not ketchup and not mustard and not onion\n",
       "```\n",
       "\n",
       "We can also [\"factor out\" the nots](https://en.wikipedia.org/wiki/De_Morgan%27s_laws) to get:\n",
       "\n",
       "```python\n",
       "return not (ketchup or mustard or onion)\n",
       "```"
      ],
      "text/plain": [
       "Correct: \n",
       "\n",
       "One solution looks like:\n",
       "```python\n",
       "return not ketchup and not mustard and not onion\n",
       "```\n",
       "\n",
       "We can also [\"factor out\" the nots](https://en.wikipedia.org/wiki/De_Morgan%27s_laws) to get:\n",
       "\n",
       "```python\n",
       "return not (ketchup or mustard or onion)\n",
       "```"
      ]
     },
     "metadata": {},
     "output_type": "display_data"
    }
   ],
   "source": [
    "def wants_plain_hotdog(ketchup, mustard, onion):\n",
    "    \"\"\"Return whether the customer wants a plain hot dog with no toppings.\n",
    "    \"\"\"\n",
    "    hotdog = ketchup or mustard or onion\n",
    "    if hotdog == 1:\n",
    "        return False\n",
    "    else:\n",
    "        return True\n",
    "    pass\n",
    "\n",
    "# Check your answer\n",
    "q5.b.check()"
   ]
  },
  {
   "cell_type": "code",
   "execution_count": 16,
   "id": "53340311",
   "metadata": {
    "execution": {
     "iopub.execute_input": "2025-05-31T09:32:52.948076Z",
     "iopub.status.busy": "2025-05-31T09:32:52.947650Z",
     "iopub.status.idle": "2025-05-31T09:32:52.951950Z",
     "shell.execute_reply": "2025-05-31T09:32:52.951071Z"
    },
    "papermill": {
     "duration": 0.016717,
     "end_time": "2025-05-31T09:32:52.953516",
     "exception": false,
     "start_time": "2025-05-31T09:32:52.936799",
     "status": "completed"
    },
    "tags": []
   },
   "outputs": [],
   "source": [
    "#q5.b.hint()\n",
    "#q5.b.solution()"
   ]
  },
  {
   "cell_type": "markdown",
   "id": "fcb0e545",
   "metadata": {
    "papermill": {
     "duration": 0.012045,
     "end_time": "2025-05-31T09:32:52.975776",
     "exception": false,
     "start_time": "2025-05-31T09:32:52.963731",
     "status": "completed"
    },
    "tags": []
   },
   "source": [
    "# 5c.\n",
    "\n",
    "You know what to do: for the next function, fill in the body to match the English description in the docstring."
   ]
  },
  {
   "cell_type": "code",
   "execution_count": 17,
   "id": "602174c5",
   "metadata": {
    "execution": {
     "iopub.execute_input": "2025-05-31T09:32:53.071365Z",
     "iopub.status.busy": "2025-05-31T09:32:53.070845Z",
     "iopub.status.idle": "2025-05-31T09:32:53.079869Z",
     "shell.execute_reply": "2025-05-31T09:32:53.079139Z"
    },
    "papermill": {
     "duration": 0.023916,
     "end_time": "2025-05-31T09:32:53.081620",
     "exception": false,
     "start_time": "2025-05-31T09:32:53.057704",
     "status": "completed"
    },
    "tags": []
   },
   "outputs": [
    {
     "data": {
      "application/javascript": [
       "parent.postMessage({\"jupyterEvent\": \"custom.exercise_interaction\", \"data\": {\"outcomeType\": 1, \"valueTowardsCompletion\": 0.2, \"interactionType\": 1, \"questionType\": 2, \"questionId\": \"5.3_OneSauce\", \"learnToolsVersion\": \"0.3.5\", \"failureMessage\": \"\", \"exceptionClass\": \"\", \"trace\": \"\"}}, \"*\")"
      ],
      "text/plain": [
       "<IPython.core.display.Javascript object>"
      ]
     },
     "metadata": {},
     "output_type": "display_data"
    },
    {
     "data": {
      "text/markdown": [
       "<span style=\"color:#33cc33\">Correct</span>"
      ],
      "text/plain": [
       "Correct"
      ]
     },
     "metadata": {},
     "output_type": "display_data"
    }
   ],
   "source": [
    "def exactly_one_sauce(ketchup, mustard, onion):\n",
    "    \"\"\"Return whether the customer wants either ketchup or mustard, but not both.\n",
    "    (You may be familiar with this operation under the name \"exclusive or\")\n",
    "    \"\"\"\n",
    "    #one_sauce = ketchup or mustard \n",
    "    return (ketchup and not mustard) or (mustard and not ketchup)\n",
    "        \n",
    "    pass\n",
    "\n",
    "# Check your answer\n",
    "q5.c.check()"
   ]
  },
  {
   "cell_type": "code",
   "execution_count": 18,
   "id": "836a1145",
   "metadata": {
    "execution": {
     "iopub.execute_input": "2025-05-31T09:32:53.102336Z",
     "iopub.status.busy": "2025-05-31T09:32:53.101960Z",
     "iopub.status.idle": "2025-05-31T09:32:53.107021Z",
     "shell.execute_reply": "2025-05-31T09:32:53.105722Z"
    },
    "papermill": {
     "duration": 0.018526,
     "end_time": "2025-05-31T09:32:53.109201",
     "exception": false,
     "start_time": "2025-05-31T09:32:53.090675",
     "status": "completed"
    },
    "tags": []
   },
   "outputs": [],
   "source": [
    "# q5.c.hint()\n",
    "# q5.c.solution()"
   ]
  },
  {
   "cell_type": "markdown",
   "id": "ccc4670d",
   "metadata": {
    "papermill": {
     "duration": 0.008056,
     "end_time": "2025-05-31T09:32:53.127558",
     "exception": false,
     "start_time": "2025-05-31T09:32:53.119502",
     "status": "completed"
    },
    "tags": []
   },
   "source": [
    "# 6. <span title=\"A bit spicy\" style=\"color: darkgreen \">🌶️</span>\n",
    "\n",
    "We’ve seen that calling `bool()` on an integer returns `False` if it’s equal to 0 and `True` otherwise. What happens if we call `int()` on a bool? Try it out in the notebook cell below.\n",
    "\n",
    "Can you take advantage of this to write a succinct function that corresponds to the English sentence \"does the customer want exactly one topping?\"?"
   ]
  },
  {
   "cell_type": "code",
   "execution_count": 19,
   "id": "267d0ea4",
   "metadata": {
    "execution": {
     "iopub.execute_input": "2025-05-31T09:32:53.145544Z",
     "iopub.status.busy": "2025-05-31T09:32:53.145250Z",
     "iopub.status.idle": "2025-05-31T09:32:53.153756Z",
     "shell.execute_reply": "2025-05-31T09:32:53.152627Z"
    },
    "papermill": {
     "duration": 0.020193,
     "end_time": "2025-05-31T09:32:53.155721",
     "exception": false,
     "start_time": "2025-05-31T09:32:53.135528",
     "status": "completed"
    },
    "tags": []
   },
   "outputs": [
    {
     "data": {
      "application/javascript": [
       "parent.postMessage({\"jupyterEvent\": \"custom.exercise_interaction\", \"data\": {\"outcomeType\": 1, \"valueTowardsCompletion\": 0.2, \"interactionType\": 1, \"questionType\": 2, \"questionId\": \"6_OneTopping\", \"learnToolsVersion\": \"0.3.5\", \"failureMessage\": \"\", \"exceptionClass\": \"\", \"trace\": \"\"}}, \"*\")"
      ],
      "text/plain": [
       "<IPython.core.display.Javascript object>"
      ]
     },
     "metadata": {},
     "output_type": "display_data"
    },
    {
     "data": {
      "text/markdown": [
       "<span style=\"color:#33cc33\">Correct:</span> \n",
       "\n",
       "This condition would be pretty complicated to express using just `and`, `or` and `not`, but using boolean-to-integer conversion gives us this short solution:\n",
       "```python\n",
       "return (int(ketchup) + int(mustard) + int(onion)) == 1\n",
       "```\n",
       "\n",
       "Fun fact: we don't technically need to call `int` on the arguments. Just by doing addition with booleans, Python implicitly does the integer conversion. So we could also write...\n",
       "\n",
       "```python\n",
       "return (ketchup + mustard + onion) == 1\n",
       "```"
      ],
      "text/plain": [
       "Correct: \n",
       "\n",
       "This condition would be pretty complicated to express using just `and`, `or` and `not`, but using boolean-to-integer conversion gives us this short solution:\n",
       "```python\n",
       "return (int(ketchup) + int(mustard) + int(onion)) == 1\n",
       "```\n",
       "\n",
       "Fun fact: we don't technically need to call `int` on the arguments. Just by doing addition with booleans, Python implicitly does the integer conversion. So we could also write...\n",
       "\n",
       "```python\n",
       "return (ketchup + mustard + onion) == 1\n",
       "```"
      ]
     },
     "metadata": {},
     "output_type": "display_data"
    }
   ],
   "source": [
    "def exactly_one_topping(ketchup, mustard, onion):\n",
    "    \"\"\"Return whether the customer wants exactly one of the three available toppings\n",
    "    on their hot dog.\n",
    "    \"\"\"\n",
    "    return (ketchup + onion + mustard) == 1\n",
    "    pass\n",
    "\n",
    "# Check your answer\n",
    "q6.check()"
   ]
  },
  {
   "cell_type": "code",
   "execution_count": 20,
   "id": "f88be4ea",
   "metadata": {
    "execution": {
     "iopub.execute_input": "2025-05-31T09:32:53.175040Z",
     "iopub.status.busy": "2025-05-31T09:32:53.173952Z",
     "iopub.status.idle": "2025-05-31T09:32:53.178257Z",
     "shell.execute_reply": "2025-05-31T09:32:53.177352Z"
    },
    "papermill": {
     "duration": 0.015547,
     "end_time": "2025-05-31T09:32:53.179742",
     "exception": false,
     "start_time": "2025-05-31T09:32:53.164195",
     "status": "completed"
    },
    "tags": []
   },
   "outputs": [],
   "source": [
    "#q6.hint()\n",
    "#q6.solution()"
   ]
  },
  {
   "cell_type": "markdown",
   "id": "6edfe92c",
   "metadata": {
    "papermill": {
     "duration": 0.007936,
     "end_time": "2025-05-31T09:32:53.196034",
     "exception": false,
     "start_time": "2025-05-31T09:32:53.188098",
     "status": "completed"
    },
    "tags": []
   },
   "source": [
    "# 7. <span title=\"A bit spicy\" style=\"color: darkgreen \">🌶️</span> (Optional)\n",
    "\n",
    "In this problem we'll be working with a simplified version of [blackjack](https://en.wikipedia.org/wiki/Blackjack) (aka twenty-one). In this version there is one player (who you'll control) and a dealer. Play proceeds as follows:\n",
    "\n",
    "- The player is dealt two face-up cards. The dealer is dealt one face-up card.\n",
    "- The player may ask to be dealt another card ('hit') as many times as they wish. If the sum of their cards exceeds 21, they lose the round immediately.\n",
    "- The dealer then deals additional cards to himself until either:\n",
    "    - the sum of the dealer's cards exceeds 21, in which case the player wins the round\n",
    "    - the sum of the dealer's cards is greater than or equal to 17. If the player's total is greater than the dealer's, the player wins. Otherwise, the dealer wins (even in case of a tie).\n",
    "    \n",
    "When calculating the sum of cards, Jack, Queen, and King count for 10. Aces can count as 1 or 11 (when referring to a player's \"total\" above, we mean the largest total that can be made without exceeding 21. So e.g. A+8 = 19, A+8+8 = 17)\n",
    "\n",
    "For this problem, you'll write a function representing the player's decision-making strategy in this game. We've provided a very unintelligent implementation below:"
   ]
  },
  {
   "cell_type": "code",
   "execution_count": 21,
   "id": "614a896b",
   "metadata": {
    "execution": {
     "iopub.execute_input": "2025-05-31T09:32:53.213795Z",
     "iopub.status.busy": "2025-05-31T09:32:53.213475Z",
     "iopub.status.idle": "2025-05-31T09:32:53.218432Z",
     "shell.execute_reply": "2025-05-31T09:32:53.217477Z"
    },
    "papermill": {
     "duration": 0.015908,
     "end_time": "2025-05-31T09:32:53.220030",
     "exception": false,
     "start_time": "2025-05-31T09:32:53.204122",
     "status": "completed"
    },
    "tags": []
   },
   "outputs": [],
   "source": [
    "def should_hit(dealer_total, player_total, player_low_aces, player_high_aces):\n",
    "    \"\"\"Return True if the player should hit (request another card) given the current game\n",
    "    state, or False if the player should stay.\n",
    "    When calculating a hand's total value, we count aces as \"high\" (with value 11) if doing so\n",
    "    doesn't bring the total above 21, otherwise we count them as low (with value 1). \n",
    "    For example, if the player's hand is {A, A, A, 7}, we will count it as 11 + 1 + 1 + 7,\n",
    "    and therefore set player_total=20, player_low_aces=2, player_high_aces=1.\n",
    "    \"\"\"\n",
    "\n",
    "    \n",
    "    return False"
   ]
  },
  {
   "cell_type": "markdown",
   "id": "a0b366c9",
   "metadata": {
    "papermill": {
     "duration": 0.008231,
     "end_time": "2025-05-31T09:32:53.236988",
     "exception": false,
     "start_time": "2025-05-31T09:32:53.228757",
     "status": "completed"
    },
    "tags": []
   },
   "source": [
    "This very conservative agent *always* sticks with the hand of two cards that they're dealt.\n",
    "\n",
    "We'll be simulating games between your player agent and our own dealer agent by calling your function.\n",
    "\n",
    "Try running the function below to see an example of a simulated game:"
   ]
  },
  {
   "cell_type": "code",
   "execution_count": 22,
   "id": "5b24a0ae",
   "metadata": {
    "execution": {
     "iopub.execute_input": "2025-05-31T09:32:53.260539Z",
     "iopub.status.busy": "2025-05-31T09:32:53.260138Z",
     "iopub.status.idle": "2025-05-31T09:32:53.266099Z",
     "shell.execute_reply": "2025-05-31T09:32:53.265126Z"
    },
    "papermill": {
     "duration": 0.019373,
     "end_time": "2025-05-31T09:32:53.268269",
     "exception": false,
     "start_time": "2025-05-31T09:32:53.248896",
     "status": "completed"
    },
    "tags": []
   },
   "outputs": [
    {
     "name": "stdout",
     "output_type": "stream",
     "text": [
      "Player starts with 5 and 9 (total = 14)\n",
      "Dealer starts with 3\n",
      "\n",
      "__Player's turn__\n",
      "Player stays\n",
      "\n",
      "__Dealer's turn__\n",
      "Dealer hits and receives Q. (total = 13)\n",
      "Dealer hits and receives 8. (total = 21)\n",
      "Dealer stands.\n",
      "Dealer wins. 21 >= 14\n"
     ]
    }
   ],
   "source": [
    "q7.simulate_one_game()"
   ]
  },
  {
   "cell_type": "markdown",
   "id": "c7b37633",
   "metadata": {
    "papermill": {
     "duration": 0.014259,
     "end_time": "2025-05-31T09:32:53.298408",
     "exception": false,
     "start_time": "2025-05-31T09:32:53.284149",
     "status": "completed"
    },
    "tags": []
   },
   "source": [
    "The real test of your agent's mettle is their average win rate over many games. Try calling the function below to simulate 50000 games of blackjack (it may take a couple seconds):"
   ]
  },
  {
   "cell_type": "code",
   "execution_count": 23,
   "id": "a78b310c",
   "metadata": {
    "execution": {
     "iopub.execute_input": "2025-05-31T09:32:53.318625Z",
     "iopub.status.busy": "2025-05-31T09:32:53.318187Z",
     "iopub.status.idle": "2025-05-31T09:32:54.223380Z",
     "shell.execute_reply": "2025-05-31T09:32:54.222448Z"
    },
    "papermill": {
     "duration": 0.917672,
     "end_time": "2025-05-31T09:32:54.225110",
     "exception": false,
     "start_time": "2025-05-31T09:32:53.307438",
     "status": "completed"
    },
    "tags": []
   },
   "outputs": [
    {
     "name": "stdout",
     "output_type": "stream",
     "text": [
      "Player won 19171 out of 50000 games (win rate = 38.3%)\n"
     ]
    }
   ],
   "source": [
    "q7.simulate(n_games=50000)"
   ]
  },
  {
   "cell_type": "markdown",
   "id": "177466b1",
   "metadata": {
    "papermill": {
     "duration": 0.008494,
     "end_time": "2025-05-31T09:32:54.242329",
     "exception": false,
     "start_time": "2025-05-31T09:32:54.233835",
     "status": "completed"
    },
    "tags": []
   },
   "source": [
    "Our dumb agent that completely ignores the game state still manages to win shockingly often!\n",
    "\n",
    "Try adding some more smarts to the `should_hit` function and see how it affects the results."
   ]
  },
  {
   "cell_type": "code",
   "execution_count": 24,
   "id": "5e7abfcd",
   "metadata": {
    "execution": {
     "iopub.execute_input": "2025-05-31T09:32:54.261863Z",
     "iopub.status.busy": "2025-05-31T09:32:54.261577Z",
     "iopub.status.idle": "2025-05-31T09:32:55.148186Z",
     "shell.execute_reply": "2025-05-31T09:32:55.147147Z"
    },
    "papermill": {
     "duration": 0.898136,
     "end_time": "2025-05-31T09:32:55.149691",
     "exception": false,
     "start_time": "2025-05-31T09:32:54.251555",
     "status": "completed"
    },
    "tags": []
   },
   "outputs": [
    {
     "name": "stdout",
     "output_type": "stream",
     "text": [
      "Player won 19140 out of 50000 games (win rate = 38.3%)\n"
     ]
    }
   ],
   "source": [
    "def should_hit(dealer_total, player_total, player_low_aces, player_high_aces):\n",
    "    \"\"\"Return True if the player should hit (request another card) given the current game\n",
    "    state, or False if the player should stay.\n",
    "    When calculating a hand's total value, we count aces as \"high\" (with value 11) if doing so\n",
    "    doesn't bring the total above 21, otherwise we count them as low (with value 1). \n",
    "    For example, if the player's hand is {A, A, A, 7}, we will count it as 11 + 1 + 1 + 7,\n",
    "    and therefore set player_total=20, player_low_aces=2, player_high_aces=1.\n",
    "    \"\"\"\n",
    "    return False\n",
    "\n",
    "q7.simulate(n_games=50000)"
   ]
  },
  {
   "cell_type": "markdown",
   "id": "10bcf090",
   "metadata": {
    "papermill": {
     "duration": 0.008262,
     "end_time": "2025-05-31T09:32:55.166909",
     "exception": false,
     "start_time": "2025-05-31T09:32:55.158647",
     "status": "completed"
    },
    "tags": []
   },
   "source": [
    "# Keep Going\n",
    "\n",
    "Learn about **[lists and tuples](https://www.kaggle.com/colinmorris/lists)** to handle multiple items of data in a systematic way."
   ]
  },
  {
   "cell_type": "markdown",
   "id": "a9528c46",
   "metadata": {
    "papermill": {
     "duration": 0.008462,
     "end_time": "2025-05-31T09:32:55.184597",
     "exception": false,
     "start_time": "2025-05-31T09:32:55.176135",
     "status": "completed"
    },
    "tags": []
   },
   "source": [
    "---\n",
    "\n",
    "\n",
    "\n",
    "\n",
    "*Have questions or comments? Visit the [course discussion forum](https://www.kaggle.com/learn/python/discussion) to chat with other learners.*"
   ]
  }
 ],
 "metadata": {
  "kaggle": {
   "accelerator": "none",
   "dataSources": [],
   "isGpuEnabled": false,
   "isInternetEnabled": false,
   "language": "python",
   "sourceType": "notebook"
  },
  "kernelspec": {
   "display_name": "Python 3",
   "language": "python",
   "name": "python3"
  },
  "language_info": {
   "codemirror_mode": {
    "name": "ipython",
    "version": 3
   },
   "file_extension": ".py",
   "mimetype": "text/x-python",
   "name": "python",
   "nbconvert_exporter": "python",
   "pygments_lexer": "ipython3",
   "version": "3.11.11"
  },
  "learntools_metadata": {
   "lesson_index": 2,
   "type": "exercise"
  },
  "papermill": {
   "default_parameters": {},
   "duration": 10.687396,
   "end_time": "2025-05-31T09:32:55.714908",
   "environment_variables": {},
   "exception": null,
   "input_path": "__notebook__.ipynb",
   "output_path": "__notebook__.ipynb",
   "parameters": {},
   "start_time": "2025-05-31T09:32:45.027512",
   "version": "2.6.0"
  }
 },
 "nbformat": 4,
 "nbformat_minor": 5
}
