{
 "cells": [
  {
   "cell_type": "markdown",
   "id": "e8683748",
   "metadata": {
    "papermill": {
     "duration": 0.005796,
     "end_time": "2025-05-29T19:49:18.549452",
     "exception": false,
     "start_time": "2025-05-29T19:49:18.543656",
     "status": "completed"
    },
    "tags": []
   },
   "source": [
    "**This notebook is an exercise in the [Python](https://www.kaggle.com/learn/python) course.  You can reference the tutorial at [this link](https://www.kaggle.com/colinmorris/hello-python).**\n",
    "\n",
    "---\n"
   ]
  },
  {
   "cell_type": "markdown",
   "id": "6b086cb6",
   "metadata": {
    "papermill": {
     "duration": 0.004568,
     "end_time": "2025-05-29T19:49:18.559054",
     "exception": false,
     "start_time": "2025-05-29T19:49:18.554486",
     "status": "completed"
    },
    "tags": []
   },
   "source": [
    "Welcome to your first set of Python coding problems.  If this is your first time using Kaggle Notebooks, welcome! \n",
    "\n",
    "Notebooks are composed of blocks (called \"cells\") of text and code. Each of these is editable, though you'll mainly be editing the code cells to answer some questions.\n",
    "\n",
    "To get started, try running the code cell below (by pressing the ► button, or clicking on the cell and pressing ctrl+enter on your keyboard)."
   ]
  },
  {
   "cell_type": "code",
   "execution_count": 1,
   "id": "22e2e840",
   "metadata": {
    "execution": {
     "iopub.execute_input": "2025-05-29T19:49:18.569883Z",
     "iopub.status.busy": "2025-05-29T19:49:18.569471Z",
     "iopub.status.idle": "2025-05-29T19:49:18.579401Z",
     "shell.execute_reply": "2025-05-29T19:49:18.578166Z"
    },
    "papermill": {
     "duration": 0.017241,
     "end_time": "2025-05-29T19:49:18.580932",
     "exception": false,
     "start_time": "2025-05-29T19:49:18.563691",
     "status": "completed"
    },
    "tags": []
   },
   "outputs": [
    {
     "name": "stdout",
     "output_type": "stream",
     "text": [
      "You've successfully run some Python code\n",
      "Congratulations!\n",
      "I did it\n"
     ]
    }
   ],
   "source": [
    "print(\"You've successfully run some Python code\")\n",
    "print(\"Congratulations!\")\n",
    "print('I did it')"
   ]
  },
  {
   "cell_type": "markdown",
   "id": "5dad63b5",
   "metadata": {
    "papermill": {
     "duration": 0.004942,
     "end_time": "2025-05-29T19:49:18.591162",
     "exception": false,
     "start_time": "2025-05-29T19:49:18.586220",
     "status": "completed"
    },
    "tags": []
   },
   "source": [
    "Try adding another line of code in the cell above and re-running it. \n",
    "\n",
    "Now let's get a little fancier:  Add a new code cell by clicking on an existing code cell, hitting the escape key, and then hitting the `a` or `b` key.  The `a` key will add a cell above the current cell, and `b` adds a cell below.\n",
    "\n",
    "Great! Now you know how to use Notebooks.\n",
    "\n",
    "Each hands-on exercise starts by setting up our feedback and code checking mechanism. Run the code cell below to do that. Then you'll be ready to move on to question 0."
   ]
  },
  {
   "cell_type": "code",
   "execution_count": 2,
   "id": "9810bba1",
   "metadata": {
    "_kg_hide-input": true,
    "_kg_hide-output": true,
    "execution": {
     "iopub.execute_input": "2025-05-29T19:49:18.602153Z",
     "iopub.status.busy": "2025-05-29T19:49:18.601802Z",
     "iopub.status.idle": "2025-05-29T19:49:20.770980Z",
     "shell.execute_reply": "2025-05-29T19:49:20.769668Z"
    },
    "papermill": {
     "duration": 2.177512,
     "end_time": "2025-05-29T19:49:20.773418",
     "exception": false,
     "start_time": "2025-05-29T19:49:18.595906",
     "status": "completed"
    },
    "tags": []
   },
   "outputs": [
    {
     "name": "stdout",
     "output_type": "stream",
     "text": [
      "Setup complete! You're ready to start question 0.\n"
     ]
    }
   ],
   "source": [
    "from learntools.core import binder; binder.bind(globals())\n",
    "from learntools.python.ex1 import *\n",
    "print(\"Setup complete! You're ready to start question 0.\")"
   ]
  },
  {
   "cell_type": "markdown",
   "id": "dd0bfafb",
   "metadata": {
    "papermill": {
     "duration": 0.004678,
     "end_time": "2025-05-29T19:49:20.783138",
     "exception": false,
     "start_time": "2025-05-29T19:49:20.778460",
     "status": "completed"
    },
    "tags": []
   },
   "source": [
    "# 0.\n",
    "\n",
    "*This is a silly question intended as an introduction to the format we use for hands-on exercises throughout all Kaggle courses.*\n",
    "\n",
    "**What is your favorite color? **\n",
    "\n",
    "To complete this question, create a variable called `color` in the cell below with an appropriate value. The function call `q0.check()` (which we've already provided in the cell below) will check your answer."
   ]
  },
  {
   "cell_type": "code",
   "execution_count": 3,
   "id": "fc9b671e",
   "metadata": {
    "execution": {
     "iopub.execute_input": "2025-05-29T19:49:20.794874Z",
     "iopub.status.busy": "2025-05-29T19:49:20.793903Z",
     "iopub.status.idle": "2025-05-29T19:49:20.803588Z",
     "shell.execute_reply": "2025-05-29T19:49:20.802486Z"
    },
    "papermill": {
     "duration": 0.017266,
     "end_time": "2025-05-29T19:49:20.805167",
     "exception": false,
     "start_time": "2025-05-29T19:49:20.787901",
     "status": "completed"
    },
    "tags": []
   },
   "outputs": [
    {
     "data": {
      "application/javascript": [
       "parent.postMessage({\"jupyterEvent\": \"custom.exercise_interaction\", \"data\": {\"outcomeType\": 1, \"valueTowardsCompletion\": 0.25, \"interactionType\": 1, \"questionType\": 2, \"questionId\": \"0_ExerciseFormatTutorial\", \"learnToolsVersion\": \"0.3.5\", \"failureMessage\": \"\", \"exceptionClass\": \"\", \"trace\": \"\"}}, \"*\")"
      ],
      "text/plain": [
       "<IPython.core.display.Javascript object>"
      ]
     },
     "metadata": {},
     "output_type": "display_data"
    },
    {
     "data": {
      "text/markdown": [
       "<span style=\"color:#33cc33\">Correct:</span> What?! You got it right without needing a hint or anything? Drats. Well hey, you should still continue to the next step to get some practice asking for a hint and checking solutions. (Even though you obviously don't need any help here.)"
      ],
      "text/plain": [
       "Correct: What?! You got it right without needing a hint or anything? Drats. Well hey, you should still continue to the next step to get some practice asking for a hint and checking solutions. (Even though you obviously don't need any help here.)"
      ]
     },
     "metadata": {},
     "output_type": "display_data"
    }
   ],
   "source": [
    "# create a variable called color with an appropriate value on the line below\n",
    "color = \"blue\"\n",
    "# (Remember, strings in Python must be enclosed in 'single' or \"double\" quotes)\n",
    "\n",
    "# Check your answer\n",
    "q0.check()"
   ]
  },
  {
   "cell_type": "markdown",
   "id": "a4092244",
   "metadata": {
    "papermill": {
     "duration": 0.004587,
     "end_time": "2025-05-29T19:49:20.814958",
     "exception": false,
     "start_time": "2025-05-29T19:49:20.810371",
     "status": "completed"
    },
    "tags": []
   },
   "source": [
    "Didn't get the right answer? How do you not even know your own favorite color?!\n",
    "\n",
    "Delete the `#` in the line below to make one of the lines run. You can choose between getting a hint or the full answer by choosing which line to remove the `#` from. \n",
    "\n",
    "Removing the `#` is called uncommenting, because it changes that line from a \"comment\" which Python doesn't run to code, which Python does run."
   ]
  },
  {
   "cell_type": "code",
   "execution_count": 4,
   "id": "b79d5aeb",
   "metadata": {
    "execution": {
     "iopub.execute_input": "2025-05-29T19:49:20.826135Z",
     "iopub.status.busy": "2025-05-29T19:49:20.825767Z",
     "iopub.status.idle": "2025-05-29T19:49:20.830838Z",
     "shell.execute_reply": "2025-05-29T19:49:20.829686Z"
    },
    "papermill": {
     "duration": 0.012675,
     "end_time": "2025-05-29T19:49:20.832584",
     "exception": false,
     "start_time": "2025-05-29T19:49:20.819909",
     "status": "completed"
    },
    "tags": []
   },
   "outputs": [],
   "source": [
    "#q0.hint()\n",
    "#q0.solution()"
   ]
  },
  {
   "cell_type": "markdown",
   "id": "b8e82ea6",
   "metadata": {
    "papermill": {
     "duration": 0.005523,
     "end_time": "2025-05-29T19:49:20.843382",
     "exception": false,
     "start_time": "2025-05-29T19:49:20.837859",
     "status": "completed"
    },
    "tags": []
   },
   "source": [
    "The upcoming questions work the same way. The only thing that will change are the question numbers. For the next question, you'll call `q1.check()`, `q1.hint()`, `q1.solution()`, for question 2, you'll call `q2.check()`, and so on."
   ]
  },
  {
   "cell_type": "markdown",
   "id": "cf1feffb",
   "metadata": {
    "papermill": {
     "duration": 0.004799,
     "end_time": "2025-05-29T19:49:20.853904",
     "exception": false,
     "start_time": "2025-05-29T19:49:20.849105",
     "status": "completed"
    },
    "tags": []
   },
   "source": [
    "<hr/>\n",
    "\n",
    "# 1.\n",
    "\n",
    "Complete the code below. In case it's helpful, here is the table of available arithmetic operations:\n",
    "\n",
    "\n",
    "\n",
    "| Operator     | Name           | Description                                            |\n",
    "|--------------|----------------|--------------------------------------------------------|\n",
    "| ``a + b``    | Addition       | Sum of ``a`` and ``b``                                 |\n",
    "| ``a - b``    | Subtraction    | Difference of ``a`` and ``b``                          |\n",
    "| ``a * b``    | Multiplication | Product of ``a`` and ``b``                             |\n",
    "| ``a / b``    | True division  | Quotient of ``a`` and ``b``                            |\n",
    "| ``a // b``   | Floor division | Quotient of ``a`` and ``b``, removing fractional parts |\n",
    "| ``a % b``    | Modulus        | Integer remainder after division of ``a`` by ``b``     |\n",
    "| ``a ** b``   | Exponentiation | ``a`` raised to the power of ``b``                     |\n",
    "| ``-a``       | Negation       | The negative of ``a``                                  |\n",
    "\n",
    "<span style=\"display:none\"></span>\n"
   ]
  },
  {
   "cell_type": "code",
   "execution_count": 5,
   "id": "8ae432f1",
   "metadata": {
    "execution": {
     "iopub.execute_input": "2025-05-29T19:49:20.866144Z",
     "iopub.status.busy": "2025-05-29T19:49:20.865744Z",
     "iopub.status.idle": "2025-05-29T19:49:20.874554Z",
     "shell.execute_reply": "2025-05-29T19:49:20.873360Z"
    },
    "papermill": {
     "duration": 0.017083,
     "end_time": "2025-05-29T19:49:20.876146",
     "exception": false,
     "start_time": "2025-05-29T19:49:20.859063",
     "status": "completed"
    },
    "tags": []
   },
   "outputs": [
    {
     "data": {
      "application/javascript": [
       "parent.postMessage({\"jupyterEvent\": \"custom.exercise_interaction\", \"data\": {\"outcomeType\": 1, \"valueTowardsCompletion\": 0.25, \"interactionType\": 1, \"questionType\": 1, \"questionId\": \"1_CircleArea\", \"learnToolsVersion\": \"0.3.5\", \"failureMessage\": \"\", \"exceptionClass\": \"\", \"trace\": \"\"}}, \"*\")"
      ],
      "text/plain": [
       "<IPython.core.display.Javascript object>"
      ]
     },
     "metadata": {},
     "output_type": "display_data"
    },
    {
     "data": {
      "text/markdown": [
       "<span style=\"color:#33cc33\">Correct</span>"
      ],
      "text/plain": [
       "Correct"
      ]
     },
     "metadata": {},
     "output_type": "display_data"
    }
   ],
   "source": [
    "pi = 3.14159 # approximate\n",
    "diameter = 3\n",
    "\n",
    "# Create a variable called 'radius' equal to half the diameter\n",
    "____\n",
    "radius = 0.5 * diameter\n",
    "\n",
    "# Create a variable called 'area', using the formula for the area of a circle: pi times the radius squared\n",
    "____\n",
    "area = pi * radius **2\n",
    "# Check your answer\n",
    "q1.check()"
   ]
  },
  {
   "cell_type": "code",
   "execution_count": 6,
   "id": "df68bd82",
   "metadata": {
    "execution": {
     "iopub.execute_input": "2025-05-29T19:49:20.888068Z",
     "iopub.status.busy": "2025-05-29T19:49:20.887705Z",
     "iopub.status.idle": "2025-05-29T19:49:20.892912Z",
     "shell.execute_reply": "2025-05-29T19:49:20.891814Z"
    },
    "papermill": {
     "duration": 0.013366,
     "end_time": "2025-05-29T19:49:20.895031",
     "exception": false,
     "start_time": "2025-05-29T19:49:20.881665",
     "status": "completed"
    },
    "tags": []
   },
   "outputs": [],
   "source": [
    "# Uncomment and run the lines below if you need help.\n",
    "#q1.hint()\n",
    "#q1.solution()"
   ]
  },
  {
   "cell_type": "markdown",
   "id": "1c318686",
   "metadata": {
    "papermill": {
     "duration": 0.004896,
     "end_time": "2025-05-29T19:49:20.905370",
     "exception": false,
     "start_time": "2025-05-29T19:49:20.900474",
     "status": "completed"
    },
    "tags": []
   },
   "source": [
    "<hr/>\n",
    "\n",
    "# 2.\n",
    "\n",
    "Add code to the following cell to swap variables `a` and `b` (so that `a` refers to the object previously referred to by `b` and vice versa)."
   ]
  },
  {
   "cell_type": "code",
   "execution_count": 7,
   "id": "ad18a2e3",
   "metadata": {
    "execution": {
     "iopub.execute_input": "2025-05-29T19:49:20.917840Z",
     "iopub.status.busy": "2025-05-29T19:49:20.917480Z",
     "iopub.status.idle": "2025-05-29T19:49:20.926292Z",
     "shell.execute_reply": "2025-05-29T19:49:20.925231Z"
    },
    "papermill": {
     "duration": 0.017118,
     "end_time": "2025-05-29T19:49:20.927978",
     "exception": false,
     "start_time": "2025-05-29T19:49:20.910860",
     "status": "completed"
    },
    "tags": []
   },
   "outputs": [
    {
     "data": {
      "application/javascript": [
       "parent.postMessage({\"jupyterEvent\": \"custom.exercise_interaction\", \"data\": {\"outcomeType\": 1, \"valueTowardsCompletion\": 0.25, \"interactionType\": 1, \"questionType\": 2, \"questionId\": \"2_VariableSwap\", \"learnToolsVersion\": \"0.3.5\", \"failureMessage\": \"\", \"exceptionClass\": \"\", \"trace\": \"\"}}, \"*\")"
      ],
      "text/plain": [
       "<IPython.core.display.Javascript object>"
      ]
     },
     "metadata": {},
     "output_type": "display_data"
    },
    {
     "data": {
      "text/markdown": [
       "<span style=\"color:#33cc33\">Correct:</span> \n",
       "\n",
       "The most straightforward solution is to use a third variable to temporarily store one of the old values. e.g.:\n",
       "\n",
       "    tmp = a\n",
       "    a = b\n",
       "    b = tmp\n",
       "\n",
       "If you've read lots of Python code, you might have seen the following trick to swap two variables in one line:\n",
       "\n",
       "    a, b = b, a\n",
       "\n",
       "We'll demystify this bit of Python magic later when we talk about *tuples*."
      ],
      "text/plain": [
       "Correct: \n",
       "\n",
       "The most straightforward solution is to use a third variable to temporarily store one of the old values. e.g.:\n",
       "\n",
       "    tmp = a\n",
       "    a = b\n",
       "    b = tmp\n",
       "\n",
       "If you've read lots of Python code, you might have seen the following trick to swap two variables in one line:\n",
       "\n",
       "    a, b = b, a\n",
       "\n",
       "We'll demystify this bit of Python magic later when we talk about *tuples*."
      ]
     },
     "metadata": {},
     "output_type": "display_data"
    }
   ],
   "source": [
    "########### Setup code - don't touch this part ######################\n",
    "# If you're curious, these are examples of lists. We'll talk about \n",
    "# them in depth a few lessons from now. For now, just know that they're\n",
    "# yet another type of Python object, like int or float.\n",
    "a = [1, 2, 3]\n",
    "b = [3, 2, 1]\n",
    "q2.store_original_ids()\n",
    "######################################################################\n",
    "\n",
    "# Your code goes here. Swap the values to which a and b refer.\n",
    "# If you get stuck, you can always uncomment one or both of the lines in\n",
    "# the next cell for a hint, or to peek at the solution.\n",
    "\n",
    "######################################################################\n",
    "c = []\n",
    "\n",
    "c = a\n",
    "a = b\n",
    "b = c\n",
    "\n",
    "\n",
    "\n",
    "\n",
    "# Check your answer\n",
    "q2.check()"
   ]
  },
  {
   "cell_type": "code",
   "execution_count": 8,
   "id": "f4c6b219",
   "metadata": {
    "execution": {
     "iopub.execute_input": "2025-05-29T19:49:20.940378Z",
     "iopub.status.busy": "2025-05-29T19:49:20.940046Z",
     "iopub.status.idle": "2025-05-29T19:49:20.944791Z",
     "shell.execute_reply": "2025-05-29T19:49:20.943633Z"
    },
    "papermill": {
     "duration": 0.012811,
     "end_time": "2025-05-29T19:49:20.946449",
     "exception": false,
     "start_time": "2025-05-29T19:49:20.933638",
     "status": "completed"
    },
    "tags": []
   },
   "outputs": [],
   "source": [
    "#q2.hint()"
   ]
  },
  {
   "cell_type": "code",
   "execution_count": 9,
   "id": "f3d62673",
   "metadata": {
    "execution": {
     "iopub.execute_input": "2025-05-29T19:49:20.958836Z",
     "iopub.status.busy": "2025-05-29T19:49:20.958499Z",
     "iopub.status.idle": "2025-05-29T19:49:20.963409Z",
     "shell.execute_reply": "2025-05-29T19:49:20.962076Z"
    },
    "papermill": {
     "duration": 0.01396,
     "end_time": "2025-05-29T19:49:20.965868",
     "exception": false,
     "start_time": "2025-05-29T19:49:20.951908",
     "status": "completed"
    },
    "tags": []
   },
   "outputs": [],
   "source": [
    "#q2.solution()"
   ]
  },
  {
   "cell_type": "markdown",
   "id": "ec167c06",
   "metadata": {
    "papermill": {
     "duration": 0.005068,
     "end_time": "2025-05-29T19:49:20.976454",
     "exception": false,
     "start_time": "2025-05-29T19:49:20.971386",
     "status": "completed"
    },
    "tags": []
   },
   "source": [
    "<hr/>\n",
    "\n",
    "# 3a.\n",
    "\n",
    "Add parentheses to the following expression so that it evaluates to 1."
   ]
  },
  {
   "cell_type": "code",
   "execution_count": 10,
   "id": "26d37265",
   "metadata": {
    "execution": {
     "iopub.execute_input": "2025-05-29T19:49:20.989268Z",
     "iopub.status.busy": "2025-05-29T19:49:20.988908Z",
     "iopub.status.idle": "2025-05-29T19:49:20.994882Z",
     "shell.execute_reply": "2025-05-29T19:49:20.993971Z"
    },
    "papermill": {
     "duration": 0.014243,
     "end_time": "2025-05-29T19:49:20.996862",
     "exception": false,
     "start_time": "2025-05-29T19:49:20.982619",
     "status": "completed"
    },
    "tags": []
   },
   "outputs": [
    {
     "data": {
      "text/plain": [
       "1"
      ]
     },
     "execution_count": 10,
     "metadata": {},
     "output_type": "execute_result"
    }
   ],
   "source": [
    "(5 - 3) // 2"
   ]
  },
  {
   "cell_type": "code",
   "execution_count": 11,
   "id": "d980fbef",
   "metadata": {
    "execution": {
     "iopub.execute_input": "2025-05-29T19:49:21.009982Z",
     "iopub.status.busy": "2025-05-29T19:49:21.009628Z",
     "iopub.status.idle": "2025-05-29T19:49:21.013988Z",
     "shell.execute_reply": "2025-05-29T19:49:21.013034Z"
    },
    "papermill": {
     "duration": 0.013273,
     "end_time": "2025-05-29T19:49:21.016239",
     "exception": false,
     "start_time": "2025-05-29T19:49:21.002966",
     "status": "completed"
    },
    "tags": []
   },
   "outputs": [],
   "source": [
    "#q3.a.hint()"
   ]
  },
  {
   "cell_type": "code",
   "execution_count": 12,
   "id": "439b5df6",
   "metadata": {
    "execution": {
     "iopub.execute_input": "2025-05-29T19:49:21.031043Z",
     "iopub.status.busy": "2025-05-29T19:49:21.030295Z",
     "iopub.status.idle": "2025-05-29T19:49:21.040691Z",
     "shell.execute_reply": "2025-05-29T19:49:21.039455Z"
    },
    "papermill": {
     "duration": 0.020019,
     "end_time": "2025-05-29T19:49:21.042938",
     "exception": false,
     "start_time": "2025-05-29T19:49:21.022919",
     "status": "completed"
    },
    "tags": []
   },
   "outputs": [
    {
     "data": {
      "application/javascript": [
       "parent.postMessage({\"jupyterEvent\": \"custom.exercise_interaction\", \"data\": {\"interactionType\": 3, \"questionType\": 4, \"questionId\": \"3.1_ArithmeticParensEasy\", \"learnToolsVersion\": \"0.3.5\", \"valueTowardsCompletion\": 0.0, \"failureMessage\": \"\", \"exceptionClass\": \"\", \"trace\": \"\", \"outcomeType\": 4}}, \"*\")"
      ],
      "text/plain": [
       "<IPython.core.display.Javascript object>"
      ]
     },
     "metadata": {},
     "output_type": "display_data"
    },
    {
     "data": {
      "text/markdown": [
       "<span style=\"color:#33cc99\">Solution:</span> \n",
       "```python\n",
       "(5 - 3) // 2\n",
       "```"
      ],
      "text/plain": [
       "Solution: \n",
       "```python\n",
       "(5 - 3) // 2\n",
       "```"
      ]
     },
     "metadata": {},
     "output_type": "display_data"
    }
   ],
   "source": [
    "# Check your answer (Run this code cell to receive credit!)\n",
    "q3.a.solution()"
   ]
  },
  {
   "cell_type": "markdown",
   "id": "4fc1d2b8",
   "metadata": {
    "papermill": {
     "duration": 0.010416,
     "end_time": "2025-05-29T19:49:21.065031",
     "exception": false,
     "start_time": "2025-05-29T19:49:21.054615",
     "status": "completed"
    },
    "tags": []
   },
   "source": [
    "# 3b.  <span title=\"A bit spicy\" style=\"color: darkgreen \">🌶️</span>\n",
    "\n",
    "<small>Questions, like this one, marked a spicy pepper are a bit harder.</small>\n",
    "\n",
    "Add parentheses to the following expression so that it evaluates to 0."
   ]
  },
  {
   "cell_type": "code",
   "execution_count": 13,
   "id": "eb4df8ba",
   "metadata": {
    "execution": {
     "iopub.execute_input": "2025-05-29T19:49:21.081122Z",
     "iopub.status.busy": "2025-05-29T19:49:21.080693Z",
     "iopub.status.idle": "2025-05-29T19:49:21.091073Z",
     "shell.execute_reply": "2025-05-29T19:49:21.089775Z"
    },
    "papermill": {
     "duration": 0.02232,
     "end_time": "2025-05-29T19:49:21.094277",
     "exception": false,
     "start_time": "2025-05-29T19:49:21.071957",
     "status": "completed"
    },
    "tags": []
   },
   "outputs": [
    {
     "data": {
      "text/plain": [
       "0"
      ]
     },
     "execution_count": 13,
     "metadata": {},
     "output_type": "execute_result"
    }
   ],
   "source": [
    "(8 - 3) * (2 - (1 + 1))"
   ]
  },
  {
   "cell_type": "code",
   "execution_count": 14,
   "id": "063558be",
   "metadata": {
    "execution": {
     "iopub.execute_input": "2025-05-29T19:49:21.108669Z",
     "iopub.status.busy": "2025-05-29T19:49:21.108350Z",
     "iopub.status.idle": "2025-05-29T19:49:21.112725Z",
     "shell.execute_reply": "2025-05-29T19:49:21.111768Z"
    },
    "papermill": {
     "duration": 0.012885,
     "end_time": "2025-05-29T19:49:21.114285",
     "exception": false,
     "start_time": "2025-05-29T19:49:21.101400",
     "status": "completed"
    },
    "tags": []
   },
   "outputs": [],
   "source": [
    "#q3.b.hint()"
   ]
  },
  {
   "cell_type": "code",
   "execution_count": 15,
   "id": "fe5d2f24",
   "metadata": {
    "execution": {
     "iopub.execute_input": "2025-05-29T19:49:21.127778Z",
     "iopub.status.busy": "2025-05-29T19:49:21.127373Z",
     "iopub.status.idle": "2025-05-29T19:49:21.135100Z",
     "shell.execute_reply": "2025-05-29T19:49:21.134278Z"
    },
    "papermill": {
     "duration": 0.016156,
     "end_time": "2025-05-29T19:49:21.136657",
     "exception": false,
     "start_time": "2025-05-29T19:49:21.120501",
     "status": "completed"
    },
    "tags": []
   },
   "outputs": [
    {
     "data": {
      "application/javascript": [
       "parent.postMessage({\"jupyterEvent\": \"custom.exercise_interaction\", \"data\": {\"interactionType\": 3, \"questionType\": 4, \"questionId\": \"3.2_ArithmeticParensHard\", \"learnToolsVersion\": \"0.3.5\", \"valueTowardsCompletion\": 0.0, \"failureMessage\": \"\", \"exceptionClass\": \"\", \"trace\": \"\", \"outcomeType\": 4}}, \"*\")"
      ],
      "text/plain": [
       "<IPython.core.display.Javascript object>"
      ]
     },
     "metadata": {},
     "output_type": "display_data"
    },
    {
     "data": {
      "text/markdown": [
       "<span style=\"color:#33cc99\">Solution:</span> `(8 - 3) * (2 - (1 + 1))` is one solution. There may be others."
      ],
      "text/plain": [
       "Solution: `(8 - 3) * (2 - (1 + 1))` is one solution. There may be others."
      ]
     },
     "metadata": {},
     "output_type": "display_data"
    }
   ],
   "source": [
    "# Check your answer (Run this code cell to receive credit!)\n",
    "q3.b.solution()"
   ]
  },
  {
   "cell_type": "markdown",
   "id": "7c7de099",
   "metadata": {
    "papermill": {
     "duration": 0.005751,
     "end_time": "2025-05-29T19:49:21.148531",
     "exception": false,
     "start_time": "2025-05-29T19:49:21.142780",
     "status": "completed"
    },
    "tags": []
   },
   "source": [
    "<hr/>\n",
    "\n",
    "# 4. \n",
    "Alice, Bob and Carol have agreed to pool their Halloween candy and split it evenly among themselves.\n",
    "For the sake of their friendship, any candies left over will be smashed. For example, if they collectively\n",
    "bring home 91 candies, they'll take 30 each and smash 1.\n",
    "\n",
    "Write an arithmetic expression below to calculate how many candies they must smash for a given haul."
   ]
  },
  {
   "cell_type": "code",
   "execution_count": 16,
   "id": "209e5d67",
   "metadata": {
    "execution": {
     "iopub.execute_input": "2025-05-29T19:49:21.167578Z",
     "iopub.status.busy": "2025-05-29T19:49:21.166579Z",
     "iopub.status.idle": "2025-05-29T19:49:21.176787Z",
     "shell.execute_reply": "2025-05-29T19:49:21.175761Z"
    },
    "papermill": {
     "duration": 0.021601,
     "end_time": "2025-05-29T19:49:21.178441",
     "exception": false,
     "start_time": "2025-05-29T19:49:21.156840",
     "status": "completed"
    },
    "tags": []
   },
   "outputs": [
    {
     "data": {
      "application/javascript": [
       "parent.postMessage({\"jupyterEvent\": \"custom.exercise_interaction\", \"data\": {\"outcomeType\": 1, \"valueTowardsCompletion\": 0.25, \"interactionType\": 1, \"questionType\": 1, \"questionId\": \"4_CandySplitting\", \"learnToolsVersion\": \"0.3.5\", \"failureMessage\": \"\", \"exceptionClass\": \"\", \"trace\": \"\"}}, \"*\")"
      ],
      "text/plain": [
       "<IPython.core.display.Javascript object>"
      ]
     },
     "metadata": {},
     "output_type": "display_data"
    },
    {
     "data": {
      "text/markdown": [
       "<span style=\"color:#33cc33\">Correct</span>"
      ],
      "text/plain": [
       "Correct"
      ]
     },
     "metadata": {},
     "output_type": "display_data"
    }
   ],
   "source": [
    "# Variables representing the number of candies collected by alice, bob, and carol\n",
    "alice_candies = 121\n",
    "bob_candies = 77\n",
    "carol_candies = 109\n",
    "\n",
    "# Your code goes here! Replace the right-hand side of this assignment with an expression\n",
    "# involving alice_candies, bob_candies, and carol_candies\n",
    "\n",
    "total_candies = ((alice_candies + carol_candies + bob_candies))\n",
    "to_smash = total_candies%3\n",
    "# Check your answer\n",
    "q4.check()"
   ]
  },
  {
   "cell_type": "code",
   "execution_count": 17,
   "id": "919a204f",
   "metadata": {
    "execution": {
     "iopub.execute_input": "2025-05-29T19:49:21.196170Z",
     "iopub.status.busy": "2025-05-29T19:49:21.195620Z",
     "iopub.status.idle": "2025-05-29T19:49:21.201659Z",
     "shell.execute_reply": "2025-05-29T19:49:21.200395Z"
    },
    "papermill": {
     "duration": 0.018957,
     "end_time": "2025-05-29T19:49:21.204474",
     "exception": false,
     "start_time": "2025-05-29T19:49:21.185517",
     "status": "completed"
    },
    "tags": []
   },
   "outputs": [],
   "source": [
    "#q4.hint()\n",
    "#q4.solution()"
   ]
  },
  {
   "cell_type": "markdown",
   "id": "0d6c7a88",
   "metadata": {
    "papermill": {
     "duration": 0.007121,
     "end_time": "2025-05-29T19:49:21.223932",
     "exception": false,
     "start_time": "2025-05-29T19:49:21.216811",
     "status": "completed"
    },
    "tags": []
   },
   "source": [
    "# Keep Going\n",
    "\n",
    "Next up, you'll **[learn to write new functions and understand functions others write](https://www.kaggle.com/colinmorris/functions-and-getting-help)**. This will make you at least 10 times more productive as a Python programmer. "
   ]
  },
  {
   "cell_type": "markdown",
   "id": "c37e3d71",
   "metadata": {
    "papermill": {
     "duration": 0.009336,
     "end_time": "2025-05-29T19:49:21.240769",
     "exception": false,
     "start_time": "2025-05-29T19:49:21.231433",
     "status": "completed"
    },
    "tags": []
   },
   "source": [
    "---\n",
    "\n",
    "\n",
    "\n",
    "\n",
    "*Have questions or comments? Visit the [course discussion forum](https://www.kaggle.com/learn/python/discussion) to chat with other learners.*"
   ]
  }
 ],
 "metadata": {
  "kaggle": {
   "accelerator": "none",
   "dataSources": [],
   "isGpuEnabled": false,
   "isInternetEnabled": false,
   "language": "python",
   "sourceType": "notebook"
  },
  "kernelspec": {
   "display_name": "Python 3",
   "language": "python",
   "name": "python3"
  },
  "language_info": {
   "codemirror_mode": {
    "name": "ipython",
    "version": 3
   },
   "file_extension": ".py",
   "mimetype": "text/x-python",
   "name": "python",
   "nbconvert_exporter": "python",
   "pygments_lexer": "ipython3",
   "version": "3.11.11"
  },
  "learntools_metadata": {
   "lesson_index": 0,
   "type": "exercise"
  },
  "papermill": {
   "default_parameters": {},
   "duration": 8.890542,
   "end_time": "2025-05-29T19:49:21.773805",
   "environment_variables": {},
   "exception": null,
   "input_path": "__notebook__.ipynb",
   "output_path": "__notebook__.ipynb",
   "parameters": {},
   "start_time": "2025-05-29T19:49:12.883263",
   "version": "2.6.0"
  }
 },
 "nbformat": 4,
 "nbformat_minor": 5
}
