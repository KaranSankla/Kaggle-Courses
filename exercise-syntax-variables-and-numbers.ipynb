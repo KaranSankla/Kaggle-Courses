{
 "cells": [
  {
   "cell_type": "markdown",
   "id": "19b5c655",
   "metadata": {
    "papermill": {
     "duration": 0.005497,
     "end_time": "2025-05-29T19:46:43.522056",
     "exception": false,
     "start_time": "2025-05-29T19:46:43.516559",
     "status": "completed"
    },
    "tags": []
   },
   "source": [
    "**This notebook is an exercise in the [Python](https://www.kaggle.com/learn/python) course.  You can reference the tutorial at [this link](https://www.kaggle.com/colinmorris/hello-python).**\n",
    "\n",
    "---\n"
   ]
  },
  {
   "cell_type": "markdown",
   "id": "c5e772d6",
   "metadata": {
    "papermill": {
     "duration": 0.004095,
     "end_time": "2025-05-29T19:46:43.530802",
     "exception": false,
     "start_time": "2025-05-29T19:46:43.526707",
     "status": "completed"
    },
    "tags": []
   },
   "source": [
    "Welcome to your first set of Python coding problems.  If this is your first time using Kaggle Notebooks, welcome! \n",
    "\n",
    "Notebooks are composed of blocks (called \"cells\") of text and code. Each of these is editable, though you'll mainly be editing the code cells to answer some questions.\n",
    "\n",
    "To get started, try running the code cell below (by pressing the ► button, or clicking on the cell and pressing ctrl+enter on your keyboard)."
   ]
  },
  {
   "cell_type": "code",
   "execution_count": 1,
   "id": "3ea26558",
   "metadata": {
    "execution": {
     "iopub.execute_input": "2025-05-29T19:46:43.541170Z",
     "iopub.status.busy": "2025-05-29T19:46:43.540317Z",
     "iopub.status.idle": "2025-05-29T19:46:43.548111Z",
     "shell.execute_reply": "2025-05-29T19:46:43.547178Z"
    },
    "papermill": {
     "duration": 0.014638,
     "end_time": "2025-05-29T19:46:43.549721",
     "exception": false,
     "start_time": "2025-05-29T19:46:43.535083",
     "status": "completed"
    },
    "tags": []
   },
   "outputs": [
    {
     "name": "stdout",
     "output_type": "stream",
     "text": [
      "You've successfully run some Python code\n",
      "Congratulations!\n",
      "I did it\n"
     ]
    }
   ],
   "source": [
    "print(\"You've successfully run some Python code\")\n",
    "print(\"Congratulations!\")\n",
    "print('I did it')"
   ]
  },
  {
   "cell_type": "markdown",
   "id": "09353c58",
   "metadata": {
    "papermill": {
     "duration": 0.004164,
     "end_time": "2025-05-29T19:46:43.558486",
     "exception": false,
     "start_time": "2025-05-29T19:46:43.554322",
     "status": "completed"
    },
    "tags": []
   },
   "source": [
    "Try adding another line of code in the cell above and re-running it. \n",
    "\n",
    "Now let's get a little fancier:  Add a new code cell by clicking on an existing code cell, hitting the escape key, and then hitting the `a` or `b` key.  The `a` key will add a cell above the current cell, and `b` adds a cell below.\n",
    "\n",
    "Great! Now you know how to use Notebooks.\n",
    "\n",
    "Each hands-on exercise starts by setting up our feedback and code checking mechanism. Run the code cell below to do that. Then you'll be ready to move on to question 0."
   ]
  },
  {
   "cell_type": "code",
   "execution_count": 2,
   "id": "0048e3a0",
   "metadata": {
    "_kg_hide-input": true,
    "_kg_hide-output": true,
    "execution": {
     "iopub.execute_input": "2025-05-29T19:46:43.568528Z",
     "iopub.status.busy": "2025-05-29T19:46:43.568224Z",
     "iopub.status.idle": "2025-05-29T19:46:45.425561Z",
     "shell.execute_reply": "2025-05-29T19:46:45.424708Z"
    },
    "papermill": {
     "duration": 1.864178,
     "end_time": "2025-05-29T19:46:45.427023",
     "exception": false,
     "start_time": "2025-05-29T19:46:43.562845",
     "status": "completed"
    },
    "tags": []
   },
   "outputs": [
    {
     "name": "stdout",
     "output_type": "stream",
     "text": [
      "Setup complete! You're ready to start question 0.\n"
     ]
    }
   ],
   "source": [
    "from learntools.core import binder; binder.bind(globals())\n",
    "from learntools.python.ex1 import *\n",
    "print(\"Setup complete! You're ready to start question 0.\")"
   ]
  },
  {
   "cell_type": "markdown",
   "id": "fd0948b0",
   "metadata": {
    "papermill": {
     "duration": 0.004252,
     "end_time": "2025-05-29T19:46:45.435768",
     "exception": false,
     "start_time": "2025-05-29T19:46:45.431516",
     "status": "completed"
    },
    "tags": []
   },
   "source": [
    "# 0.\n",
    "\n",
    "*This is a silly question intended as an introduction to the format we use for hands-on exercises throughout all Kaggle courses.*\n",
    "\n",
    "**What is your favorite color? **\n",
    "\n",
    "To complete this question, create a variable called `color` in the cell below with an appropriate value. The function call `q0.check()` (which we've already provided in the cell below) will check your answer."
   ]
  },
  {
   "cell_type": "code",
   "execution_count": 3,
   "id": "a039ae61",
   "metadata": {
    "execution": {
     "iopub.execute_input": "2025-05-29T19:46:45.446233Z",
     "iopub.status.busy": "2025-05-29T19:46:45.445343Z",
     "iopub.status.idle": "2025-05-29T19:46:45.453169Z",
     "shell.execute_reply": "2025-05-29T19:46:45.452296Z"
    },
    "papermill": {
     "duration": 0.014364,
     "end_time": "2025-05-29T19:46:45.454467",
     "exception": false,
     "start_time": "2025-05-29T19:46:45.440103",
     "status": "completed"
    },
    "tags": []
   },
   "outputs": [
    {
     "data": {
      "application/javascript": [
       "parent.postMessage({\"jupyterEvent\": \"custom.exercise_interaction\", \"data\": {\"outcomeType\": 1, \"valueTowardsCompletion\": 0.25, \"interactionType\": 1, \"questionType\": 2, \"questionId\": \"0_ExerciseFormatTutorial\", \"learnToolsVersion\": \"0.3.5\", \"failureMessage\": \"\", \"exceptionClass\": \"\", \"trace\": \"\"}}, \"*\")"
      ],
      "text/plain": [
       "<IPython.core.display.Javascript object>"
      ]
     },
     "metadata": {},
     "output_type": "display_data"
    },
    {
     "data": {
      "text/markdown": [
       "<span style=\"color:#33cc33\">Correct:</span> What?! You got it right without needing a hint or anything? Drats. Well hey, you should still continue to the next step to get some practice asking for a hint and checking solutions. (Even though you obviously don't need any help here.)"
      ],
      "text/plain": [
       "Correct: What?! You got it right without needing a hint or anything? Drats. Well hey, you should still continue to the next step to get some practice asking for a hint and checking solutions. (Even though you obviously don't need any help here.)"
      ]
     },
     "metadata": {},
     "output_type": "display_data"
    }
   ],
   "source": [
    "# create a variable called color with an appropriate value on the line below\n",
    "color = \"blue\"\n",
    "# (Remember, strings in Python must be enclosed in 'single' or \"double\" quotes)\n",
    "\n",
    "# Check your answer\n",
    "q0.check()"
   ]
  },
  {
   "cell_type": "markdown",
   "id": "f70d3582",
   "metadata": {
    "papermill": {
     "duration": 0.004345,
     "end_time": "2025-05-29T19:46:45.463632",
     "exception": false,
     "start_time": "2025-05-29T19:46:45.459287",
     "status": "completed"
    },
    "tags": []
   },
   "source": [
    "Didn't get the right answer? How do you not even know your own favorite color?!\n",
    "\n",
    "Delete the `#` in the line below to make one of the lines run. You can choose between getting a hint or the full answer by choosing which line to remove the `#` from. \n",
    "\n",
    "Removing the `#` is called uncommenting, because it changes that line from a \"comment\" which Python doesn't run to code, which Python does run."
   ]
  },
  {
   "cell_type": "code",
   "execution_count": 4,
   "id": "72788ae0",
   "metadata": {
    "execution": {
     "iopub.execute_input": "2025-05-29T19:46:45.474229Z",
     "iopub.status.busy": "2025-05-29T19:46:45.473835Z",
     "iopub.status.idle": "2025-05-29T19:46:45.477627Z",
     "shell.execute_reply": "2025-05-29T19:46:45.476751Z"
    },
    "papermill": {
     "duration": 0.010856,
     "end_time": "2025-05-29T19:46:45.479209",
     "exception": false,
     "start_time": "2025-05-29T19:46:45.468353",
     "status": "completed"
    },
    "tags": []
   },
   "outputs": [],
   "source": [
    "#q0.hint()\n",
    "#q0.solution()"
   ]
  },
  {
   "cell_type": "markdown",
   "id": "77f69901",
   "metadata": {
    "papermill": {
     "duration": 0.004612,
     "end_time": "2025-05-29T19:46:45.488691",
     "exception": false,
     "start_time": "2025-05-29T19:46:45.484079",
     "status": "completed"
    },
    "tags": []
   },
   "source": [
    "The upcoming questions work the same way. The only thing that will change are the question numbers. For the next question, you'll call `q1.check()`, `q1.hint()`, `q1.solution()`, for question 2, you'll call `q2.check()`, and so on."
   ]
  },
  {
   "cell_type": "markdown",
   "id": "43b81581",
   "metadata": {
    "papermill": {
     "duration": 0.004301,
     "end_time": "2025-05-29T19:46:45.497773",
     "exception": false,
     "start_time": "2025-05-29T19:46:45.493472",
     "status": "completed"
    },
    "tags": []
   },
   "source": [
    "<hr/>\n",
    "\n",
    "# 1.\n",
    "\n",
    "Complete the code below. In case it's helpful, here is the table of available arithmetic operations:\n",
    "\n",
    "\n",
    "\n",
    "| Operator     | Name           | Description                                            |\n",
    "|--------------|----------------|--------------------------------------------------------|\n",
    "| ``a + b``    | Addition       | Sum of ``a`` and ``b``                                 |\n",
    "| ``a - b``    | Subtraction    | Difference of ``a`` and ``b``                          |\n",
    "| ``a * b``    | Multiplication | Product of ``a`` and ``b``                             |\n",
    "| ``a / b``    | True division  | Quotient of ``a`` and ``b``                            |\n",
    "| ``a // b``   | Floor division | Quotient of ``a`` and ``b``, removing fractional parts |\n",
    "| ``a % b``    | Modulus        | Integer remainder after division of ``a`` by ``b``     |\n",
    "| ``a ** b``   | Exponentiation | ``a`` raised to the power of ``b``                     |\n",
    "| ``-a``       | Negation       | The negative of ``a``                                  |\n",
    "\n",
    "<span style=\"display:none\"></span>\n"
   ]
  },
  {
   "cell_type": "code",
   "execution_count": 5,
   "id": "957caf0a",
   "metadata": {
    "execution": {
     "iopub.execute_input": "2025-05-29T19:46:45.509092Z",
     "iopub.status.busy": "2025-05-29T19:46:45.508409Z",
     "iopub.status.idle": "2025-05-29T19:46:45.516260Z",
     "shell.execute_reply": "2025-05-29T19:46:45.515457Z"
    },
    "papermill": {
     "duration": 0.015328,
     "end_time": "2025-05-29T19:46:45.517651",
     "exception": false,
     "start_time": "2025-05-29T19:46:45.502323",
     "status": "completed"
    },
    "tags": []
   },
   "outputs": [
    {
     "data": {
      "application/javascript": [
       "parent.postMessage({\"jupyterEvent\": \"custom.exercise_interaction\", \"data\": {\"outcomeType\": 1, \"valueTowardsCompletion\": 0.25, \"interactionType\": 1, \"questionType\": 1, \"questionId\": \"1_CircleArea\", \"learnToolsVersion\": \"0.3.5\", \"failureMessage\": \"\", \"exceptionClass\": \"\", \"trace\": \"\"}}, \"*\")"
      ],
      "text/plain": [
       "<IPython.core.display.Javascript object>"
      ]
     },
     "metadata": {},
     "output_type": "display_data"
    },
    {
     "data": {
      "text/markdown": [
       "<span style=\"color:#33cc33\">Correct</span>"
      ],
      "text/plain": [
       "Correct"
      ]
     },
     "metadata": {},
     "output_type": "display_data"
    }
   ],
   "source": [
    "pi = 3.14159 # approximate\n",
    "diameter = 3\n",
    "\n",
    "# Create a variable called 'radius' equal to half the diameter\n",
    "____\n",
    "radius = 0.5 * diameter\n",
    "\n",
    "# Create a variable called 'area', using the formula for the area of a circle: pi times the radius squared\n",
    "____\n",
    "area = pi * radius **2\n",
    "# Check your answer\n",
    "q1.check()"
   ]
  },
  {
   "cell_type": "code",
   "execution_count": 6,
   "id": "666e0576",
   "metadata": {
    "execution": {
     "iopub.execute_input": "2025-05-29T19:46:45.529055Z",
     "iopub.status.busy": "2025-05-29T19:46:45.528093Z",
     "iopub.status.idle": "2025-05-29T19:46:45.532428Z",
     "shell.execute_reply": "2025-05-29T19:46:45.531589Z"
    },
    "papermill": {
     "duration": 0.011279,
     "end_time": "2025-05-29T19:46:45.533806",
     "exception": false,
     "start_time": "2025-05-29T19:46:45.522527",
     "status": "completed"
    },
    "tags": []
   },
   "outputs": [],
   "source": [
    "# Uncomment and run the lines below if you need help.\n",
    "#q1.hint()\n",
    "#q1.solution()"
   ]
  },
  {
   "cell_type": "markdown",
   "id": "69f00784",
   "metadata": {
    "papermill": {
     "duration": 0.004557,
     "end_time": "2025-05-29T19:46:45.543424",
     "exception": false,
     "start_time": "2025-05-29T19:46:45.538867",
     "status": "completed"
    },
    "tags": []
   },
   "source": [
    "<hr/>\n",
    "\n",
    "# 2.\n",
    "\n",
    "Add code to the following cell to swap variables `a` and `b` (so that `a` refers to the object previously referred to by `b` and vice versa)."
   ]
  },
  {
   "cell_type": "code",
   "execution_count": 7,
   "id": "691fddaf",
   "metadata": {
    "execution": {
     "iopub.execute_input": "2025-05-29T19:46:45.554169Z",
     "iopub.status.busy": "2025-05-29T19:46:45.553844Z",
     "iopub.status.idle": "2025-05-29T19:46:45.561565Z",
     "shell.execute_reply": "2025-05-29T19:46:45.560783Z"
    },
    "papermill": {
     "duration": 0.014762,
     "end_time": "2025-05-29T19:46:45.563042",
     "exception": false,
     "start_time": "2025-05-29T19:46:45.548280",
     "status": "completed"
    },
    "tags": []
   },
   "outputs": [
    {
     "data": {
      "application/javascript": [
       "parent.postMessage({\"jupyterEvent\": \"custom.exercise_interaction\", \"data\": {\"outcomeType\": 1, \"valueTowardsCompletion\": 0.25, \"interactionType\": 1, \"questionType\": 2, \"questionId\": \"2_VariableSwap\", \"learnToolsVersion\": \"0.3.5\", \"failureMessage\": \"\", \"exceptionClass\": \"\", \"trace\": \"\"}}, \"*\")"
      ],
      "text/plain": [
       "<IPython.core.display.Javascript object>"
      ]
     },
     "metadata": {},
     "output_type": "display_data"
    },
    {
     "data": {
      "text/markdown": [
       "<span style=\"color:#33cc33\">Correct:</span> \n",
       "\n",
       "The most straightforward solution is to use a third variable to temporarily store one of the old values. e.g.:\n",
       "\n",
       "    tmp = a\n",
       "    a = b\n",
       "    b = tmp\n",
       "\n",
       "If you've read lots of Python code, you might have seen the following trick to swap two variables in one line:\n",
       "\n",
       "    a, b = b, a\n",
       "\n",
       "We'll demystify this bit of Python magic later when we talk about *tuples*."
      ],
      "text/plain": [
       "Correct: \n",
       "\n",
       "The most straightforward solution is to use a third variable to temporarily store one of the old values. e.g.:\n",
       "\n",
       "    tmp = a\n",
       "    a = b\n",
       "    b = tmp\n",
       "\n",
       "If you've read lots of Python code, you might have seen the following trick to swap two variables in one line:\n",
       "\n",
       "    a, b = b, a\n",
       "\n",
       "We'll demystify this bit of Python magic later when we talk about *tuples*."
      ]
     },
     "metadata": {},
     "output_type": "display_data"
    }
   ],
   "source": [
    "########### Setup code - don't touch this part ######################\n",
    "# If you're curious, these are examples of lists. We'll talk about \n",
    "# them in depth a few lessons from now. For now, just know that they're\n",
    "# yet another type of Python object, like int or float.\n",
    "a = [1, 2, 3]\n",
    "b = [3, 2, 1]\n",
    "q2.store_original_ids()\n",
    "######################################################################\n",
    "\n",
    "# Your code goes here. Swap the values to which a and b refer.\n",
    "# If you get stuck, you can always uncomment one or both of the lines in\n",
    "# the next cell for a hint, or to peek at the solution.\n",
    "\n",
    "######################################################################\n",
    "c = []\n",
    "\n",
    "c = a\n",
    "a = b\n",
    "b = c\n",
    "\n",
    "\n",
    "\n",
    "\n",
    "# Check your answer\n",
    "q2.check()"
   ]
  },
  {
   "cell_type": "code",
   "execution_count": 8,
   "id": "11d14569",
   "metadata": {
    "execution": {
     "iopub.execute_input": "2025-05-29T19:46:45.574966Z",
     "iopub.status.busy": "2025-05-29T19:46:45.574172Z",
     "iopub.status.idle": "2025-05-29T19:46:45.578333Z",
     "shell.execute_reply": "2025-05-29T19:46:45.577424Z"
    },
    "papermill": {
     "duration": 0.011353,
     "end_time": "2025-05-29T19:46:45.579685",
     "exception": false,
     "start_time": "2025-05-29T19:46:45.568332",
     "status": "completed"
    },
    "tags": []
   },
   "outputs": [],
   "source": [
    "#q2.hint()"
   ]
  },
  {
   "cell_type": "code",
   "execution_count": 9,
   "id": "12a410f6",
   "metadata": {
    "execution": {
     "iopub.execute_input": "2025-05-29T19:46:45.591105Z",
     "iopub.status.busy": "2025-05-29T19:46:45.590774Z",
     "iopub.status.idle": "2025-05-29T19:46:45.594511Z",
     "shell.execute_reply": "2025-05-29T19:46:45.593683Z"
    },
    "papermill": {
     "duration": 0.01104,
     "end_time": "2025-05-29T19:46:45.595941",
     "exception": false,
     "start_time": "2025-05-29T19:46:45.584901",
     "status": "completed"
    },
    "tags": []
   },
   "outputs": [],
   "source": [
    "#q2.solution()"
   ]
  },
  {
   "cell_type": "markdown",
   "id": "b3485f4b",
   "metadata": {
    "papermill": {
     "duration": 0.005394,
     "end_time": "2025-05-29T19:46:45.607682",
     "exception": false,
     "start_time": "2025-05-29T19:46:45.602288",
     "status": "completed"
    },
    "tags": []
   },
   "source": [
    "<hr/>\n",
    "\n",
    "# 3a.\n",
    "\n",
    "Add parentheses to the following expression so that it evaluates to 1."
   ]
  },
  {
   "cell_type": "code",
   "execution_count": 10,
   "id": "e967f29a",
   "metadata": {
    "execution": {
     "iopub.execute_input": "2025-05-29T19:46:45.620264Z",
     "iopub.status.busy": "2025-05-29T19:46:45.619307Z",
     "iopub.status.idle": "2025-05-29T19:46:45.625262Z",
     "shell.execute_reply": "2025-05-29T19:46:45.624535Z"
    },
    "papermill": {
     "duration": 0.013531,
     "end_time": "2025-05-29T19:46:45.626625",
     "exception": false,
     "start_time": "2025-05-29T19:46:45.613094",
     "status": "completed"
    },
    "tags": []
   },
   "outputs": [
    {
     "data": {
      "text/plain": [
       "1"
      ]
     },
     "execution_count": 10,
     "metadata": {},
     "output_type": "execute_result"
    }
   ],
   "source": [
    "(5 - 3) // 2"
   ]
  },
  {
   "cell_type": "code",
   "execution_count": 11,
   "id": "87cb2772",
   "metadata": {
    "execution": {
     "iopub.execute_input": "2025-05-29T19:46:45.638188Z",
     "iopub.status.busy": "2025-05-29T19:46:45.637867Z",
     "iopub.status.idle": "2025-05-29T19:46:45.642160Z",
     "shell.execute_reply": "2025-05-29T19:46:45.641257Z"
    },
    "papermill": {
     "duration": 0.011708,
     "end_time": "2025-05-29T19:46:45.643650",
     "exception": false,
     "start_time": "2025-05-29T19:46:45.631942",
     "status": "completed"
    },
    "tags": []
   },
   "outputs": [],
   "source": [
    "#q3.a.hint()"
   ]
  },
  {
   "cell_type": "code",
   "execution_count": 12,
   "id": "198e2ac9",
   "metadata": {
    "execution": {
     "iopub.execute_input": "2025-05-29T19:46:45.655557Z",
     "iopub.status.busy": "2025-05-29T19:46:45.655016Z",
     "iopub.status.idle": "2025-05-29T19:46:45.661219Z",
     "shell.execute_reply": "2025-05-29T19:46:45.660446Z"
    },
    "papermill": {
     "duration": 0.013584,
     "end_time": "2025-05-29T19:46:45.662599",
     "exception": false,
     "start_time": "2025-05-29T19:46:45.649015",
     "status": "completed"
    },
    "tags": []
   },
   "outputs": [
    {
     "data": {
      "application/javascript": [
       "parent.postMessage({\"jupyterEvent\": \"custom.exercise_interaction\", \"data\": {\"interactionType\": 3, \"questionType\": 4, \"questionId\": \"3.1_ArithmeticParensEasy\", \"learnToolsVersion\": \"0.3.5\", \"valueTowardsCompletion\": 0.0, \"failureMessage\": \"\", \"exceptionClass\": \"\", \"trace\": \"\", \"outcomeType\": 4}}, \"*\")"
      ],
      "text/plain": [
       "<IPython.core.display.Javascript object>"
      ]
     },
     "metadata": {},
     "output_type": "display_data"
    },
    {
     "data": {
      "text/markdown": [
       "<span style=\"color:#33cc99\">Solution:</span> \n",
       "```python\n",
       "(5 - 3) // 2\n",
       "```"
      ],
      "text/plain": [
       "Solution: \n",
       "```python\n",
       "(5 - 3) // 2\n",
       "```"
      ]
     },
     "metadata": {},
     "output_type": "display_data"
    }
   ],
   "source": [
    "# Check your answer (Run this code cell to receive credit!)\n",
    "q3.a.solution()"
   ]
  },
  {
   "cell_type": "markdown",
   "id": "42984b1b",
   "metadata": {
    "papermill": {
     "duration": 0.004928,
     "end_time": "2025-05-29T19:46:45.673464",
     "exception": false,
     "start_time": "2025-05-29T19:46:45.668536",
     "status": "completed"
    },
    "tags": []
   },
   "source": [
    "# 3b.  <span title=\"A bit spicy\" style=\"color: darkgreen \">🌶️</span>\n",
    "\n",
    "<small>Questions, like this one, marked a spicy pepper are a bit harder.</small>\n",
    "\n",
    "Add parentheses to the following expression so that it evaluates to 0."
   ]
  },
  {
   "cell_type": "code",
   "execution_count": 13,
   "id": "51d62697",
   "metadata": {
    "execution": {
     "iopub.execute_input": "2025-05-29T19:46:45.685418Z",
     "iopub.status.busy": "2025-05-29T19:46:45.684630Z",
     "iopub.status.idle": "2025-05-29T19:46:45.689574Z",
     "shell.execute_reply": "2025-05-29T19:46:45.688982Z"
    },
    "papermill": {
     "duration": 0.012076,
     "end_time": "2025-05-29T19:46:45.690752",
     "exception": false,
     "start_time": "2025-05-29T19:46:45.678676",
     "status": "completed"
    },
    "tags": []
   },
   "outputs": [
    {
     "data": {
      "text/plain": [
       "0"
      ]
     },
     "execution_count": 13,
     "metadata": {},
     "output_type": "execute_result"
    }
   ],
   "source": [
    "(8 - 3) * (2 - (1 + 1))"
   ]
  },
  {
   "cell_type": "code",
   "execution_count": 14,
   "id": "47c9c154",
   "metadata": {
    "execution": {
     "iopub.execute_input": "2025-05-29T19:46:45.702832Z",
     "iopub.status.busy": "2025-05-29T19:46:45.702269Z",
     "iopub.status.idle": "2025-05-29T19:46:45.705677Z",
     "shell.execute_reply": "2025-05-29T19:46:45.704979Z"
    },
    "papermill": {
     "duration": 0.011131,
     "end_time": "2025-05-29T19:46:45.707221",
     "exception": false,
     "start_time": "2025-05-29T19:46:45.696090",
     "status": "completed"
    },
    "tags": []
   },
   "outputs": [],
   "source": [
    "#q3.b.hint()"
   ]
  },
  {
   "cell_type": "code",
   "execution_count": 15,
   "id": "34d62c6c",
   "metadata": {
    "execution": {
     "iopub.execute_input": "2025-05-29T19:46:45.719424Z",
     "iopub.status.busy": "2025-05-29T19:46:45.719151Z",
     "iopub.status.idle": "2025-05-29T19:46:45.726159Z",
     "shell.execute_reply": "2025-05-29T19:46:45.725448Z"
    },
    "papermill": {
     "duration": 0.014671,
     "end_time": "2025-05-29T19:46:45.727484",
     "exception": false,
     "start_time": "2025-05-29T19:46:45.712813",
     "status": "completed"
    },
    "tags": []
   },
   "outputs": [
    {
     "data": {
      "application/javascript": [
       "parent.postMessage({\"jupyterEvent\": \"custom.exercise_interaction\", \"data\": {\"interactionType\": 3, \"questionType\": 4, \"questionId\": \"3.2_ArithmeticParensHard\", \"learnToolsVersion\": \"0.3.5\", \"valueTowardsCompletion\": 0.0, \"failureMessage\": \"\", \"exceptionClass\": \"\", \"trace\": \"\", \"outcomeType\": 4}}, \"*\")"
      ],
      "text/plain": [
       "<IPython.core.display.Javascript object>"
      ]
     },
     "metadata": {},
     "output_type": "display_data"
    },
    {
     "data": {
      "text/markdown": [
       "<span style=\"color:#33cc99\">Solution:</span> `(8 - 3) * (2 - (1 + 1))` is one solution. There may be others."
      ],
      "text/plain": [
       "Solution: `(8 - 3) * (2 - (1 + 1))` is one solution. There may be others."
      ]
     },
     "metadata": {},
     "output_type": "display_data"
    }
   ],
   "source": [
    "# Check your answer (Run this code cell to receive credit!)\n",
    "q3.b.solution()"
   ]
  },
  {
   "cell_type": "markdown",
   "id": "e7f157e1",
   "metadata": {
    "papermill": {
     "duration": 0.005438,
     "end_time": "2025-05-29T19:46:45.738614",
     "exception": false,
     "start_time": "2025-05-29T19:46:45.733176",
     "status": "completed"
    },
    "tags": []
   },
   "source": [
    "<hr/>\n",
    "\n",
    "# 4. \n",
    "Alice, Bob and Carol have agreed to pool their Halloween candy and split it evenly among themselves.\n",
    "For the sake of their friendship, any candies left over will be smashed. For example, if they collectively\n",
    "bring home 91 candies, they'll take 30 each and smash 1.\n",
    "\n",
    "Write an arithmetic expression below to calculate how many candies they must smash for a given haul."
   ]
  },
  {
   "cell_type": "code",
   "execution_count": 16,
   "id": "03ce8a8a",
   "metadata": {
    "execution": {
     "iopub.execute_input": "2025-05-29T19:46:45.751079Z",
     "iopub.status.busy": "2025-05-29T19:46:45.750397Z",
     "iopub.status.idle": "2025-05-29T19:46:45.757942Z",
     "shell.execute_reply": "2025-05-29T19:46:45.757181Z"
    },
    "papermill": {
     "duration": 0.015351,
     "end_time": "2025-05-29T19:46:45.759438",
     "exception": false,
     "start_time": "2025-05-29T19:46:45.744087",
     "status": "completed"
    },
    "tags": []
   },
   "outputs": [
    {
     "data": {
      "application/javascript": [
       "parent.postMessage({\"jupyterEvent\": \"custom.exercise_interaction\", \"data\": {\"outcomeType\": 1, \"valueTowardsCompletion\": 0.25, \"interactionType\": 1, \"questionType\": 1, \"questionId\": \"4_CandySplitting\", \"learnToolsVersion\": \"0.3.5\", \"failureMessage\": \"\", \"exceptionClass\": \"\", \"trace\": \"\"}}, \"*\")"
      ],
      "text/plain": [
       "<IPython.core.display.Javascript object>"
      ]
     },
     "metadata": {},
     "output_type": "display_data"
    },
    {
     "data": {
      "text/markdown": [
       "<span style=\"color:#33cc33\">Correct</span>"
      ],
      "text/plain": [
       "Correct"
      ]
     },
     "metadata": {},
     "output_type": "display_data"
    }
   ],
   "source": [
    "# Variables representing the number of candies collected by alice, bob, and carol\n",
    "alice_candies = 121\n",
    "bob_candies = 77\n",
    "carol_candies = 109\n",
    "\n",
    "# Your code goes here! Replace the right-hand side of this assignment with an expression\n",
    "# involving alice_candies, bob_candies, and carol_candies\n",
    "\n",
    "total_candies = ((alice_candies + carol_candies + bob_candies))\n",
    "to_smash = total_candies%3\n",
    "# Check your answer\n",
    "q4.check()"
   ]
  },
  {
   "cell_type": "code",
   "execution_count": 17,
   "id": "2fbdd5f1",
   "metadata": {
    "execution": {
     "iopub.execute_input": "2025-05-29T19:46:45.772441Z",
     "iopub.status.busy": "2025-05-29T19:46:45.772164Z",
     "iopub.status.idle": "2025-05-29T19:46:45.775942Z",
     "shell.execute_reply": "2025-05-29T19:46:45.775039Z"
    },
    "papermill": {
     "duration": 0.011907,
     "end_time": "2025-05-29T19:46:45.777394",
     "exception": false,
     "start_time": "2025-05-29T19:46:45.765487",
     "status": "completed"
    },
    "tags": []
   },
   "outputs": [],
   "source": [
    "#q4.hint()\n",
    "#q4.solution()"
   ]
  },
  {
   "cell_type": "markdown",
   "id": "1ad89358",
   "metadata": {
    "papermill": {
     "duration": 0.005738,
     "end_time": "2025-05-29T19:46:45.789019",
     "exception": false,
     "start_time": "2025-05-29T19:46:45.783281",
     "status": "completed"
    },
    "tags": []
   },
   "source": [
    "# Keep Going\n",
    "\n",
    "Next up, you'll **[learn to write new functions and understand functions others write](https://www.kaggle.com/colinmorris/functions-and-getting-help)**. This will make you at least 10 times more productive as a Python programmer. "
   ]
  },
  {
   "cell_type": "markdown",
   "id": "e907976b",
   "metadata": {
    "papermill": {
     "duration": 0.005518,
     "end_time": "2025-05-29T19:46:45.800255",
     "exception": false,
     "start_time": "2025-05-29T19:46:45.794737",
     "status": "completed"
    },
    "tags": []
   },
   "source": [
    "---\n",
    "\n",
    "\n",
    "\n",
    "\n",
    "*Have questions or comments? Visit the [course discussion forum](https://www.kaggle.com/learn/python/discussion) to chat with other learners.*"
   ]
  }
 ],
 "metadata": {
  "kaggle": {
   "accelerator": "none",
   "dataSources": [],
   "isGpuEnabled": false,
   "isInternetEnabled": false,
   "language": "python",
   "sourceType": "notebook"
  },
  "kernelspec": {
   "display_name": "Python 3",
   "language": "python",
   "name": "python3"
  },
  "language_info": {
   "codemirror_mode": {
    "name": "ipython",
    "version": 3
   },
   "file_extension": ".py",
   "mimetype": "text/x-python",
   "name": "python",
   "nbconvert_exporter": "python",
   "pygments_lexer": "ipython3",
   "version": "3.11.11"
  },
  "learntools_metadata": {
   "lesson_index": 0,
   "type": "exercise"
  },
  "papermill": {
   "default_parameters": {},
   "duration": 7.46067,
   "end_time": "2025-05-29T19:46:46.325206",
   "environment_variables": {},
   "exception": null,
   "input_path": "__notebook__.ipynb",
   "output_path": "__notebook__.ipynb",
   "parameters": {},
   "start_time": "2025-05-29T19:46:38.864536",
   "version": "2.6.0"
  }
 },
 "nbformat": 4,
 "nbformat_minor": 5
}
